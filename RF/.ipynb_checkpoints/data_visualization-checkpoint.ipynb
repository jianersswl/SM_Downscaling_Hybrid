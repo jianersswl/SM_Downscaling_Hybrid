{
 "cells": [
  {
   "cell_type": "code",
   "execution_count": 1,
   "id": "b274177c",
   "metadata": {},
   "outputs": [
    {
     "ename": "ModuleNotFoundError",
     "evalue": "No module named 'SMCNN'",
     "output_type": "error",
     "traceback": [
      "\u001b[1;31m---------------------------------------------------------------------------\u001b[0m",
      "\u001b[1;31mModuleNotFoundError\u001b[0m                       Traceback (most recent call last)",
      "\u001b[1;32m~\\AppData\\Local\\Temp/ipykernel_10836/1854675750.py\u001b[0m in \u001b[0;36m<module>\u001b[1;34m\u001b[0m\n\u001b[0;32m     11\u001b[0m \u001b[1;31m# Self-Defined Package\u001b[0m\u001b[1;33m\u001b[0m\u001b[1;33m\u001b[0m\u001b[1;33m\u001b[0m\u001b[0m\n\u001b[0;32m     12\u001b[0m \u001b[1;32mfrom\u001b[0m \u001b[0mSMAPDataset\u001b[0m \u001b[1;32mimport\u001b[0m \u001b[0mSMAPDataset\u001b[0m\u001b[1;33m\u001b[0m\u001b[1;33m\u001b[0m\u001b[0m\n\u001b[1;32m---> 13\u001b[1;33m \u001b[1;32mfrom\u001b[0m \u001b[0mSMCNN\u001b[0m \u001b[1;32mimport\u001b[0m \u001b[0mSMCNN\u001b[0m\u001b[1;33m\u001b[0m\u001b[1;33m\u001b[0m\u001b[0m\n\u001b[0m\u001b[0;32m     14\u001b[0m \u001b[1;32mfrom\u001b[0m \u001b[0mSDLoss\u001b[0m \u001b[1;32mimport\u001b[0m \u001b[0mphysics_loss\u001b[0m\u001b[1;33m\u001b[0m\u001b[1;33m\u001b[0m\u001b[0m\n\u001b[0;32m     15\u001b[0m \u001b[1;32mfrom\u001b[0m \u001b[0mPreprocessing\u001b[0m \u001b[1;32mimport\u001b[0m \u001b[0mrandom_spatial_sequence\u001b[0m\u001b[1;33m,\u001b[0m \u001b[0mcollate_fn\u001b[0m\u001b[1;33m\u001b[0m\u001b[1;33m\u001b[0m\u001b[0m\n",
      "\u001b[1;31mModuleNotFoundError\u001b[0m: No module named 'SMCNN'"
     ]
    }
   ],
   "source": [
    "# Reading/Writing Data\n",
    "import os\n",
    "import glob\n",
    "import numpy as np\n",
    "import math \n",
    "\n",
    "# Pytorch\n",
    "import torch \n",
    "from torch.utils.data import Subset, DataLoader\n",
    "\n",
    "# Self-Defined Package\n",
    "from SMAPDataset import SMAPDataset\n",
    "from SMCNN import SMCNN\n",
    "from SDLoss import physics_loss\n",
    "from Preprocessing import random_spatial_sequence, collate_fn"
   ]
  },
  {
   "cell_type": "markdown",
   "id": "39445932",
   "metadata": {},
   "source": [
    "# Some Utility Functions"
   ]
  },
  {
   "cell_type": "code",
   "execution_count": null,
   "id": "826f3085",
   "metadata": {},
   "outputs": [],
   "source": [
    "def same_seed(seed): \n",
    "    '''Fixes random number generator seeds for reproducibility.'''\n",
    "    torch.backends.cudnn.deterministic = True\n",
    "    torch.backends.cudnn.benchmark = False\n",
    "    np.random.seed(seed)\n",
    "    torch.manual_seed(seed)\n",
    "    if torch.cuda.is_available():\n",
    "        torch.cuda.manual_seed_all(seed)"
   ]
  },
  {
   "cell_type": "markdown",
   "id": "45c48f4e",
   "metadata": {},
   "source": [
    "# Configurations\n",
    "`config` contains hyper-parameters for training and the path to save your model."
   ]
  },
  {
   "cell_type": "code",
   "execution_count": null,
   "id": "ffbf86ae",
   "metadata": {},
   "outputs": [],
   "source": [
    "device = 'cuda' if torch.cuda.is_available() else 'cpu'\n",
    "config = {\n",
    "    'seed': 5201314,      # Your seed number, you can pick your lucky number. :)\n",
    "    'test_ratio': 0,\n",
    "    'root': 'D:\\\\1GRADUATED\\\\paper\\\\downscaling_data\\\\Soil_moisture_downscale_czt\\\\DATASET\\\\'\n",
    "}"
   ]
  },
  {
   "cell_type": "markdown",
   "id": "2c2f4137",
   "metadata": {},
   "source": [
    "# Dataloader\n",
    "Read data from files and set up training, validation, and testing sets."
   ]
  },
  {
   "cell_type": "code",
   "execution_count": null,
   "id": "961f37da",
   "metadata": {},
   "outputs": [],
   "source": [
    "# # Set seed for reproducibility\n",
    "same_seed(config['seed'])"
   ]
  },
  {
   "cell_type": "code",
   "execution_count": null,
   "id": "e4a2ebcb",
   "metadata": {},
   "outputs": [],
   "source": [
    "train_sequence = {}\n",
    "test_sequence = {}\n",
    "s2s_dir = config['root'] + 'LABEL\\\\SMAPID2INSITUID'\n",
    "subdir_list = sorted(os.listdir(s2s_dir))\n",
    "\n",
    "# 遍历指定路径下的所有子目录\n",
    "for subdir in subdir_list:\n",
    "    subdir_path = os.path.join(s2s_dir, subdir)\n",
    "    if os.path.isdir(subdir_path):\n",
    "        # 如果子目录是目录而不是文件，则将子目录加入字典\n",
    "        full_spatial_sequence_smap = sorted([int(f.split('.')[0]) for f in os.listdir(subdir_path) if f.endswith('.npy')]) # !!!! read out of order\n",
    "        print(len(full_spatial_sequence_smap), 'of Full Spatial Sequence for', subdir, ':')\n",
    "        print(full_spatial_sequence_smap)\n",
    "        \n",
    "        # Split the train\\valid\\test dataset by spatial dimension\n",
    "        train_sequence[subdir], test_sequence[subdir] = random_spatial_sequence(1-config['test_ratio'], full_spatial_sequence_smap)"
   ]
  },
  {
   "cell_type": "code",
   "execution_count": null,
   "id": "3b8a8be5",
   "metadata": {},
   "outputs": [],
   "source": [
    "# Initialize the dataset\n",
    "train_dataset = SMAPDataset(config['root'], train_sequence)"
   ]
  },
  {
   "cell_type": "code",
   "execution_count": null,
   "id": "5d3b7c1a",
   "metadata": {},
   "outputs": [],
   "source": [
    "train_dataset.__len__()"
   ]
  },
  {
   "cell_type": "code",
   "execution_count": null,
   "id": "f77cb794",
   "metadata": {},
   "outputs": [],
   "source": [
    "process_data = [x['processed_data'] for x in train_dataset]\n",
    "label_data = [x['label_data'] for x in train_dataset]\n",
    "meta_data = [x['meta_data'] for x in train_dataset]"
   ]
  },
  {
   "cell_type": "markdown",
   "id": "34e24159",
   "metadata": {},
   "source": [
    "# Dataset Checking Manually"
   ]
  },
  {
   "cell_type": "code",
   "execution_count": null,
   "id": "64767b21",
   "metadata": {},
   "outputs": [],
   "source": [
    "date = [x['date'] for x in meta_data]\n",
    "smapid = [x['smapid'] for x in meta_data]\n",
    "insituid = [x['insituid'] for x in meta_data]"
   ]
  },
  {
   "cell_type": "code",
   "execution_count": null,
   "id": "ebaca2bb",
   "metadata": {},
   "outputs": [],
   "source": [
    "import random\n",
    "\n",
    "start = 1\n",
    "end = 409\n",
    "num_samples = 1\n",
    "\n",
    "samples = np.random.randint(start, end+1, size=num_samples)\n",
    "print(samples)"
   ]
  },
  {
   "cell_type": "code",
   "execution_count": null,
   "id": "d4a3a427",
   "metadata": {},
   "outputs": [],
   "source": [
    "import datetime\n",
    "\n",
    "# The index of day start from 1\n",
    "# day 从 1 开始\n",
    "def date2day(date, fm=\"%Y-%m-%d\"):\n",
    "    date_object = datetime.datetime.strptime(date, fm)\n",
    "    day_of_year = date_object.timetuple().tm_yday\n",
    "    return day_of_year\n",
    "\n",
    "def day2date(year, day):\n",
    "    date = datetime.datetime(year, 1, 1) + datetime.timedelta(day - 1)\n",
    "    month = date.month\n",
    "    day = date.day\n",
    "    return date"
   ]
  },
  {
   "cell_type": "code",
   "execution_count": null,
   "id": "d47b8053",
   "metadata": {},
   "outputs": [],
   "source": [
    "for i in samples:\n",
    "    day = date[i].split('2015')[-1]\n",
    "    year = date[i].split(day)[0]\n",
    "    _date = day2date(int(year), int(day)).strftime(\"%Y-%m-%d\")\n",
    "    print('日期：{} {}'.format(_date, date[i]))\n",
    "    print('SMAPID：{}'.format(smapid[i]))\n",
    "    print('smap_norm：{}'.format([process_data[i][0][0][0]]))\n",
    "    print('len of list：{} {}'.format(len(insituid[i]), len(label_data[i])))\n",
    "    for j in range(len(insituid[i])):\n",
    "        print('站点ID：{}'.format(insituid[i][j]))\n",
    "        print('sm：{}'.format(label_data[i][j][0]))\n",
    "        print('smap_unorm：{}'.format(label_data[i][j][1]))\n",
    "        print('ati, atim, atisd：{}'.format(label_data[i][j][2]))"
   ]
  },
  {
   "cell_type": "code",
   "execution_count": null,
   "id": "bc70b069",
   "metadata": {},
   "outputs": [],
   "source": [
    "root = 'D:\\\\1GRADUATED\\\\paper\\\\downscaling_data\\\\Soil_moisture_downscale_czt\\\\DATASET\\\\LABEL\\\\SMAP\\\\2015285\\\\'"
   ]
  },
  {
   "cell_type": "code",
   "execution_count": null,
   "id": "4aa7a87a",
   "metadata": {},
   "outputs": [],
   "source": [
    "arr = np.load(root+'15.npy')\n",
    "print(arr)"
   ]
  },
  {
   "cell_type": "code",
   "execution_count": null,
   "id": "8c0b516c",
   "metadata": {},
   "outputs": [],
   "source": [
    "root = 'D:\\\\1GRADUATED\\\\paper\\\\downscaling_data\\\\Soil_moisture_downscale_czt\\\\DATASET\\\\LABEL\\\\ATI\\\\2015285\\\\'"
   ]
  },
  {
   "cell_type": "code",
   "execution_count": null,
   "id": "8831caab",
   "metadata": {},
   "outputs": [],
   "source": [
    "arr = np.load(root+'4.npy', allow_pickle=True)\n",
    "print(arr)"
   ]
  },
  {
   "cell_type": "code",
   "execution_count": null,
   "id": "d831b6f6",
   "metadata": {},
   "outputs": [],
   "source": [
    "print(date2day('2015-05-01'))"
   ]
  },
  {
   "cell_type": "markdown",
   "id": "814e77bf",
   "metadata": {},
   "source": [
    "## 经过检验：\n",
    "> - dataset读取的数据与文件夹里的相同\n",
    "> - 文件夹里的数据（smap，ati）与arcmap对齐后提取的excel里的数据相同\n",
    "> - 提取的excel与原始tiff相同"
   ]
  },
  {
   "cell_type": "markdown",
   "id": "cd295a16",
   "metadata": {},
   "source": [
    "## 检查smap与texture是否对齐"
   ]
  },
  {
   "cell_type": "code",
   "execution_count": null,
   "id": "1747ceb1",
   "metadata": {},
   "outputs": [],
   "source": [
    "x = 2\n",
    "y = 2\n",
    "for i in samples:\n",
    "    print(process_data[i][2, 2, 0])\n",
    "    print(process_data[i][2, 2, 1])\n",
    "    print(process_data[i][2, 2, 2])"
   ]
  },
  {
   "cell_type": "markdown",
   "id": "19c32c5b",
   "metadata": {},
   "source": [
    "# Correlation Analysis"
   ]
  },
  {
   "cell_type": "code",
   "execution_count": null,
   "id": "7b6fdb39",
   "metadata": {},
   "outputs": [],
   "source": []
  }
 ],
 "metadata": {
  "kernelspec": {
   "display_name": "Python 3 (ipykernel)",
   "language": "python",
   "name": "python3"
  },
  "language_info": {
   "codemirror_mode": {
    "name": "ipython",
    "version": 3
   },
   "file_extension": ".py",
   "mimetype": "text/x-python",
   "name": "python",
   "nbconvert_exporter": "python",
   "pygments_lexer": "ipython3",
   "version": "3.8.12"
  }
 },
 "nbformat": 4,
 "nbformat_minor": 5
}
