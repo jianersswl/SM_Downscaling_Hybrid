{
 "cells": [
  {
   "cell_type": "markdown",
   "metadata": {
    "id": "igqIMEgu64-F"
   },
   "source": [
    "# Import packages"
   ]
  },
  {
   "cell_type": "code",
   "execution_count": 1,
   "metadata": {
    "id": "xybQNYCXYu13"
   },
   "outputs": [],
   "source": [
    "# Reading/Writing Data\n",
    "import os\n",
    "import glob\n",
    "import numpy as np\n",
    "import math \n",
    "\n",
    "# Pytorch\n",
    "import torch \n",
    "from torch.utils.data import DataLoader\n",
    "\n",
    "# Self-Defined Package\n",
    "from SMAPDataset import SMAPDataset\n",
    "from DNNTEST import DNNTEST\n",
    "from SDLoss import physics_loss\n",
    "from Preprocessing import random_spatial_sequence, collate_fn"
   ]
  },
  {
   "cell_type": "markdown",
   "metadata": {
    "id": "fTAVqRfc2KK3"
   },
   "source": [
    "# Some Utility Functions"
   ]
  },
  {
   "cell_type": "code",
   "execution_count": 2,
   "metadata": {
    "id": "RbrcpfYN2I-H"
   },
   "outputs": [],
   "source": [
    "def same_seed(seed): \n",
    "    '''Fixes random number generator seeds for reproducibility.'''\n",
    "    torch.backends.cudnn.deterministic = True\n",
    "    torch.backends.cudnn.benchmark = False\n",
    "    np.random.seed(seed)\n",
    "    torch.manual_seed(seed)\n",
    "    if torch.cuda.is_available():\n",
    "        torch.cuda.manual_seed_all(seed)"
   ]
  },
  {
   "cell_type": "markdown",
   "metadata": {},
   "source": [
    "# Training Loop"
   ]
  },
  {
   "cell_type": "code",
   "execution_count": 3,
   "metadata": {
    "id": "k4Rq8_TztAhq"
   },
   "outputs": [],
   "source": [
    "def trainer(train_loader, valid_loader, model, config, device):\n",
    "\n",
    "    criterion = physics_loss # Define your loss function, do not modify this.\n",
    "    optimizer = torch.optim.SGD(model.parameters(), lr=config['learning_rate'], momentum=0.9) \n",
    "\n",
    "    if not os.path.isdir(config['root'] + '\\\\OUTPUT\\\\MODELS\\\\'):\n",
    "        os.mkdir(config['root'] + '\\\\OUTPUT\\\\MODELS\\\\') # Create directory of saving models.\n",
    "\n",
    "    n_epochs, best_loss, step, early_stop_count = config['n_epochs'], math.inf, 0, 0\n",
    "\n",
    "    for epoch in range(n_epochs):\n",
    "        model.train() # Set your model to train mode.\n",
    "        loss_record = []\n",
    "\n",
    "        for data_pkg in train_loader:\n",
    "            x = data_pkg['processed_data']\n",
    "            optimizer.zero_grad()               # Set gradient to zero.\n",
    "            pred = model(x)\n",
    "#             x, pred = x.to(device), pred.to(device)   # Move your data to device. \n",
    "            \n",
    "            loss = criterion(pred, data_pkg['label_data'], config['train_batch_size'])\n",
    "            loss.backward()                     # Compute gradient(backpropagation).\n",
    "            optimizer.step()                    # Update parameters.\n",
    "            step += 1\n",
    "            loss_record.append(loss.detach().item())\n",
    "            \n",
    "        mean_train_loss = sum(loss_record)/len(loss_record)\n",
    "#         print('Mean Loss for Epoch {}: {}'.format(epoch, mean_train_loss))\n",
    "\n",
    "        model.eval() # Set your model to evaluation mode.\n",
    "        loss_record = []\n",
    "        for data_pkg in valid_loader:\n",
    "            x = data_pkg['processed_data']\n",
    "            with torch.no_grad():\n",
    "                pred = model(x)\n",
    "#             x, pred = x.to(device), pred.to(device)   # Move your data to device. \n",
    "                loss = criterion(pred, data_pkg['label_data'], config['valid_batch_size'])\n",
    "            loss_record.append(loss.item())\n",
    "            \n",
    "        mean_valid_loss = sum(loss_record)/len(loss_record)\n",
    "        print(f'Epoch [{epoch+1}/{n_epochs}]: Train loss: {mean_train_loss:.4f}, Valid loss: {mean_valid_loss:.4f}')\n",
    "\n",
    "        if mean_valid_loss < best_loss:\n",
    "            best_loss = mean_valid_loss\n",
    "            torch.save(model.state_dict(), config['root'] + '\\\\OUTPUT\\\\MODELS\\\\' + str(best_loss) + '.ckpt') # Save your best model\n",
    "            print('Saving model with loss {:.3f}...'.format(best_loss))\n",
    "            early_stop_count = 0\n",
    "        else: \n",
    "            early_stop_count += 1\n",
    "\n",
    "        if early_stop_count >= config['early_stop']:\n",
    "            print('\\nModel is not improving, so we halt the training session.')\n",
    "            return"
   ]
  },
  {
   "cell_type": "markdown",
   "metadata": {
    "id": "0pgkOh2e9UjE"
   },
   "source": [
    "# Configurations\n",
    "`config` contains hyper-parameters for training and the path to save your model."
   ]
  },
  {
   "cell_type": "code",
   "execution_count": 4,
   "metadata": {
    "id": "QoWPUahCtoT6"
   },
   "outputs": [],
   "source": [
    "device = 'cuda' if torch.cuda.is_available() else 'cpu'\n",
    "config = {\n",
    "    'seed': 5201314,      # Your seed number, you can pick your lucky number. :)\n",
    "    'test_ratio': 0.2,\n",
    "    'valid_ratio': 0.2,   # validation_size = train_size * valid_ratio\n",
    "    'n_epochs': 300,     # Number of epochs.            \n",
    "    'train_batch_size': 5, \n",
    "    'valid_batch_size': 5,\n",
    "    'test_batch_size': 1,\n",
    "    'learning_rate': 1e-5,              \n",
    "    'early_stop': 10,    # If model has not improved for this many consecutive epochs, stop training.     \n",
    "    'root': 'D:\\\\1GRADUATED\\\\paper\\\\downscaling_data\\\\Soil_moisture_downscale_czt\\\\DATASET\\\\'\n",
    "}"
   ]
  },
  {
   "cell_type": "markdown",
   "metadata": {
    "id": "lrS-aJJh9XkW"
   },
   "source": [
    "# Dataloader\n",
    "Read data from files and set up training, validation, and testing sets."
   ]
  },
  {
   "cell_type": "code",
   "execution_count": 5,
   "metadata": {},
   "outputs": [],
   "source": [
    "# # Set seed for reproducibility\n",
    "same_seed(config['seed'])"
   ]
  },
  {
   "cell_type": "markdown",
   "metadata": {},
   "source": [
    "##### 考虑到需要获取空间上均匀分布的站点数据，所以在每帧中随即挑选站点作为训练集，其余的作为验证集和测试集。因此使用一个字典来保存每天被筛选出来的站点list"
   ]
  },
  {
   "cell_type": "code",
   "execution_count": 6,
   "metadata": {},
   "outputs": [
    {
     "name": "stdout",
     "output_type": "stream",
     "text": [
      "14 of Full Spatial Sequence for 2015187 :\n",
      "[9, 10, 15, 16, 17, 18, 20, 26, 27, 29, 43, 44, 45, 51]\n",
      "**************************Data Spliting***************************\n",
      "Spliting Rate:  0.8\n",
      "11 of Dataset1:  [16 43 26 18 29 10 20 45 44 27 15]\n",
      "3 of Dataset2:  [ 9 17 51]\n",
      "**************************Data Spliting***************************\n",
      "**************************Data Spliting***************************\n",
      "Spliting Rate:  0.8\n",
      "8 of Dataset1:  [26 29 18 43 10 44 45 27]\n",
      "3 of Dataset2:  [15 16 20]\n",
      "**************************Data Spliting***************************\n",
      "19 of Full Spatial Sequence for 2015288 :\n",
      "[9, 10, 15, 16, 17, 18, 20, 26, 27, 29, 31, 32, 33, 40, 41, 43, 44, 45, 51]\n",
      "**************************Data Spliting***************************\n",
      "Spliting Rate:  0.8\n",
      "15 of Dataset1:  [40 10 18 20 15 17 32 45  9 31 16 26 27 33 29]\n",
      "4 of Dataset2:  [41 43 44 51]\n",
      "**************************Data Spliting***************************\n",
      "**************************Data Spliting***************************\n",
      "Spliting Rate:  0.8\n",
      "12 of Dataset1:  [16 29  9 31 17 18 10 33 27 40 32 26]\n",
      "3 of Dataset2:  [15 20 45]\n",
      "**************************Data Spliting***************************\n"
     ]
    }
   ],
   "source": [
    "train_sequence = {}\n",
    "valid_sequence = {}\n",
    "test_sequence = {}\n",
    "s2s_dir = config['root'] + 'LABEL\\\\SMAPID2INSITUID'\n",
    "subdir_list = sorted(os.listdir(s2s_dir))\n",
    "\n",
    "# 遍历指定路径下的所有子目录\n",
    "for subdir in subdir_list:\n",
    "    subdir_path = os.path.join(s2s_dir, subdir)\n",
    "    if os.path.isdir(subdir_path):\n",
    "        # 如果子目录是目录而不是文件，则将子目录加入字典\n",
    "        full_spatial_sequence_smap = sorted([int(f.split('.')[0]) for f in os.listdir(subdir_path) if f.endswith('.npy')]) # !!!! read out of order\n",
    "        print(len(full_spatial_sequence_smap), 'of Full Spatial Sequence for', subdir, ':')\n",
    "        print(full_spatial_sequence_smap)\n",
    "        \n",
    "        # Split the train\\valid\\test dataset by spatial dimension\n",
    "        train_sequence[subdir], test_sequence[subdir] = random_spatial_sequence(1-config['test_ratio'], full_spatial_sequence_smap)\n",
    "        train_sequence[subdir], valid_sequence[subdir] = random_spatial_sequence(1-config['valid_ratio'], train_sequence[subdir])"
   ]
  },
  {
   "cell_type": "code",
   "execution_count": 7,
   "metadata": {},
   "outputs": [
    {
     "name": "stdout",
     "output_type": "stream",
     "text": [
      "{'2015187': array([26, 29, 18, 43, 10, 44, 45, 27]), '2015288': array([16, 29,  9, 31, 17, 18, 10, 33, 27, 40, 32, 26])}\n",
      "{'2015187': array([15, 16, 20]), '2015288': array([15, 20, 45])}\n",
      "{'2015187': array([ 9, 17, 51]), '2015288': array([41, 43, 44, 51])}\n"
     ]
    }
   ],
   "source": [
    "print(train_sequence)\n",
    "print(valid_sequence)\n",
    "print(test_sequence)"
   ]
  },
  {
   "cell_type": "code",
   "execution_count": 8,
   "metadata": {
    "colab": {
     "base_uri": "https://localhost:8080/"
    },
    "id": "2jc7ZfDot2t9",
    "outputId": "62d291db-61c8-424d-ec87-2cfce6dd330d",
    "scrolled": true
   },
   "outputs": [
    {
     "name": "stdout",
     "output_type": "stream",
     "text": [
      "***************************Load data path******************************\n",
      "_______________________________2015187_______________________________\n",
      "_____________________________smap cell: 26_____________________________\n",
      "D:\\1GRADUATED\\paper\\downscaling_data\\Soil_moisture_downscale_czt\\DATASET\\INPUT\\SMAP\\2015187\\26.npy\n",
      "D:\\1GRADUATED\\paper\\downscaling_data\\Soil_moisture_downscale_czt\\DATASET\\INPUT\\TEXTURE\\26.npy\n",
      "True\n",
      "True\n",
      "D:\\1GRADUATED\\paper\\downscaling_data\\Soil_moisture_downscale_czt\\DATASET\\LABEL\\SM\\2015187\\40.npy\n",
      "D:\\1GRADUATED\\paper\\downscaling_data\\Soil_moisture_downscale_czt\\DATASET\\LABEL\\ATI\\2015187\\40.npy\n",
      "True\n",
      "True\n",
      "D:\\1GRADUATED\\paper\\downscaling_data\\Soil_moisture_downscale_czt\\DATASET\\LABEL\\SM\\2015187\\25.npy\n",
      "D:\\1GRADUATED\\paper\\downscaling_data\\Soil_moisture_downscale_czt\\DATASET\\LABEL\\ATI\\2015187\\25.npy\n",
      "True\n",
      "True\n",
      "_____________________________smap cell: 29_____________________________\n",
      "D:\\1GRADUATED\\paper\\downscaling_data\\Soil_moisture_downscale_czt\\DATASET\\INPUT\\SMAP\\2015187\\29.npy\n",
      "D:\\1GRADUATED\\paper\\downscaling_data\\Soil_moisture_downscale_czt\\DATASET\\INPUT\\TEXTURE\\29.npy\n",
      "True\n",
      "True\n",
      "D:\\1GRADUATED\\paper\\downscaling_data\\Soil_moisture_downscale_czt\\DATASET\\LABEL\\SM\\2015187\\5.npy\n",
      "D:\\1GRADUATED\\paper\\downscaling_data\\Soil_moisture_downscale_czt\\DATASET\\LABEL\\ATI\\2015187\\5.npy\n",
      "True\n",
      "True\n",
      "_____________________________smap cell: 18_____________________________\n",
      "D:\\1GRADUATED\\paper\\downscaling_data\\Soil_moisture_downscale_czt\\DATASET\\INPUT\\SMAP\\2015187\\18.npy\n",
      "D:\\1GRADUATED\\paper\\downscaling_data\\Soil_moisture_downscale_czt\\DATASET\\INPUT\\TEXTURE\\18.npy\n",
      "True\n",
      "True\n",
      "D:\\1GRADUATED\\paper\\downscaling_data\\Soil_moisture_downscale_czt\\DATASET\\LABEL\\SM\\2015187\\31.npy\n",
      "D:\\1GRADUATED\\paper\\downscaling_data\\Soil_moisture_downscale_czt\\DATASET\\LABEL\\ATI\\2015187\\31.npy\n",
      "True\n",
      "True\n",
      "_____________________________smap cell: 43_____________________________\n",
      "D:\\1GRADUATED\\paper\\downscaling_data\\Soil_moisture_downscale_czt\\DATASET\\INPUT\\SMAP\\2015187\\43.npy\n",
      "D:\\1GRADUATED\\paper\\downscaling_data\\Soil_moisture_downscale_czt\\DATASET\\INPUT\\TEXTURE\\43.npy\n",
      "True\n",
      "True\n",
      "D:\\1GRADUATED\\paper\\downscaling_data\\Soil_moisture_downscale_czt\\DATASET\\LABEL\\SM\\2015187\\53.npy\n",
      "D:\\1GRADUATED\\paper\\downscaling_data\\Soil_moisture_downscale_czt\\DATASET\\LABEL\\ATI\\2015187\\53.npy\n",
      "True\n",
      "True\n",
      "_____________________________smap cell: 10_____________________________\n",
      "D:\\1GRADUATED\\paper\\downscaling_data\\Soil_moisture_downscale_czt\\DATASET\\INPUT\\SMAP\\2015187\\10.npy\n",
      "D:\\1GRADUATED\\paper\\downscaling_data\\Soil_moisture_downscale_czt\\DATASET\\INPUT\\TEXTURE\\10.npy\n",
      "True\n",
      "True\n",
      "D:\\1GRADUATED\\paper\\downscaling_data\\Soil_moisture_downscale_czt\\DATASET\\LABEL\\SM\\2015187\\16.npy\n",
      "D:\\1GRADUATED\\paper\\downscaling_data\\Soil_moisture_downscale_czt\\DATASET\\LABEL\\ATI\\2015187\\16.npy\n",
      "True\n",
      "True\n",
      "_____________________________smap cell: 44_____________________________\n",
      "D:\\1GRADUATED\\paper\\downscaling_data\\Soil_moisture_downscale_czt\\DATASET\\INPUT\\SMAP\\2015187\\44.npy\n",
      "D:\\1GRADUATED\\paper\\downscaling_data\\Soil_moisture_downscale_czt\\DATASET\\INPUT\\TEXTURE\\44.npy\n",
      "True\n",
      "True\n",
      "D:\\1GRADUATED\\paper\\downscaling_data\\Soil_moisture_downscale_czt\\DATASET\\LABEL\\SM\\2015187\\11.npy\n",
      "D:\\1GRADUATED\\paper\\downscaling_data\\Soil_moisture_downscale_czt\\DATASET\\LABEL\\ATI\\2015187\\11.npy\n",
      "True\n",
      "True\n",
      "D:\\1GRADUATED\\paper\\downscaling_data\\Soil_moisture_downscale_czt\\DATASET\\LABEL\\SM\\2015187\\42.npy\n",
      "D:\\1GRADUATED\\paper\\downscaling_data\\Soil_moisture_downscale_czt\\DATASET\\LABEL\\ATI\\2015187\\42.npy\n",
      "True\n",
      "True\n",
      "_____________________________smap cell: 45_____________________________\n",
      "D:\\1GRADUATED\\paper\\downscaling_data\\Soil_moisture_downscale_czt\\DATASET\\INPUT\\SMAP\\2015187\\45.npy\n",
      "D:\\1GRADUATED\\paper\\downscaling_data\\Soil_moisture_downscale_czt\\DATASET\\INPUT\\TEXTURE\\45.npy\n",
      "True\n",
      "True\n",
      "D:\\1GRADUATED\\paper\\downscaling_data\\Soil_moisture_downscale_czt\\DATASET\\LABEL\\SM\\2015187\\37.npy\n",
      "D:\\1GRADUATED\\paper\\downscaling_data\\Soil_moisture_downscale_czt\\DATASET\\LABEL\\ATI\\2015187\\37.npy\n",
      "True\n",
      "True\n",
      "_____________________________smap cell: 27_____________________________\n",
      "D:\\1GRADUATED\\paper\\downscaling_data\\Soil_moisture_downscale_czt\\DATASET\\INPUT\\SMAP\\2015187\\27.npy\n",
      "D:\\1GRADUATED\\paper\\downscaling_data\\Soil_moisture_downscale_czt\\DATASET\\INPUT\\TEXTURE\\27.npy\n",
      "True\n",
      "True\n",
      "D:\\1GRADUATED\\paper\\downscaling_data\\Soil_moisture_downscale_czt\\DATASET\\LABEL\\SM\\2015187\\12.npy\n",
      "D:\\1GRADUATED\\paper\\downscaling_data\\Soil_moisture_downscale_czt\\DATASET\\LABEL\\ATI\\2015187\\12.npy\n",
      "True\n",
      "True\n",
      "_______________________________2015288_______________________________\n",
      "_____________________________smap cell: 16_____________________________\n",
      "D:\\1GRADUATED\\paper\\downscaling_data\\Soil_moisture_downscale_czt\\DATASET\\INPUT\\SMAP\\2015288\\16.npy\n",
      "D:\\1GRADUATED\\paper\\downscaling_data\\Soil_moisture_downscale_czt\\DATASET\\INPUT\\TEXTURE\\16.npy\n",
      "True\n",
      "True\n",
      "D:\\1GRADUATED\\paper\\downscaling_data\\Soil_moisture_downscale_czt\\DATASET\\LABEL\\SM\\2015288\\1.npy\n",
      "D:\\1GRADUATED\\paper\\downscaling_data\\Soil_moisture_downscale_czt\\DATASET\\LABEL\\ATI\\2015288\\1.npy\n",
      "True\n",
      "True\n",
      "_____________________________smap cell: 29_____________________________\n",
      "D:\\1GRADUATED\\paper\\downscaling_data\\Soil_moisture_downscale_czt\\DATASET\\INPUT\\SMAP\\2015288\\29.npy\n",
      "D:\\1GRADUATED\\paper\\downscaling_data\\Soil_moisture_downscale_czt\\DATASET\\INPUT\\TEXTURE\\29.npy\n",
      "True\n",
      "True\n",
      "D:\\1GRADUATED\\paper\\downscaling_data\\Soil_moisture_downscale_czt\\DATASET\\LABEL\\SM\\2015288\\5.npy\n",
      "D:\\1GRADUATED\\paper\\downscaling_data\\Soil_moisture_downscale_czt\\DATASET\\LABEL\\ATI\\2015288\\5.npy\n",
      "True\n",
      "True\n",
      "_____________________________smap cell: 9_____________________________\n",
      "D:\\1GRADUATED\\paper\\downscaling_data\\Soil_moisture_downscale_czt\\DATASET\\INPUT\\SMAP\\2015288\\9.npy\n",
      "D:\\1GRADUATED\\paper\\downscaling_data\\Soil_moisture_downscale_czt\\DATASET\\INPUT\\TEXTURE\\9.npy\n",
      "True\n",
      "True\n",
      "D:\\1GRADUATED\\paper\\downscaling_data\\Soil_moisture_downscale_czt\\DATASET\\LABEL\\SM\\2015288\\55.npy\n",
      "D:\\1GRADUATED\\paper\\downscaling_data\\Soil_moisture_downscale_czt\\DATASET\\LABEL\\ATI\\2015288\\55.npy\n",
      "True\n",
      "True\n",
      "_____________________________smap cell: 31_____________________________\n",
      "D:\\1GRADUATED\\paper\\downscaling_data\\Soil_moisture_downscale_czt\\DATASET\\INPUT\\SMAP\\2015288\\31.npy\n",
      "D:\\1GRADUATED\\paper\\downscaling_data\\Soil_moisture_downscale_czt\\DATASET\\INPUT\\TEXTURE\\31.npy\n",
      "True\n",
      "True\n",
      "D:\\1GRADUATED\\paper\\downscaling_data\\Soil_moisture_downscale_czt\\DATASET\\LABEL\\SM\\2015288\\10.npy\n",
      "D:\\1GRADUATED\\paper\\downscaling_data\\Soil_moisture_downscale_czt\\DATASET\\LABEL\\ATI\\2015288\\10.npy\n",
      "True\n",
      "True\n",
      "_____________________________smap cell: 17_____________________________\n",
      "D:\\1GRADUATED\\paper\\downscaling_data\\Soil_moisture_downscale_czt\\DATASET\\INPUT\\SMAP\\2015288\\17.npy\n",
      "D:\\1GRADUATED\\paper\\downscaling_data\\Soil_moisture_downscale_czt\\DATASET\\INPUT\\TEXTURE\\17.npy\n",
      "True\n",
      "True\n",
      "D:\\1GRADUATED\\paper\\downscaling_data\\Soil_moisture_downscale_czt\\DATASET\\LABEL\\SM\\2015288\\18.npy\n",
      "D:\\1GRADUATED\\paper\\downscaling_data\\Soil_moisture_downscale_czt\\DATASET\\LABEL\\ATI\\2015288\\18.npy\n",
      "True\n",
      "True\n",
      "_____________________________smap cell: 18_____________________________\n",
      "D:\\1GRADUATED\\paper\\downscaling_data\\Soil_moisture_downscale_czt\\DATASET\\INPUT\\SMAP\\2015288\\18.npy\n",
      "D:\\1GRADUATED\\paper\\downscaling_data\\Soil_moisture_downscale_czt\\DATASET\\INPUT\\TEXTURE\\18.npy\n",
      "True\n",
      "True\n",
      "D:\\1GRADUATED\\paper\\downscaling_data\\Soil_moisture_downscale_czt\\DATASET\\LABEL\\SM\\2015288\\31.npy\n",
      "D:\\1GRADUATED\\paper\\downscaling_data\\Soil_moisture_downscale_czt\\DATASET\\LABEL\\ATI\\2015288\\31.npy\n",
      "True\n",
      "True\n",
      "_____________________________smap cell: 10_____________________________\n",
      "D:\\1GRADUATED\\paper\\downscaling_data\\Soil_moisture_downscale_czt\\DATASET\\INPUT\\SMAP\\2015288\\10.npy\n",
      "D:\\1GRADUATED\\paper\\downscaling_data\\Soil_moisture_downscale_czt\\DATASET\\INPUT\\TEXTURE\\10.npy\n",
      "True\n",
      "True\n",
      "D:\\1GRADUATED\\paper\\downscaling_data\\Soil_moisture_downscale_czt\\DATASET\\LABEL\\SM\\2015288\\16.npy\n",
      "D:\\1GRADUATED\\paper\\downscaling_data\\Soil_moisture_downscale_czt\\DATASET\\LABEL\\ATI\\2015288\\16.npy\n",
      "True\n",
      "True\n",
      "_____________________________smap cell: 33_____________________________\n",
      "D:\\1GRADUATED\\paper\\downscaling_data\\Soil_moisture_downscale_czt\\DATASET\\INPUT\\SMAP\\2015288\\33.npy\n",
      "D:\\1GRADUATED\\paper\\downscaling_data\\Soil_moisture_downscale_czt\\DATASET\\INPUT\\TEXTURE\\33.npy\n",
      "True\n",
      "True\n",
      "D:\\1GRADUATED\\paper\\downscaling_data\\Soil_moisture_downscale_czt\\DATASET\\LABEL\\SM\\2015288\\32.npy\n",
      "D:\\1GRADUATED\\paper\\downscaling_data\\Soil_moisture_downscale_czt\\DATASET\\LABEL\\ATI\\2015288\\32.npy\n",
      "True\n",
      "True\n",
      "_____________________________smap cell: 27_____________________________\n",
      "D:\\1GRADUATED\\paper\\downscaling_data\\Soil_moisture_downscale_czt\\DATASET\\INPUT\\SMAP\\2015288\\27.npy\n",
      "D:\\1GRADUATED\\paper\\downscaling_data\\Soil_moisture_downscale_czt\\DATASET\\INPUT\\TEXTURE\\27.npy\n",
      "True\n",
      "True\n",
      "D:\\1GRADUATED\\paper\\downscaling_data\\Soil_moisture_downscale_czt\\DATASET\\LABEL\\SM\\2015288\\12.npy\n",
      "D:\\1GRADUATED\\paper\\downscaling_data\\Soil_moisture_downscale_czt\\DATASET\\LABEL\\ATI\\2015288\\12.npy\n",
      "True\n",
      "True\n",
      "_____________________________smap cell: 40_____________________________\n",
      "D:\\1GRADUATED\\paper\\downscaling_data\\Soil_moisture_downscale_czt\\DATASET\\INPUT\\SMAP\\2015288\\40.npy\n",
      "D:\\1GRADUATED\\paper\\downscaling_data\\Soil_moisture_downscale_czt\\DATASET\\INPUT\\TEXTURE\\40.npy\n",
      "True\n",
      "True\n",
      "D:\\1GRADUATED\\paper\\downscaling_data\\Soil_moisture_downscale_czt\\DATASET\\LABEL\\SM\\2015288\\35.npy\n",
      "D:\\1GRADUATED\\paper\\downscaling_data\\Soil_moisture_downscale_czt\\DATASET\\LABEL\\ATI\\2015288\\35.npy\n",
      "True\n",
      "True\n",
      "D:\\1GRADUATED\\paper\\downscaling_data\\Soil_moisture_downscale_czt\\DATASET\\LABEL\\SM\\2015288\\52.npy\n",
      "D:\\1GRADUATED\\paper\\downscaling_data\\Soil_moisture_downscale_czt\\DATASET\\LABEL\\ATI\\2015288\\52.npy\n",
      "True\n",
      "True\n",
      "_____________________________smap cell: 32_____________________________\n",
      "D:\\1GRADUATED\\paper\\downscaling_data\\Soil_moisture_downscale_czt\\DATASET\\INPUT\\SMAP\\2015288\\32.npy\n",
      "D:\\1GRADUATED\\paper\\downscaling_data\\Soil_moisture_downscale_czt\\DATASET\\INPUT\\TEXTURE\\32.npy\n",
      "True\n",
      "True\n",
      "D:\\1GRADUATED\\paper\\downscaling_data\\Soil_moisture_downscale_czt\\DATASET\\LABEL\\SM\\2015288\\54.npy\n",
      "D:\\1GRADUATED\\paper\\downscaling_data\\Soil_moisture_downscale_czt\\DATASET\\LABEL\\ATI\\2015288\\54.npy\n",
      "True\n",
      "True\n",
      "_____________________________smap cell: 26_____________________________\n",
      "D:\\1GRADUATED\\paper\\downscaling_data\\Soil_moisture_downscale_czt\\DATASET\\INPUT\\SMAP\\2015288\\26.npy\n",
      "D:\\1GRADUATED\\paper\\downscaling_data\\Soil_moisture_downscale_czt\\DATASET\\INPUT\\TEXTURE\\26.npy\n",
      "True\n",
      "True\n",
      "D:\\1GRADUATED\\paper\\downscaling_data\\Soil_moisture_downscale_czt\\DATASET\\LABEL\\SM\\2015288\\40.npy\n",
      "D:\\1GRADUATED\\paper\\downscaling_data\\Soil_moisture_downscale_czt\\DATASET\\LABEL\\ATI\\2015288\\40.npy\n",
      "True\n",
      "True\n",
      "D:\\1GRADUATED\\paper\\downscaling_data\\Soil_moisture_downscale_czt\\DATASET\\LABEL\\SM\\2015288\\25.npy\n",
      "D:\\1GRADUATED\\paper\\downscaling_data\\Soil_moisture_downscale_czt\\DATASET\\LABEL\\ATI\\2015288\\25.npy\n",
      "True\n",
      "True\n",
      "***************************Load data path******************************\n",
      "_______________________________2015187_______________________________\n",
      "_____________________________smap cell: 15_____________________________\n",
      "D:\\1GRADUATED\\paper\\downscaling_data\\Soil_moisture_downscale_czt\\DATASET\\INPUT\\SMAP\\2015187\\15.npy\n",
      "D:\\1GRADUATED\\paper\\downscaling_data\\Soil_moisture_downscale_czt\\DATASET\\INPUT\\TEXTURE\\15.npy\n",
      "True\n",
      "True\n",
      "D:\\1GRADUATED\\paper\\downscaling_data\\Soil_moisture_downscale_czt\\DATASET\\LABEL\\SM\\2015187\\4.npy\n",
      "D:\\1GRADUATED\\paper\\downscaling_data\\Soil_moisture_downscale_czt\\DATASET\\LABEL\\ATI\\2015187\\4.npy\n",
      "True\n",
      "True\n",
      "_____________________________smap cell: 16_____________________________\n",
      "D:\\1GRADUATED\\paper\\downscaling_data\\Soil_moisture_downscale_czt\\DATASET\\INPUT\\SMAP\\2015187\\16.npy\n",
      "D:\\1GRADUATED\\paper\\downscaling_data\\Soil_moisture_downscale_czt\\DATASET\\INPUT\\TEXTURE\\16.npy\n",
      "True\n",
      "True\n",
      "D:\\1GRADUATED\\paper\\downscaling_data\\Soil_moisture_downscale_czt\\DATASET\\LABEL\\SM\\2015187\\1.npy\n",
      "D:\\1GRADUATED\\paper\\downscaling_data\\Soil_moisture_downscale_czt\\DATASET\\LABEL\\ATI\\2015187\\1.npy\n",
      "True\n",
      "True\n",
      "_____________________________smap cell: 20_____________________________\n",
      "D:\\1GRADUATED\\paper\\downscaling_data\\Soil_moisture_downscale_czt\\DATASET\\INPUT\\SMAP\\2015187\\20.npy\n",
      "D:\\1GRADUATED\\paper\\downscaling_data\\Soil_moisture_downscale_czt\\DATASET\\INPUT\\TEXTURE\\20.npy\n",
      "True\n",
      "True\n",
      "D:\\1GRADUATED\\paper\\downscaling_data\\Soil_moisture_downscale_czt\\DATASET\\LABEL\\SM\\2015187\\27.npy\n",
      "D:\\1GRADUATED\\paper\\downscaling_data\\Soil_moisture_downscale_czt\\DATASET\\LABEL\\ATI\\2015187\\27.npy\n",
      "True\n",
      "True\n",
      "_______________________________2015288_______________________________\n",
      "_____________________________smap cell: 15_____________________________\n",
      "D:\\1GRADUATED\\paper\\downscaling_data\\Soil_moisture_downscale_czt\\DATASET\\INPUT\\SMAP\\2015288\\15.npy\n",
      "D:\\1GRADUATED\\paper\\downscaling_data\\Soil_moisture_downscale_czt\\DATASET\\INPUT\\TEXTURE\\15.npy\n",
      "True\n",
      "True\n",
      "D:\\1GRADUATED\\paper\\downscaling_data\\Soil_moisture_downscale_czt\\DATASET\\LABEL\\SM\\2015288\\4.npy\n",
      "D:\\1GRADUATED\\paper\\downscaling_data\\Soil_moisture_downscale_czt\\DATASET\\LABEL\\ATI\\2015288\\4.npy\n",
      "True\n",
      "True\n",
      "_____________________________smap cell: 20_____________________________\n",
      "D:\\1GRADUATED\\paper\\downscaling_data\\Soil_moisture_downscale_czt\\DATASET\\INPUT\\SMAP\\2015288\\20.npy\n",
      "D:\\1GRADUATED\\paper\\downscaling_data\\Soil_moisture_downscale_czt\\DATASET\\INPUT\\TEXTURE\\20.npy\n",
      "True\n",
      "True\n",
      "D:\\1GRADUATED\\paper\\downscaling_data\\Soil_moisture_downscale_czt\\DATASET\\LABEL\\SM\\2015288\\27.npy\n",
      "D:\\1GRADUATED\\paper\\downscaling_data\\Soil_moisture_downscale_czt\\DATASET\\LABEL\\ATI\\2015288\\27.npy\n",
      "True\n",
      "True\n",
      "_____________________________smap cell: 45_____________________________\n",
      "D:\\1GRADUATED\\paper\\downscaling_data\\Soil_moisture_downscale_czt\\DATASET\\INPUT\\SMAP\\2015288\\45.npy\n",
      "D:\\1GRADUATED\\paper\\downscaling_data\\Soil_moisture_downscale_czt\\DATASET\\INPUT\\TEXTURE\\45.npy\n",
      "True\n",
      "True\n",
      "D:\\1GRADUATED\\paper\\downscaling_data\\Soil_moisture_downscale_czt\\DATASET\\LABEL\\SM\\2015288\\37.npy\n",
      "D:\\1GRADUATED\\paper\\downscaling_data\\Soil_moisture_downscale_czt\\DATASET\\LABEL\\ATI\\2015288\\37.npy\n",
      "True\n",
      "True\n",
      "***************************Load data path******************************\n",
      "_______________________________2015187_______________________________\n",
      "_____________________________smap cell: 9_____________________________\n",
      "D:\\1GRADUATED\\paper\\downscaling_data\\Soil_moisture_downscale_czt\\DATASET\\INPUT\\SMAP\\2015187\\9.npy\n",
      "D:\\1GRADUATED\\paper\\downscaling_data\\Soil_moisture_downscale_czt\\DATASET\\INPUT\\TEXTURE\\9.npy\n",
      "True\n",
      "True\n",
      "D:\\1GRADUATED\\paper\\downscaling_data\\Soil_moisture_downscale_czt\\DATASET\\LABEL\\SM\\2015187\\55.npy\n",
      "D:\\1GRADUATED\\paper\\downscaling_data\\Soil_moisture_downscale_czt\\DATASET\\LABEL\\ATI\\2015187\\55.npy\n",
      "True\n",
      "True\n",
      "_____________________________smap cell: 17_____________________________\n",
      "D:\\1GRADUATED\\paper\\downscaling_data\\Soil_moisture_downscale_czt\\DATASET\\INPUT\\SMAP\\2015187\\17.npy\n",
      "D:\\1GRADUATED\\paper\\downscaling_data\\Soil_moisture_downscale_czt\\DATASET\\INPUT\\TEXTURE\\17.npy\n",
      "True\n",
      "True\n",
      "D:\\1GRADUATED\\paper\\downscaling_data\\Soil_moisture_downscale_czt\\DATASET\\LABEL\\SM\\2015187\\18.npy\n",
      "D:\\1GRADUATED\\paper\\downscaling_data\\Soil_moisture_downscale_czt\\DATASET\\LABEL\\ATI\\2015187\\18.npy\n",
      "True\n",
      "True\n",
      "_____________________________smap cell: 51_____________________________\n",
      "D:\\1GRADUATED\\paper\\downscaling_data\\Soil_moisture_downscale_czt\\DATASET\\INPUT\\SMAP\\2015187\\51.npy\n",
      "D:\\1GRADUATED\\paper\\downscaling_data\\Soil_moisture_downscale_czt\\DATASET\\INPUT\\TEXTURE\\51.npy\n",
      "True\n",
      "True\n",
      "D:\\1GRADUATED\\paper\\downscaling_data\\Soil_moisture_downscale_czt\\DATASET\\LABEL\\SM\\2015187\\33.npy\n",
      "D:\\1GRADUATED\\paper\\downscaling_data\\Soil_moisture_downscale_czt\\DATASET\\LABEL\\ATI\\2015187\\33.npy\n",
      "True\n",
      "True\n",
      "_______________________________2015288_______________________________\n",
      "_____________________________smap cell: 41_____________________________\n",
      "D:\\1GRADUATED\\paper\\downscaling_data\\Soil_moisture_downscale_czt\\DATASET\\INPUT\\SMAP\\2015288\\41.npy\n",
      "D:\\1GRADUATED\\paper\\downscaling_data\\Soil_moisture_downscale_czt\\DATASET\\INPUT\\TEXTURE\\41.npy\n",
      "True\n",
      "True\n",
      "D:\\1GRADUATED\\paper\\downscaling_data\\Soil_moisture_downscale_czt\\DATASET\\LABEL\\SM\\2015288\\6.npy\n",
      "D:\\1GRADUATED\\paper\\downscaling_data\\Soil_moisture_downscale_czt\\DATASET\\LABEL\\ATI\\2015288\\6.npy\n",
      "True\n",
      "True\n",
      "_____________________________smap cell: 43_____________________________\n",
      "D:\\1GRADUATED\\paper\\downscaling_data\\Soil_moisture_downscale_czt\\DATASET\\INPUT\\SMAP\\2015288\\43.npy\n",
      "D:\\1GRADUATED\\paper\\downscaling_data\\Soil_moisture_downscale_czt\\DATASET\\INPUT\\TEXTURE\\43.npy\n",
      "True\n",
      "True\n",
      "D:\\1GRADUATED\\paper\\downscaling_data\\Soil_moisture_downscale_czt\\DATASET\\LABEL\\SM\\2015288\\53.npy\n",
      "D:\\1GRADUATED\\paper\\downscaling_data\\Soil_moisture_downscale_czt\\DATASET\\LABEL\\ATI\\2015288\\53.npy\n",
      "True\n",
      "True\n",
      "_____________________________smap cell: 44_____________________________\n",
      "D:\\1GRADUATED\\paper\\downscaling_data\\Soil_moisture_downscale_czt\\DATASET\\INPUT\\SMAP\\2015288\\44.npy\n",
      "D:\\1GRADUATED\\paper\\downscaling_data\\Soil_moisture_downscale_czt\\DATASET\\INPUT\\TEXTURE\\44.npy\n",
      "True\n",
      "True\n",
      "D:\\1GRADUATED\\paper\\downscaling_data\\Soil_moisture_downscale_czt\\DATASET\\LABEL\\SM\\2015288\\11.npy\n",
      "D:\\1GRADUATED\\paper\\downscaling_data\\Soil_moisture_downscale_czt\\DATASET\\LABEL\\ATI\\2015288\\11.npy\n",
      "True\n",
      "True\n",
      "D:\\1GRADUATED\\paper\\downscaling_data\\Soil_moisture_downscale_czt\\DATASET\\LABEL\\SM\\2015288\\42.npy\n",
      "D:\\1GRADUATED\\paper\\downscaling_data\\Soil_moisture_downscale_czt\\DATASET\\LABEL\\ATI\\2015288\\42.npy\n",
      "True\n",
      "True\n",
      "_____________________________smap cell: 51_____________________________\n",
      "D:\\1GRADUATED\\paper\\downscaling_data\\Soil_moisture_downscale_czt\\DATASET\\INPUT\\SMAP\\2015288\\51.npy\n",
      "D:\\1GRADUATED\\paper\\downscaling_data\\Soil_moisture_downscale_czt\\DATASET\\INPUT\\TEXTURE\\51.npy\n",
      "True\n",
      "True\n",
      "D:\\1GRADUATED\\paper\\downscaling_data\\Soil_moisture_downscale_czt\\DATASET\\LABEL\\SM\\2015288\\33.npy\n",
      "D:\\1GRADUATED\\paper\\downscaling_data\\Soil_moisture_downscale_czt\\DATASET\\LABEL\\ATI\\2015288\\33.npy\n",
      "True\n",
      "True\n"
     ]
    }
   ],
   "source": [
    "# Initialize the dataset\n",
    "train_dataset = SMAPDataset(config['root'], train_sequence)\n",
    "valid_dataset = SMAPDataset(config['root'], valid_sequence)\n",
    "test_dataset = SMAPDataset(config['root'], test_sequence)\n",
    "\n",
    "# Pytorch data loader loads pytorch dataset into batches.\n",
    "train_loader = DataLoader(train_dataset, batch_size=config['train_batch_size'], shuffle=True, pin_memory=True, collate_fn=collate_fn)\n",
    "valid_loader = DataLoader(valid_dataset, batch_size=config['valid_batch_size'], shuffle=True, pin_memory=True, collate_fn=collate_fn)\n",
    "test_loader = DataLoader(test_dataset, batch_size=config['test_batch_size'], shuffle=False, pin_memory=True, collate_fn=collate_fn)"
   ]
  },
  {
   "cell_type": "markdown",
   "metadata": {},
   "source": [
    "# Data visualization"
   ]
  },
  {
   "cell_type": "code",
   "execution_count": 9,
   "metadata": {},
   "outputs": [],
   "source": [
    "import matplotlib.pyplot as plt"
   ]
  },
  {
   "cell_type": "code",
   "execution_count": 10,
   "metadata": {},
   "outputs": [
    {
     "data": {
      "image/png": "[encoded data removed]",
      "text/plain": [
       "<Figure size 432x288 with 1 Axes>"
      ]
     },
     "metadata": {
      "needs_background": "light"
     },
     "output_type": "display_data"
    },
    {
     "data": {
      "image/png": "[encoded data removed]",
      "text/plain": [
       "<Figure size 432x288 with 1 Axes>"
      ]
     },
     "metadata": {
      "needs_background": "light"
     },
     "output_type": "display_data"
    },
    {
     "name": "stdout",
     "output_type": "stream",
     "text": [
      "[array([0.05216375361338951, 0.05026010796427727, 0.0026155919767916203],\n",
      "      dtype=object), array([0.05459810910834479, 0.04394521936774254, 0.002687005093321204],\n",
      "      dtype=object), array([0.05664716877638399, 0.048196859657764435, 0.003594632726162672],\n",
      "      dtype=object), array([0.04575305607274704, 0.0411820150911808, 0.00322769139893353],\n",
      "      dtype=object), array([0.05918667650663111, 0.05475278198719025, 0.0059214308857917786],\n",
      "      dtype=object), array([0.04064471449949932, 0.04431008920073509, 0.004461049567908049],\n",
      "      dtype=object), array([0.04789583415475673, 0.0462988018989563, 0.0021299635991454124],\n",
      "      dtype=object), array([0.048520195779806034, 0.04537925124168396, 0.002951589645817876],\n",
      "      dtype=object), array([0.027983746548254758, 0.04127708077430725, 0.007980181835591793],\n",
      "      dtype=object), array([0.030971155033553986, 0.0287182480096817, 0.004598188679665327],\n",
      "      dtype=object), array([0.026866973907243574, 0.03239991143345833, 0.0055891298688948154],\n",
      "      dtype=object), array([0.025773927798776686, 0.027998803183436394, 0.0032955838833004236],\n",
      "      dtype=object), array([0.045622635526866594, 0.03129749000072479, 0.004641716368496418],\n",
      "      dtype=object), array([0.03262316949330996, 0.03084397315979004, 0.005450585391372442],\n",
      "      dtype=object), array([0.033357980098160635, 0.03357124328613281, 0.004516200162470341],\n",
      "      dtype=object), array([0.028207798206781133, 0.02917647734284401, 0.003622214775532484],\n",
      "      dtype=object), array([0.037862479771732585, 0.03752392530441284, 0.0050704460591077805],\n",
      "      dtype=object), array([0.040217964082790596, 0.036655064672231674, 0.003764114109799266],\n",
      "      dtype=object), array([0.029788717197781374, 0.029975881800055504, 0.005266458727419376],\n",
      "      dtype=object), array([0.035326587975355074, 0.03887128457427025, 0.0034179079812020063],\n",
      "      dtype=object)]\n"
     ]
    },
    {
     "data": {
      "image/png": "[encoded data removed]",
      "text/plain": [
       "<Figure size 720x360 with 3 Axes>"
      ]
     },
     "metadata": {
      "needs_background": "light"
     },
     "output_type": "display_data"
    }
   ],
   "source": [
    "# 训练集sm站点数据\n",
    "sm = [x['label_data'][0][0] for x in train_dataset]\n",
    "x = [x for x in range(len(sm))]\n",
    "y = sm\n",
    "\n",
    "# 绘制散点图\n",
    "plt.scatter(x, y, c='red', s=10, alpha=1)\n",
    "\n",
    "# 添加标签和标题\n",
    "plt.ylim(0, 1)\n",
    "plt.xlabel('X')\n",
    "plt.ylabel('Y')\n",
    "plt.title('SM In-Situ')\n",
    "\n",
    "# 显示图像\n",
    "plt.show()\n",
    "\n",
    "# 训练集SMAP数据\n",
    "smap = [x['label_data'][0][1] for x in train_dataset]\n",
    "x = [x for x in range(len(sm))]\n",
    "y = smap\n",
    "\n",
    "# 绘制散点图\n",
    "plt.scatter(x, y, c='red', s=10, alpha=1)\n",
    "\n",
    "# 添加标签和标题\n",
    "plt.ylim(0, 1)\n",
    "plt.xlabel('X')\n",
    "plt.ylabel('Y')\n",
    "plt.title('SMAP')\n",
    "\n",
    "# 显示图像\n",
    "plt.show()\n",
    "\n",
    "\n",
    "# 创建数据\n",
    "ati = [x['label_data'][0][2] for x in train_dataset]\n",
    "print(ati)\n",
    "x = [x for x in range(len(ati))]\n",
    "\n",
    "y1 = [x[0] for x in ati]\n",
    "y2 = [x[1] for x in ati]\n",
    "y3 = [x[2] for x in ati]\n",
    "\n",
    "# 创建子图\n",
    "fig, (ax1, ax2, ax3) = plt.subplots(nrows=1, ncols=3, figsize=(10, 5))\n",
    "\n",
    "# 在第一个子图中绘制ATI\n",
    "ax1.scatter(x, y1)\n",
    "ax1.set_title('ATI')\n",
    "ax1.set_ylim([0,0.1])\n",
    "\n",
    "# 在第二个子图中绘制ATIM\n",
    "ax2.scatter(x, y2)\n",
    "ax2.set_title('ATIM')\n",
    "ax2.set_ylim([0,0.1])\n",
    "\n",
    "# 在第三个子图中绘制ATISD\n",
    "ax3.scatter(x, y3)\n",
    "ax3.set_title('ATISD')\n",
    "ax3.set_ylim([-0.002,0.01])\n",
    "\n",
    "# 显示图像\n",
    "plt.show()"
   ]
  },
  {
   "cell_type": "code",
   "execution_count": 11,
   "metadata": {},
   "outputs": [
    {
     "data": {
      "image/png": "[encoded data removed]",
      "text/plain": [
       "<Figure size 432x288 with 1 Axes>"
      ]
     },
     "metadata": {
      "needs_background": "light"
     },
     "output_type": "display_data"
    },
    {
     "data": {
      "image/png": "[encoded data removed]",
      "text/plain": [
       "<Figure size 432x288 with 1 Axes>"
      ]
     },
     "metadata": {
      "needs_background": "light"
     },
     "output_type": "display_data"
    },
    {
     "name": "stdout",
     "output_type": "stream",
     "text": [
      "[array([0.0634138705148215, 0.04352615773677826, 0.005105838179588318],\n",
      "      dtype=object), array([0.05549363650411676, 0.05215024575591087, 0.002613214310258627],\n",
      "      dtype=object), array([0.04918203310532434, 0.053503699600696564, 0.00017412452143616974],\n",
      "      dtype=object), array([0.03797283072883207, 0.03759531304240227, 0.006869177334010601],\n",
      "      dtype=object), array([0.025718727946372238, 0.03547706827521324, 0.004206940997391939],\n",
      "      dtype=object), array([0.03199167053213034, 0.03364439681172371, 0.0025784941390156746],\n",
      "      dtype=object)]\n"
     ]
    },
    {
     "data": {
      "image/png": "[encoded data removed]",
      "text/plain": [
       "<Figure size 720x360 with 3 Axes>"
      ]
     },
     "metadata": {
      "needs_background": "light"
     },
     "output_type": "display_data"
    }
   ],
   "source": [
    "# 验证集sm站点数据\n",
    "sm = [x['label_data'][0][0] for x in valid_dataset]\n",
    "x = [x for x in range(len(sm))]\n",
    "y = sm\n",
    "\n",
    "# 绘制散点图\n",
    "plt.scatter(x, y, c='red', s=10, alpha=1)\n",
    "\n",
    "# 添加标签和标题\n",
    "plt.ylim(0, 1)\n",
    "plt.xlabel('X')\n",
    "plt.ylabel('Y')\n",
    "plt.title('SM In-Situ')\n",
    "\n",
    "# 显示图像\n",
    "plt.show()\n",
    "\n",
    "# 验证集SMAP数据\n",
    "smap = [x['label_data'][0][1] for x in valid_dataset]\n",
    "x = [x for x in range(len(sm))]\n",
    "y = smap\n",
    "\n",
    "# 绘制散点图\n",
    "plt.scatter(x, y, c='red', s=10, alpha=1)\n",
    "\n",
    "# 添加标签和标题\n",
    "plt.ylim(0, 1)\n",
    "plt.xlabel('X')\n",
    "plt.ylabel('Y')\n",
    "plt.title('SMAP')\n",
    "\n",
    "# 显示图像\n",
    "plt.show()\n",
    "\n",
    "\n",
    "# 创建数据\n",
    "ati = [x['label_data'][0][2] for x in valid_dataset]\n",
    "print(ati)\n",
    "x = [x for x in range(len(ati))]\n",
    "\n",
    "y1 = [x[0] for x in ati]\n",
    "y2 = [x[1] for x in ati]\n",
    "y3 = [x[2] for x in ati]\n",
    "\n",
    "# 创建子图\n",
    "fig, (ax1, ax2, ax3) = plt.subplots(nrows=1, ncols=3, figsize=(10, 5))\n",
    "\n",
    "# 在第一个子图中绘制sin函数\n",
    "ax1.scatter(x, y1)\n",
    "ax1.set_title('ATI')\n",
    "ax1.set_ylim([0,0.1])\n",
    "\n",
    "# 在第二个子图中绘制cos函数\n",
    "ax2.scatter(x, y2)\n",
    "ax2.set_title('ATIM')\n",
    "ax2.set_ylim([0,0.1])\n",
    "\n",
    "# 在第三个子图中绘制tan函数\n",
    "ax3.scatter(x, y3)\n",
    "ax3.set_title('ATISD')\n",
    "ax3.set_ylim([-0.01,0.05])\n",
    "\n",
    "# 显示图像\n",
    "plt.show()"
   ]
  },
  {
   "cell_type": "markdown",
   "metadata": {
    "id": "0OBYgjCA-YwD"
   },
   "source": [
    "# Start training!"
   ]
  },
  {
   "cell_type": "code",
   "execution_count": 12,
   "metadata": {
    "colab": {
     "base_uri": "https://localhost:8080/"
    },
    "id": "YdttVRkAfu2t",
    "outputId": "864a1214-e69e-4197-dda0-ce2f6fe07d3c"
   },
   "outputs": [
    {
     "name": "stdout",
     "output_type": "stream",
     "text": [
      "1937\n",
      "DNNTEST(\n",
      "  (layers): Sequential(\n",
      "    (0): Linear(in_features=1937, out_features=16, bias=True)\n",
      "    (1): ReLU()\n",
      "    (2): Linear(in_features=16, out_features=8, bias=True)\n",
      "    (3): ReLU()\n",
      "    (4): Linear(in_features=8, out_features=1, bias=True)\n",
      "  )\n",
      ")\n",
      "Epoch [1/300]: Train loss: 0.0850, Valid loss: 0.2957\n",
      "Saving model with loss 0.296...\n",
      "Epoch [2/300]: Train loss: 0.0821, Valid loss: 0.2362\n",
      "Saving model with loss 0.236...\n",
      "Epoch [3/300]: Train loss: 0.0781, Valid loss: 0.1697\n",
      "Saving model with loss 0.170...\n",
      "Epoch [4/300]: Train loss: 0.0714, Valid loss: 0.1254\n",
      "Saving model with loss 0.125...\n",
      "Epoch [5/300]: Train loss: 0.0663, Valid loss: 0.0908\n",
      "Saving model with loss 0.091...\n",
      "Epoch [6/300]: Train loss: 0.0620, Valid loss: 0.0609\n",
      "Saving model with loss 0.061...\n",
      "Epoch [7/300]: Train loss: 0.0580, Valid loss: 0.0387\n",
      "Saving model with loss 0.039...\n",
      "Epoch [8/300]: Train loss: 0.0537, Valid loss: 0.0243\n",
      "Saving model with loss 0.024...\n",
      "Epoch [9/300]: Train loss: 0.0506, Valid loss: 0.0150\n",
      "Saving model with loss 0.015...\n",
      "Epoch [10/300]: Train loss: 0.0488, Valid loss: 0.0106\n",
      "Saving model with loss 0.011...\n",
      "Epoch [11/300]: Train loss: 0.0453, Valid loss: 0.0112\n",
      "Epoch [12/300]: Train loss: 0.0427, Valid loss: 0.0153\n",
      "Epoch [13/300]: Train loss: 0.0409, Valid loss: 0.0223\n",
      "Epoch [14/300]: Train loss: 0.0397, Valid loss: 0.0324\n",
      "Epoch [15/300]: Train loss: 0.0381, Valid loss: 0.0439\n",
      "Epoch [16/300]: Train loss: 0.0366, Valid loss: 0.0555\n",
      "Epoch [17/300]: Train loss: 0.0359, Valid loss: 0.0687\n",
      "Epoch [18/300]: Train loss: 0.0349, Valid loss: 0.0820\n",
      "Epoch [19/300]: Train loss: 0.0342, Valid loss: 0.0958\n",
      "Epoch [20/300]: Train loss: 0.0336, Valid loss: 0.1101\n",
      "\n",
      "Model is not improving, so we halt the training session.\n"
     ]
    }
   ],
   "source": [
    "model = DNNTEST(input_dim=train_dataset.get_input_shape(0)[0]).to(device) # put your model and data on the same computation device.\n",
    "print(train_dataset.get_input_shape(0)[0])\n",
    "print(model)\n",
    "trainer(train_loader, valid_loader, model, config, device)"
   ]
  },
  {
   "cell_type": "markdown",
   "metadata": {},
   "source": [
    "## Testing"
   ]
  },
  {
   "cell_type": "code",
   "execution_count": 21,
   "metadata": {},
   "outputs": [],
   "source": [
    "def tester(test_loader, model, config, device):\n",
    "    criterion = physics_loss # Define your loss function, do not modify this.\n",
    "    model.eval() # Set your model to evaluation mode.\n",
    "    loss_record = []\n",
    "    for data_pkg in test_loader:\n",
    "        x = data_pkg['processed_data']\n",
    "#         x, y = x.to(device), y.to(device)   # Move your data to device. \n",
    "        with torch.no_grad():\n",
    "            pred = model(x)\n",
    "            loss = criterion(pred, data_pkg['label_data'], config['test_batch_size'])\n",
    "        loss_record.append(loss.item())\n",
    "    mean_test_loss = sum(loss_record)/len(loss_record)\n",
    "    print(mean_test_loss)\n",
    "    print(loss_record)    "
   ]
  },
  {
   "cell_type": "code",
   "execution_count": 22,
   "metadata": {
    "scrolled": true
   },
   "outputs": [
    {
     "name": "stdout",
     "output_type": "stream",
     "text": [
      "0.042919445117669444\n",
      "[0.0013218997046351433, 0.14888589084148407, 0.05410126969218254, 0.00454932264983654, 0.029744185507297516, 0.02456778846681118, 0.03726575896143913]\n"
     ]
    }
   ],
   "source": [
    "param_path = os.path.join(config['root'],'OUTPUT\\\\MODELS\\\\0.010568483732640743.ckpt' )\n",
    "model = DNNTEST(input_dim=train_dataset.get_input_shape(0)[0]).to(device)\n",
    "model.load_state_dict(torch.load(param_path))\n",
    "tester(test_loader, model, config, device) "
   ]
  },
  {
   "cell_type": "code",
   "execution_count": null,
   "metadata": {},
   "outputs": [],
   "source": []
  }
 ],
 "metadata": {
  "accelerator": "GPU",
  "colab": {
   "collapsed_sections": [],
   "name": "ML2022Spring - HW1.ipynb",
   "provenance": []
  },
  "kernelspec": {
   "display_name": "Python 3 (ipykernel)",
   "language": "python",
   "name": "python3"
  },
  "language_info": {
   "codemirror_mode": {
    "name": "ipython",
    "version": 3
   },
   "file_extension": ".py",
   "mimetype": "text/x-python",
   "name": "python",
   "nbconvert_exporter": "python",
   "pygments_lexer": "ipython3",
   "version": "3.8.12"
  }
 },
 "nbformat": 4,
 "nbformat_minor": 1
}
