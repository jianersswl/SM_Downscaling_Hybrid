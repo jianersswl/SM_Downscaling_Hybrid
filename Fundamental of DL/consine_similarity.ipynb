{
 "cells": [
  {
   "cell_type": "code",
   "execution_count": 13,
   "id": "86262dd0",
   "metadata": {},
   "outputs": [
    {
     "name": "stdout",
     "output_type": "stream",
     "text": [
      "tensor([[[1., 2.],\n",
      "         [3., 4.],\n",
      "         [5., 6.]]])\n",
      "tensor([[[1., 2.]],\n",
      "\n",
      "        [[3., 4.]],\n",
      "\n",
      "        [[5., 6.]]])\n",
      "tensor([[1.0000, 0.9839, 0.9734],\n",
      "        [0.9839, 1.0000, 0.9987],\n",
      "        [0.9734, 0.9987, 1.0000]])\n",
      "tensor([[1.0000, 0.9839, 0.9734],\n",
      "        [0.9839, 1.0000, 0.9987],\n",
      "        [0.9734, 0.9987, 1.0000]])\n"
     ]
    }
   ],
   "source": [
    "import torch.nn.functional as F\n",
    "import torch\n",
    "a = torch.tensor([[1., 2.],\n",
    "                [3., 4.],\n",
    "                [5., 6.]])\n",
    "\n",
    "b = a.unsqueeze(1)\n",
    "a = a.unsqueeze(0)\n",
    "\n",
    "print(a)\n",
    "print(b)\n",
    "\n",
    "# 计算余弦相似度，得到形状为 (32, 1, 128, 128) 的张量\n",
    "cos_sim = torch.nn.functional.cosine_similarity(a, b, dim=-1)\n",
    "print(cos_sim)\n",
    "\n",
    "# 取出每个样本的余弦相似度矩阵，得到形状为 (32, 128, 128) 的张量\n",
    "cos_sim = cos_sim.squeeze(1)\n",
    "print(cos_sim)"
   ]
  },
  {
   "cell_type": "code",
   "execution_count": 23,
   "id": "2fbf3439",
   "metadata": {},
   "outputs": [
    {
     "name": "stdout",
     "output_type": "stream",
     "text": [
      "tensor([1.0000, 1.0000, 1.0000])\n",
      "tensor(5.9119)\n",
      "tensor(0.9853)\n"
     ]
    }
   ],
   "source": [
    "# 获取对角线上的值\n",
    "diag = torch.diag(cos_sim)\n",
    "print(diag)\n",
    "# 获取非对角线上的值\n",
    "others_sum = torch.sum(cos_sim - torch.diag(diag))\n",
    "print(others_sum)\n",
    "# 计算均值\n",
    "mean_others = others_sum/(cos_sim.shape[0]*(cos_sim.shape[0]-1))\n",
    "print(mean_others)"
   ]
  },
  {
   "cell_type": "code",
   "execution_count": null,
   "id": "80a404f3",
   "metadata": {},
   "outputs": [],
   "source": []
  }
 ],
 "metadata": {
  "kernelspec": {
   "display_name": "Python 3 (ipykernel)",
   "language": "python",
   "name": "python3"
  },
  "language_info": {
   "codemirror_mode": {
    "name": "ipython",
    "version": 3
   },
   "file_extension": ".py",
   "mimetype": "text/x-python",
   "name": "python",
   "nbconvert_exporter": "python",
   "pygments_lexer": "ipython3",
   "version": "3.8.12"
  }
 },
 "nbformat": 4,
 "nbformat_minor": 5
}
