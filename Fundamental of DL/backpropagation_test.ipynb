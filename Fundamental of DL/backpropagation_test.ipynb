{
 "cells": [
  {
   "cell_type": "code",
   "execution_count": 15,
   "id": "a9573044",
   "metadata": {},
   "outputs": [
    {
     "name": "stdout",
     "output_type": "stream",
     "text": [
      "tensor([[ 4., 12.],\n",
      "        [ 6., 14.]], grad_fn=<AddBackward0>)\n",
      "tensor([[2., 6.],\n",
      "        [3., 7.]], grad_fn=<AddBackward0>)\n",
      "tensor([[ 8., 72.],\n",
      "        [18., 98.]], grad_fn=<MulBackward0>)\n",
      "tensor([[ 6., 18.],\n",
      "        [ 9., 21.]])\n"
     ]
    }
   ],
   "source": [
    "import torch\n",
    "\n",
    "w = torch.tensor([[1.0, 5.0], [2.0, 6.0]], requires_grad=True)\n",
    "x = torch.tensor([[3.0, 7.0], [4.0, 8.0]], requires_grad=True)\n",
    "a = torch.add(w, x)\n",
    "b = torch.add(w, 1)\n",
    "y = torch.mul(a, b)\n",
    "print(a)\n",
    "print(b)\n",
    "print(y)\n",
    "y.sum().backward()\n",
    "print(w.grad)"
   ]
  },
  {
   "cell_type": "code",
   "execution_count": null,
   "id": "897b454a",
   "metadata": {},
   "outputs": [],
   "source": []
  }
 ],
 "metadata": {
  "kernelspec": {
   "display_name": "Python 3 (ipykernel)",
   "language": "python",
   "name": "python3"
  },
  "language_info": {
   "codemirror_mode": {
    "name": "ipython",
    "version": 3
   },
   "file_extension": ".py",
   "mimetype": "text/x-python",
   "name": "python",
   "nbconvert_exporter": "python",
   "pygments_lexer": "ipython3",
   "version": "3.8.12"
  }
 },
 "nbformat": 4,
 "nbformat_minor": 5
}
