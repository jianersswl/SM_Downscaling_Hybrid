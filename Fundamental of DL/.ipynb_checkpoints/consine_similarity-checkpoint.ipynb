{
 "cells": [
  {
   "cell_type": "code",
   "execution_count": 11,
   "id": "cdf521cc",
   "metadata": {},
   "outputs": [
    {
     "name": "stdout",
     "output_type": "stream",
     "text": [
      "tensor([[[1., 2.]],\n",
      "\n",
      "        [[3., 4.]],\n",
      "\n",
      "        [[5., 6.]]])\n",
      "tensor([[[1.],\n",
      "         [2.]],\n",
      "\n",
      "        [[3.],\n",
      "         [4.]],\n",
      "\n",
      "        [[5.],\n",
      "         [6.]]])\n"
     ]
    }
   ],
   "source": [
    "import torch.nn.functional as F\n",
    "import torch\n",
    "a = torch.tensor([[1., 2.],\n",
    "                [3., 4.],\n",
    "                [5., 6.]])\n",
    "\n",
    "b = a.unsqueeze(1)\n",
    "a = a.unsqueeze(0)\n",
    "\n",
    "print(a)\n",
    "print(b)\n",
    "\n",
    "# 计算余弦相似度，得到形状为 (32, 1, 128, 128) 的张量\n",
    "cos_sim = torch.nn.functional.cosine_similarity(a, b, dim=-1)\n",
    "print(cos_sim)\n",
    "\n",
    "# 取出每个样本的余弦相似度矩阵，得到形状为 (32, 128, 128) 的张量\n",
    "cos_sim = cos_sim.squeeze(1)"
   ]
  },
  {
   "cell_type": "code",
   "execution_count": null,
   "id": "c9474e70",
   "metadata": {},
   "outputs": [],
   "source": []
  }
 ],
 "metadata": {
  "kernelspec": {
   "display_name": "Python 3 (ipykernel)",
   "language": "python",
   "name": "python3"
  },
  "language_info": {
   "codemirror_mode": {
    "name": "ipython",
    "version": 3
   },
   "file_extension": ".py",
   "mimetype": "text/x-python",
   "name": "python",
   "nbconvert_exporter": "python",
   "pygments_lexer": "ipython3",
   "version": "3.8.12"
  }
 },
 "nbformat": 4,
 "nbformat_minor": 5
}
