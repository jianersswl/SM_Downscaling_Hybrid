{
 "cells": [
  {
   "cell_type": "code",
   "execution_count": null,
   "id": "004565bf",
   "metadata": {},
   "outputs": [],
   "source": [
    "def normalization(array_1d):\n",
    "    mean = np.mean(array_1d, axis=0)\n",
    "    std = np.std(array_1d, axis=0)\n",
    "    return (array_1d - mean) / std"
   ]
  },
  {
   "cell_type": "code",
   "execution_count": 122,
   "id": "5b9a0f2b",
   "metadata": {},
   "outputs": [],
   "source": [
    "import os\n",
    "import numpy as np\n",
    "from osgeo import gdal\n",
    "\n",
    "def save_tiff_as_numpy(tiff_file, output_dir, verified_mat):\n",
    "    # Create saving directory\n",
    "    if os.path.exists(output_dir)==False:\n",
    "        os.makedirs(output_dir, exist_ok=True)\n",
    "\n",
    "    # Open the TIFF file\n",
    "    dataset = gdal.Open(tiff_file)\n",
    "\n",
    "    # Loop over all bands in the TIFF file\n",
    "    for i in range(dataset.RasterCount):\n",
    "        # Read the band data as a NumPy array\n",
    "        band = dataset.GetRasterBand(i+1)\n",
    "        data = band.ReadAsArray()\n",
    "#         print(np.count_nonzero(verified_mat==1))\n",
    "        data = data[verified_mat==1]\n",
    "        index = np.where(verified_mat == 1)\n",
    "        print(data.shape)\n",
    "        data = normalization(data)\n",
    "        for j,val in enumerate(data):\n",
    "            # Construct the output file name\n",
    "#             output_file = os.path.join(output_dir, f\"{index[0][j]}_{index[1][j]}.npy\")\n",
    "            output_file = os.path.join(output_dir, f\"{j}.npy\")\n",
    "            print(output_file)\n",
    "\n",
    "            # Save the data as a NumPy file\n",
    "            np.save(output_file, [val])\n",
    "\n",
    "    # Close the dataset\n",
    "#     dataset = None\n"
   ]
  },
  {
   "cell_type": "code",
   "execution_count": 123,
   "id": "3dfddd10",
   "metadata": {},
   "outputs": [],
   "source": [
    "tiff_file = \"E:\\\\downscaling\\\\Soil_moisture_downscale_czt\\\\SMAP\\\\SMAP_L3_SM_P_E_20151015.tif\"\n",
    "output_dir = \"E:\\\\downscaling\\\\Soil_moisture_downscale_czt\\\\DATASET\\\\INPUT\\\\SMAP\\\\20151015\""
   ]
  },
  {
   "cell_type": "code",
   "execution_count": 124,
   "id": "dd866224",
   "metadata": {},
   "outputs": [
    {
     "name": "stdout",
     "output_type": "stream",
     "text": [
      "(7, 13)\n"
     ]
    }
   ],
   "source": [
    "verified_mat = np.array([[0, 0, 0, 0, 0, 0, 0, 0, 0, 0, 0, 0, 0],\n",
    "                         [0, 0, 0, 0, 0, 0, 0, 0, 0, 0, 0, 0, 0],\n",
    "                         [0, 0, 0, 0, 0, 0, 0, 0, 0, 0, 0, 0, 0],\n",
    "                         [0, 0, 0, 0, 0, 0, 0, 0, 0, 0, 0, 0, 0],\n",
    "                         [0, 0, 0, 0, 0, 0, 0, 0, 0, 0, 0, 0, 0],\n",
    "                         [0, 0, 0, 0, 0, 0, 0, 0, 0, 0, 0, 0, 0],\n",
    "                         [0, 0, 0, 0, 0, 0, 0, 0, 0, 0, 0, 0, 0],\n",
    "                         ])\n",
    "verified_mat[0][2:7] = 1\n",
    "verified_mat[1][0:8] = 1\n",
    "verified_mat[2][0:10] = 1\n",
    "verified_mat[3][0:12] = 1\n",
    "verified_mat[4][2:13] = 1\n",
    "verified_mat[5][6:13] = 1\n",
    "verified_mat[6][7:12] = 1\n",
    "print(verified_mat.shape)"
   ]
  },
  {
   "cell_type": "code",
   "execution_count": 125,
   "id": "1244e2b1",
   "metadata": {},
   "outputs": [
    {
     "name": "stdout",
     "output_type": "stream",
     "text": [
      "(58,)\n",
      "E:\\downscaling\\Soil_moisture_downscale_czt\\DATASET\\INPUT\\SMAP\\20151015\\0.npy\n",
      "E:\\downscaling\\Soil_moisture_downscale_czt\\DATASET\\INPUT\\SMAP\\20151015\\1.npy\n",
      "E:\\downscaling\\Soil_moisture_downscale_czt\\DATASET\\INPUT\\SMAP\\20151015\\2.npy\n",
      "E:\\downscaling\\Soil_moisture_downscale_czt\\DATASET\\INPUT\\SMAP\\20151015\\3.npy\n",
      "E:\\downscaling\\Soil_moisture_downscale_czt\\DATASET\\INPUT\\SMAP\\20151015\\4.npy\n",
      "E:\\downscaling\\Soil_moisture_downscale_czt\\DATASET\\INPUT\\SMAP\\20151015\\5.npy\n",
      "E:\\downscaling\\Soil_moisture_downscale_czt\\DATASET\\INPUT\\SMAP\\20151015\\6.npy\n",
      "E:\\downscaling\\Soil_moisture_downscale_czt\\DATASET\\INPUT\\SMAP\\20151015\\7.npy\n",
      "E:\\downscaling\\Soil_moisture_downscale_czt\\DATASET\\INPUT\\SMAP\\20151015\\8.npy\n",
      "E:\\downscaling\\Soil_moisture_downscale_czt\\DATASET\\INPUT\\SMAP\\20151015\\9.npy\n",
      "E:\\downscaling\\Soil_moisture_downscale_czt\\DATASET\\INPUT\\SMAP\\20151015\\10.npy\n",
      "E:\\downscaling\\Soil_moisture_downscale_czt\\DATASET\\INPUT\\SMAP\\20151015\\11.npy\n",
      "E:\\downscaling\\Soil_moisture_downscale_czt\\DATASET\\INPUT\\SMAP\\20151015\\12.npy\n",
      "E:\\downscaling\\Soil_moisture_downscale_czt\\DATASET\\INPUT\\SMAP\\20151015\\13.npy\n",
      "E:\\downscaling\\Soil_moisture_downscale_czt\\DATASET\\INPUT\\SMAP\\20151015\\14.npy\n",
      "E:\\downscaling\\Soil_moisture_downscale_czt\\DATASET\\INPUT\\SMAP\\20151015\\15.npy\n",
      "E:\\downscaling\\Soil_moisture_downscale_czt\\DATASET\\INPUT\\SMAP\\20151015\\16.npy\n",
      "E:\\downscaling\\Soil_moisture_downscale_czt\\DATASET\\INPUT\\SMAP\\20151015\\17.npy\n",
      "E:\\downscaling\\Soil_moisture_downscale_czt\\DATASET\\INPUT\\SMAP\\20151015\\18.npy\n",
      "E:\\downscaling\\Soil_moisture_downscale_czt\\DATASET\\INPUT\\SMAP\\20151015\\19.npy\n",
      "E:\\downscaling\\Soil_moisture_downscale_czt\\DATASET\\INPUT\\SMAP\\20151015\\20.npy\n",
      "E:\\downscaling\\Soil_moisture_downscale_czt\\DATASET\\INPUT\\SMAP\\20151015\\21.npy\n",
      "E:\\downscaling\\Soil_moisture_downscale_czt\\DATASET\\INPUT\\SMAP\\20151015\\22.npy\n",
      "E:\\downscaling\\Soil_moisture_downscale_czt\\DATASET\\INPUT\\SMAP\\20151015\\23.npy\n",
      "E:\\downscaling\\Soil_moisture_downscale_czt\\DATASET\\INPUT\\SMAP\\20151015\\24.npy\n",
      "E:\\downscaling\\Soil_moisture_downscale_czt\\DATASET\\INPUT\\SMAP\\20151015\\25.npy\n",
      "E:\\downscaling\\Soil_moisture_downscale_czt\\DATASET\\INPUT\\SMAP\\20151015\\26.npy\n",
      "E:\\downscaling\\Soil_moisture_downscale_czt\\DATASET\\INPUT\\SMAP\\20151015\\27.npy\n",
      "E:\\downscaling\\Soil_moisture_downscale_czt\\DATASET\\INPUT\\SMAP\\20151015\\28.npy\n",
      "E:\\downscaling\\Soil_moisture_downscale_czt\\DATASET\\INPUT\\SMAP\\20151015\\29.npy\n",
      "E:\\downscaling\\Soil_moisture_downscale_czt\\DATASET\\INPUT\\SMAP\\20151015\\30.npy\n",
      "E:\\downscaling\\Soil_moisture_downscale_czt\\DATASET\\INPUT\\SMAP\\20151015\\31.npy\n",
      "E:\\downscaling\\Soil_moisture_downscale_czt\\DATASET\\INPUT\\SMAP\\20151015\\32.npy\n",
      "E:\\downscaling\\Soil_moisture_downscale_czt\\DATASET\\INPUT\\SMAP\\20151015\\33.npy\n",
      "E:\\downscaling\\Soil_moisture_downscale_czt\\DATASET\\INPUT\\SMAP\\20151015\\34.npy\n",
      "E:\\downscaling\\Soil_moisture_downscale_czt\\DATASET\\INPUT\\SMAP\\20151015\\35.npy\n",
      "E:\\downscaling\\Soil_moisture_downscale_czt\\DATASET\\INPUT\\SMAP\\20151015\\36.npy\n",
      "E:\\downscaling\\Soil_moisture_downscale_czt\\DATASET\\INPUT\\SMAP\\20151015\\37.npy\n",
      "E:\\downscaling\\Soil_moisture_downscale_czt\\DATASET\\INPUT\\SMAP\\20151015\\38.npy\n",
      "E:\\downscaling\\Soil_moisture_downscale_czt\\DATASET\\INPUT\\SMAP\\20151015\\39.npy\n",
      "E:\\downscaling\\Soil_moisture_downscale_czt\\DATASET\\INPUT\\SMAP\\20151015\\40.npy\n",
      "E:\\downscaling\\Soil_moisture_downscale_czt\\DATASET\\INPUT\\SMAP\\20151015\\41.npy\n",
      "E:\\downscaling\\Soil_moisture_downscale_czt\\DATASET\\INPUT\\SMAP\\20151015\\42.npy\n",
      "E:\\downscaling\\Soil_moisture_downscale_czt\\DATASET\\INPUT\\SMAP\\20151015\\43.npy\n",
      "E:\\downscaling\\Soil_moisture_downscale_czt\\DATASET\\INPUT\\SMAP\\20151015\\44.npy\n",
      "E:\\downscaling\\Soil_moisture_downscale_czt\\DATASET\\INPUT\\SMAP\\20151015\\45.npy\n",
      "E:\\downscaling\\Soil_moisture_downscale_czt\\DATASET\\INPUT\\SMAP\\20151015\\46.npy\n",
      "E:\\downscaling\\Soil_moisture_downscale_czt\\DATASET\\INPUT\\SMAP\\20151015\\47.npy\n",
      "E:\\downscaling\\Soil_moisture_downscale_czt\\DATASET\\INPUT\\SMAP\\20151015\\48.npy\n",
      "E:\\downscaling\\Soil_moisture_downscale_czt\\DATASET\\INPUT\\SMAP\\20151015\\49.npy\n",
      "E:\\downscaling\\Soil_moisture_downscale_czt\\DATASET\\INPUT\\SMAP\\20151015\\50.npy\n",
      "E:\\downscaling\\Soil_moisture_downscale_czt\\DATASET\\INPUT\\SMAP\\20151015\\51.npy\n",
      "E:\\downscaling\\Soil_moisture_downscale_czt\\DATASET\\INPUT\\SMAP\\20151015\\52.npy\n",
      "E:\\downscaling\\Soil_moisture_downscale_czt\\DATASET\\INPUT\\SMAP\\20151015\\53.npy\n",
      "E:\\downscaling\\Soil_moisture_downscale_czt\\DATASET\\INPUT\\SMAP\\20151015\\54.npy\n",
      "E:\\downscaling\\Soil_moisture_downscale_czt\\DATASET\\INPUT\\SMAP\\20151015\\55.npy\n",
      "E:\\downscaling\\Soil_moisture_downscale_czt\\DATASET\\INPUT\\SMAP\\20151015\\56.npy\n",
      "E:\\downscaling\\Soil_moisture_downscale_czt\\DATASET\\INPUT\\SMAP\\20151015\\57.npy\n"
     ]
    }
   ],
   "source": [
    "save_tiff_as_numpy(tiff_file, output_dir, verified_mat)"
   ]
  },
  {
   "cell_type": "code",
   "execution_count": 117,
   "id": "8ce76356",
   "metadata": {},
   "outputs": [
    {
     "name": "stdout",
     "output_type": "stream",
     "text": [
      "0.13313057\n",
      "0.13313057\n"
     ]
    }
   ],
   "source": [
    "array = np.load(\"E:\\\\downscaling\\\\Soil_moisture_downscale_czt\\\\DATASET\\\\INPUT\\\\SMAP\\\\20151015\\\\0.npy\")\n",
    "print(np.amin(array))\n",
    "print(np.amax(array))"
   ]
  },
  {
   "cell_type": "code",
   "execution_count": null,
   "id": "fae3cc25",
   "metadata": {},
   "outputs": [],
   "source": []
  },
  {
   "cell_type": "code",
   "execution_count": null,
   "id": "cf905cb4",
   "metadata": {},
   "outputs": [],
   "source": []
  }
 ],
 "metadata": {
  "kernelspec": {
   "display_name": "Python 3 (ipykernel)",
   "language": "python",
   "name": "python3"
  },
  "language_info": {
   "codemirror_mode": {
    "name": "ipython",
    "version": 3
   },
   "file_extension": ".py",
   "mimetype": "text/x-python",
   "name": "python",
   "nbconvert_exporter": "python",
   "pygments_lexer": "ipython3",
   "version": "3.8.12"
  }
 },
 "nbformat": 4,
 "nbformat_minor": 5
}
