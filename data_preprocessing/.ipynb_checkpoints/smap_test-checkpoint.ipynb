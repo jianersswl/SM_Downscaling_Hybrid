{
 "cells": [
  {
   "cell_type": "code",
   "execution_count": 130,
   "id": "27d1ba64",
   "metadata": {},
   "outputs": [],
   "source": [
    "def normalization(array_1d):\n",
    "    mean = np.mean(array_1d, axis=0)\n",
    "    std = np.std(array_1d, axis=0)\n",
    "    return (array_1d - mean) / std"
   ]
  },
  {
   "cell_type": "code",
   "execution_count": 135,
   "id": "5b9a0f2b",
   "metadata": {},
   "outputs": [],
   "source": [
    "import os\n",
    "import numpy as np\n",
    "from osgeo import gdal\n",
    "\n",
    "def save_tiff_as_numpy(tiff_file, output_dir, verified_mat, normalization=True):\n",
    "    # Create saving directory\n",
    "    if os.path.exists(output_dir)==False:\n",
    "        os.makedirs(output_dir, exist_ok=True)\n",
    "\n",
    "    # Open the TIFF file\n",
    "    dataset = gdal.Open(tiff_file)\n",
    "\n",
    "    # Loop over all bands in the TIFF file\n",
    "    for i in range(dataset.RasterCount):\n",
    "        # Read the band data as a NumPy array\n",
    "        band = dataset.GetRasterBand(i+1)\n",
    "        data = band.ReadAsArray()\n",
    "#         print(np.count_nonzero(verified_mat==1))\n",
    "        data = data[verified_mat==1]\n",
    "        index = np.where(verified_mat == 1)\n",
    "        print(data)\n",
    "        if normalization == True:\n",
    "            data = normalization(data)\n",
    "        print(data)\n",
    "        for j,val in enumerate(data):\n",
    "            # Construct the output file name\n",
    "            output_file = os.path.join(output_dir, f\"{j}.npy\")\n",
    "            print(output_file)\n",
    "\n",
    "            # Save the data as a NumPy file\n",
    "            np.save(output_file, [val])\n",
    "\n",
    "    # Close the dataset\n",
    "    dataset = None\n"
   ]
  },
  {
   "cell_type": "code",
   "execution_count": 136,
   "id": "3dfddd10",
   "metadata": {},
   "outputs": [],
   "source": [
    "tiff_file = \"D:\\\\1GRADUATED\\\\paper\\\\downscaling_data\\\\Soil_moisture_downscale_czt\\\\SMAP\\\\SMAP_L3_SM_P_E_20151015.tif\"\n",
    "# output_dir = \"E:\\\\downscaling\\\\Soil_moisture_downscale_czt\\\\DATASET\\\\INPUT\\\\SMAP\\\\20151015\"\n",
    "output_label = 'D:\\\\1GRADUATED\\\\paper\\\\downscaling_data\\\\Soil_moisture_downscale_czt\\\\DATASET\\\\LABEL\\\\SMAP\\\\20151015'"
   ]
  },
  {
   "cell_type": "code",
   "execution_count": 137,
   "id": "dd866224",
   "metadata": {},
   "outputs": [
    {
     "name": "stdout",
     "output_type": "stream",
     "text": [
      "(7, 13)\n"
     ]
    }
   ],
   "source": [
    "verified_mat = np.array([[0, 0, 0, 0, 0, 0, 0, 0, 0, 0, 0, 0, 0],\n",
    "                         [0, 0, 0, 0, 0, 0, 0, 0, 0, 0, 0, 0, 0],\n",
    "                         [0, 0, 0, 0, 0, 0, 0, 0, 0, 0, 0, 0, 0],\n",
    "                         [0, 0, 0, 0, 0, 0, 0, 0, 0, 0, 0, 0, 0],\n",
    "                         [0, 0, 0, 0, 0, 0, 0, 0, 0, 0, 0, 0, 0],\n",
    "                         [0, 0, 0, 0, 0, 0, 0, 0, 0, 0, 0, 0, 0],\n",
    "                         [0, 0, 0, 0, 0, 0, 0, 0, 0, 0, 0, 0, 0],\n",
    "                         ])\n",
    "verified_mat[0][2:7] = 1\n",
    "verified_mat[1][0:8] = 1\n",
    "verified_mat[2][0:10] = 1\n",
    "verified_mat[3][0:12] = 1\n",
    "verified_mat[4][2:13] = 1\n",
    "verified_mat[5][6:13] = 1\n",
    "verified_mat[6][7:12] = 1\n",
    "print(verified_mat.shape)"
   ]
  },
  {
   "cell_type": "markdown",
   "id": "5c763315",
   "metadata": {},
   "source": [
    "## Generalize for input"
   ]
  },
  {
   "cell_type": "code",
   "execution_count": 1,
   "id": "1244e2b1",
   "metadata": {},
   "outputs": [
    {
     "ename": "NameError",
     "evalue": "name 'save_tiff_as_numpy' is not defined",
     "output_type": "error",
     "traceback": [
      "\u001b[1;31m---------------------------------------------------------------------------\u001b[0m",
      "\u001b[1;31mNameError\u001b[0m                                 Traceback (most recent call last)",
      "\u001b[1;32m~\\AppData\\Local\\Temp/ipykernel_36328/1300994092.py\u001b[0m in \u001b[0;36m<module>\u001b[1;34m\u001b[0m\n\u001b[1;32m----> 1\u001b[1;33m \u001b[0msave_tiff_as_numpy\u001b[0m\u001b[1;33m(\u001b[0m\u001b[0mtiff_file\u001b[0m\u001b[1;33m,\u001b[0m \u001b[0moutput_dir\u001b[0m\u001b[1;33m,\u001b[0m \u001b[0mverified_mat\u001b[0m\u001b[1;33m)\u001b[0m\u001b[1;33m\u001b[0m\u001b[1;33m\u001b[0m\u001b[0m\n\u001b[0m",
      "\u001b[1;31mNameError\u001b[0m: name 'save_tiff_as_numpy' is not defined"
     ]
    }
   ],
   "source": [
    "# save_tiff_as_numpy(tiff_file, output_dir, verified_mat)"
   ]
  },
  {
   "cell_type": "code",
   "execution_count": 117,
   "id": "8ce76356",
   "metadata": {},
   "outputs": [
    {
     "name": "stdout",
     "output_type": "stream",
     "text": [
      "0.13313057\n",
      "0.13313057\n"
     ]
    }
   ],
   "source": [
    "# array = np.load(\"E:\\\\downscaling\\\\Soil_moisture_downscale_czt\\\\DATASET\\\\INPUT\\\\SMAP\\\\20151015\\\\0.npy\")\n",
    "# print(np.amin(array))\n",
    "# print(np.amax(array))"
   ]
  },
  {
   "cell_type": "markdown",
   "id": "be5c3211",
   "metadata": {},
   "source": [
    "## Generalize for label"
   ]
  },
  {
   "cell_type": "code",
   "execution_count": null,
   "id": "cf905cb4",
   "metadata": {},
   "outputs": [],
   "source": [
    "save_tiff_as_numpy(tiff_file, output_label, verified_mat, False)"
   ]
  }
 ],
 "metadata": {
  "kernelspec": {
   "display_name": "Python 3 (ipykernel)",
   "language": "python",
   "name": "python3"
  },
  "language_info": {
   "codemirror_mode": {
    "name": "ipython",
    "version": 3
   },
   "file_extension": ".py",
   "mimetype": "text/x-python",
   "name": "python",
   "nbconvert_exporter": "python",
   "pygments_lexer": "ipython3",
   "version": "3.8.12"
  }
 },
 "nbformat": 4,
 "nbformat_minor": 5
}
