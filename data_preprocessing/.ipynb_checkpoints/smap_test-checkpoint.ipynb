{
 "cells": [
  {
   "cell_type": "code",
   "execution_count": 75,
   "id": "e99d7ca4",
   "metadata": {},
   "outputs": [],
   "source": [
    "import os\n",
    "import numpy as np\n",
    "from osgeo import gdal\n",
    "\n",
    "def save_tiff_as_numpy(tiff_file, output_dir, verified_mat):\n",
    "    # Create saving directory\n",
    "    if os.path.exists(output_dir)==False:\n",
    "        os.makedirs(output_dir, exist_ok=True)\n",
    "\n",
    "    # Open the TIFF file\n",
    "    dataset = gdal.Open(tiff_file)\n",
    "\n",
    "    # Loop over all bands in the TIFF file\n",
    "    for i in range(dataset.RasterCount):\n",
    "        # Read the band data as a NumPy array\n",
    "        band = dataset.GetRasterBand(i+1)\n",
    "        data = band.ReadAsArray()\n",
    "#         print(np.count_nonzero(verified_mat==1))\n",
    "        data = data[verified_mat==1]\n",
    "        index = np.where(verified_mat == 1)\n",
    "        print(index)\n",
    "        for j,val in enumerate(data):\n",
    "            # Construct the output file name\n",
    "            output_file = os.path.join(output_dir, f\"{index[0][j]}_{index[1][j].npy\")\n",
    "            print(output_file)\n",
    "\n",
    "            # Save the data as a NumPy file\n",
    "#             np.save(output_file, val)\n",
    "\n",
    "    # Close the dataset\n",
    "#     dataset = None\n"
   ]
  },
  {
   "cell_type": "code",
   "execution_count": 76,
   "id": "7e91fe90",
   "metadata": {},
   "outputs": [],
   "source": [
    "tiff_file = \"E:\\\\downscaling\\\\Soil_moisture_downscale_czt\\\\SMAP\\\\SMAP_L3_SM_P_E_20150401_PM.tif\"\n",
    "output_dir = \"E:\\\\downscaling\\\\Soil_moisture_downscale_czt\\\\SMAP\\\\20150401\""
   ]
  },
  {
   "cell_type": "code",
   "execution_count": 77,
   "id": "a84e2aa7",
   "metadata": {},
   "outputs": [
    {
     "name": "stdout",
     "output_type": "stream",
     "text": [
      "[[0 0 1 1 1 1 1 0 0 0 0 0 0]\n",
      " [1 1 1 1 1 1 1 1 0 0 0 0 0]\n",
      " [1 1 1 1 1 1 1 1 1 1 0 0 0]\n",
      " [1 1 1 1 1 1 1 1 1 1 1 1 0]\n",
      " [0 0 1 1 1 1 1 1 1 1 1 1 1]\n",
      " [0 0 0 0 0 0 1 1 1 1 1 1 1]\n",
      " [0 0 0 0 0 0 0 1 1 1 1 1 0]]\n"
     ]
    }
   ],
   "source": [
    "verified_mat = np.array([[0, 0, 0, 0, 0, 0, 0, 0, 0, 0, 0, 0, 0],\n",
    "                         [0, 0, 0, 0, 0, 0, 0, 0, 0, 0, 0, 0, 0],\n",
    "                         [0, 0, 0, 0, 0, 0, 0, 0, 0, 0, 0, 0, 0],\n",
    "                         [0, 0, 0, 0, 0, 0, 0, 0, 0, 0, 0, 0, 0],\n",
    "                         [0, 0, 0, 0, 0, 0, 0, 0, 0, 0, 0, 0, 0],\n",
    "                         [0, 0, 0, 0, 0, 0, 0, 0, 0, 0, 0, 0, 0],\n",
    "                         [0, 0, 0, 0, 0, 0, 0, 0, 0, 0, 0, 0, 0],\n",
    "                         ])\n",
    "verified_mat[0][2:7] = 1\n",
    "verified_mat[1][0:8] = 1\n",
    "verified_mat[2][0:10] = 1\n",
    "verified_mat[3][0:12] = 1\n",
    "verified_mat[4][2:13] = 1\n",
    "verified_mat[5][6:13] = 1\n",
    "verified_mat[6][7:12] = 1\n",
    "print(verified_mat)"
   ]
  },
  {
   "cell_type": "code",
   "execution_count": 78,
   "id": "602f1c35",
   "metadata": {},
   "outputs": [
    {
     "name": "stdout",
     "output_type": "stream",
     "text": [
      "(array([0, 0, 0, 0, 0, 1, 1, 1, 1, 1, 1, 1, 1, 2, 2, 2, 2, 2, 2, 2, 2, 2,\n",
      "       2, 3, 3, 3, 3, 3, 3, 3, 3, 3, 3, 3, 3, 4, 4, 4, 4, 4, 4, 4, 4, 4,\n",
      "       4, 4, 5, 5, 5, 5, 5, 5, 5, 6, 6, 6, 6, 6], dtype=int64), array([ 2,  3,  4,  5,  6,  0,  1,  2,  3,  4,  5,  6,  7,  0,  1,  2,  3,\n",
      "        4,  5,  6,  7,  8,  9,  0,  1,  2,  3,  4,  5,  6,  7,  8,  9, 10,\n",
      "       11,  2,  3,  4,  5,  6,  7,  8,  9, 10, 11, 12,  6,  7,  8,  9, 10,\n",
      "       11, 12,  7,  8,  9, 10, 11], dtype=int64))\n"
     ]
    }
   ],
   "source": [
    "save_tiff_as_numpy(tiff_file, output_dir, verified_mat)"
   ]
  },
  {
   "cell_type": "code",
   "execution_count": 74,
   "id": "e34b4696",
   "metadata": {},
   "outputs": [
    {
     "name": "stdout",
     "output_type": "stream",
     "text": [
      "0.15427671\n",
      "0.15427671\n"
     ]
    }
   ],
   "source": [
    "array = np.load(\"E:\\\\downscaling\\\\Soil_moisture_downscale_czt\\\\SMAP\\\\20150401\\\\0.npy\")\n",
    "print(np.amin(array))\n",
    "print(np.amax(array))"
   ]
  },
  {
   "cell_type": "code",
   "execution_count": null,
   "id": "5cd3484d",
   "metadata": {},
   "outputs": [],
   "source": []
  }
 ],
 "metadata": {
  "kernelspec": {
   "display_name": "Python 3 (ipykernel)",
   "language": "python",
   "name": "python3"
  },
  "language_info": {
   "codemirror_mode": {
    "name": "ipython",
    "version": 3
   },
   "file_extension": ".py",
   "mimetype": "text/x-python",
   "name": "python",
   "nbconvert_exporter": "python",
   "pygments_lexer": "ipython3",
   "version": "3.8.12"
  }
 },
 "nbformat": 4,
 "nbformat_minor": 5
}
