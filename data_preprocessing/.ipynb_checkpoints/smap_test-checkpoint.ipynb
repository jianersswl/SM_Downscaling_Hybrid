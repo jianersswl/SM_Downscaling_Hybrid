{
 "cells": [
  {
   "cell_type": "code",
   "execution_count": 1,
   "id": "2304cfe7",
   "metadata": {},
   "outputs": [],
   "source": [
    "# io文件操作\n",
    "import re\n",
    "import os\n",
    "import glob\n",
    "import shutil\n",
    "\n",
    "# 数据操作\n",
    "import numpy as np\n",
    "from osgeo import gdal\n",
    "from datetime import datetime\n",
    "\n",
    "# 数据可视化\n",
    "import matplotlib.pyplot as plt"
   ]
  },
  {
   "cell_type": "markdown",
   "id": "db4c9240",
   "metadata": {},
   "source": [
    "## 1. Function of Normalization"
   ]
  },
  {
   "cell_type": "code",
   "execution_count": 2,
   "id": "27d1ba64",
   "metadata": {},
   "outputs": [],
   "source": [
    "def normalize(array_1d):\n",
    "    mean = np.mean(array_1d, axis=0)\n",
    "    std = np.std(array_1d, axis=0)\n",
    "    return (array_1d - mean) / std"
   ]
  },
  {
   "cell_type": "markdown",
   "id": "5e9fb12c",
   "metadata": {},
   "source": [
    "## 2. Verified Matrix to Show Valid Cells of SMAP TIFF"
   ]
  },
  {
   "cell_type": "code",
   "execution_count": 3,
   "id": "dd866224",
   "metadata": {},
   "outputs": [
    {
     "name": "stdout",
     "output_type": "stream",
     "text": [
      "(7, 13)\n"
     ]
    }
   ],
   "source": [
    "verified_mat = np.array([[0, 0, 0, 0, 0, 0, 0, 0, 0, 0, 0, 0, 0],\n",
    "                         [0, 0, 0, 0, 0, 0, 0, 0, 0, 0, 0, 0, 0],\n",
    "                         [0, 0, 0, 0, 0, 0, 0, 0, 0, 0, 0, 0, 0],\n",
    "                         [0, 0, 0, 0, 0, 0, 0, 0, 0, 0, 0, 0, 0],\n",
    "                         [0, 0, 0, 0, 0, 0, 0, 0, 0, 0, 0, 0, 0],\n",
    "                         [0, 0, 0, 0, 0, 0, 0, 0, 0, 0, 0, 0, 0],\n",
    "                         [0, 0, 0, 0, 0, 0, 0, 0, 0, 0, 0, 0, 0],\n",
    "                         ])\n",
    "verified_mat[0][2:7] = 1\n",
    "verified_mat[1][0:8] = 1\n",
    "verified_mat[2][0:10] = 1\n",
    "verified_mat[3][0:12] = 1\n",
    "verified_mat[4][2:13] = 1\n",
    "verified_mat[5][6:13] = 1\n",
    "verified_mat[6][7:12] = 1\n",
    "print(verified_mat.shape)"
   ]
  },
  {
   "cell_type": "markdown",
   "id": "c4181b38",
   "metadata": {},
   "source": [
    "## 3. Function of TIFF to Numpy File"
   ]
  },
  {
   "cell_type": "code",
   "execution_count": 4,
   "id": "5b9a0f2b",
   "metadata": {},
   "outputs": [],
   "source": [
    "def save_tiff_as_numpy(tiff_file, output_dir, verified_mat, normalization=True):\n",
    "    # 创建保存目录\n",
    "    if os.path.exists(output_dir)==False:\n",
    "        os.makedirs(output_dir, exist_ok=True)\n",
    "\n",
    "    # 打开TIFF文件\n",
    "    dataset = gdal.Open(tiff_file)\n",
    "\n",
    "    # 遍历TIFF文件里的所有波段\n",
    "    for i in range(dataset.RasterCount):\n",
    "        # 将band数据读取为numpy array\n",
    "        band = dataset.GetRasterBand(i+1)\n",
    "        data = band.ReadAsArray()\n",
    "        \n",
    "        # 获取无数据值\n",
    "        nodata_value = band.GetNoDataValue()\n",
    "        data[data == nodata_value] = np.nan\n",
    "#         # 展示有效数据\n",
    "#         plt.imshow(np.isnan(data))\n",
    "#         plt.show()\n",
    "        \n",
    "        # 提取有效的cells\n",
    "        data = data[verified_mat==1]\n",
    "\n",
    "        # 标准化数据当数据用作模型输入\n",
    "        if normalization == True:\n",
    "            data = normalize(data)\n",
    "            \n",
    "        for j,val in enumerate(data):\n",
    "            # 构建输出文件名\n",
    "            output_file = os.path.join(output_dir, f\"{j+1}.npy\")\n",
    "\n",
    "            # Save the data as a NumPy file\n",
    "            np.save(output_file, [val])\n",
    "\n",
    "    # Close the dataset\n",
    "    dataset = None\n"
   ]
  },
  {
   "cell_type": "markdown",
   "id": "bc2a67cb",
   "metadata": {},
   "source": [
    "## 4. List of Valid Timeseries "
   ]
  },
  {
   "cell_type": "code",
   "execution_count": 5,
   "id": "17aa3ff0",
   "metadata": {},
   "outputs": [],
   "source": [
    "# The index of day start from 1\n",
    "# day 从 1 开始\n",
    "def date2day(date, fm=\"%Y%m%d\"):\n",
    "    date_object = datetime.strptime(date, fm)\n",
    "    day_of_year = date_object.timetuple().tm_yday\n",
    "    return day_of_year"
   ]
  },
  {
   "cell_type": "code",
   "execution_count": 6,
   "id": "31c5b334",
   "metadata": {},
   "outputs": [],
   "source": [
    "# 因为SMAP存在以天为单位的缺失，缺失值为-9999，需要判断这一天的SMAP数据是否有效\n",
    "def is_valid_TIFF(tiff_file) -> bool:\n",
    "    # 初始化is_valid为True\n",
    "    is_valid = True\n",
    "    \n",
    "    # 打开TIFF文件\n",
    "    dataset = gdal.Open(tiff_file)\n",
    "\n",
    "    # 遍历TIFF文件里的所有波段\n",
    "    for i in range(dataset.RasterCount):\n",
    "        # 将band数据读取为numpy array\n",
    "        band = dataset.GetRasterBand(i+1)\n",
    "        data = band.ReadAsArray()\n",
    "        \n",
    "        # 获取无数据值\n",
    "        nodata_value = band.GetNoDataValue()\n",
    "        # 将数据中的无数据值替换为np.nan\n",
    "        data[data == nodata_value] = np.nan\n",
    "        \n",
    "        # 如果数据的最小值小于0，将is_valid设为False\n",
    "        if(np.nanmin(data)<0):\n",
    "            is_valid = False\n",
    "            \n",
    "    # 关闭数据集\n",
    "    dataset = None\n",
    "    return is_valid"
   ]
  },
  {
   "cell_type": "code",
   "execution_count": 7,
   "id": "3dfddd10",
   "metadata": {},
   "outputs": [],
   "source": [
    "root = 'D:\\\\1GRADUATED\\\\paper\\\\downscaling_data\\\\Soil_moisture_downscale_czt\\\\SMAP\\\\'"
   ]
  },
  {
   "cell_type": "code",
   "execution_count": 8,
   "id": "1aa4ef0f",
   "metadata": {},
   "outputs": [],
   "source": [
    "folder_path = root + 'SMAP_DATE\\\\'\n",
    "output_path = root + 'SMAP_DAY\\\\'\n",
    "file_extension = '*.tif'\n",
    "\n",
    "# 使用 glob.glob() 函数获取符合条件的文件列表\n",
    "files = glob.glob(os.path.join(folder_path, file_extension))\n",
    "\n",
    "# 创建保存目录\n",
    "if os.path.exists(output_path)==False:\n",
    "    os.makedirs(output_path, exist_ok=True)\n",
    "\n",
    "# 打印文件列表\n",
    "for file in files:\n",
    "    # 检查文件是否为有效的 TIFF 文件\n",
    "    is_valid = is_valid_TIFF(file)\n",
    "    \n",
    "    # 如果是有效的 TIFF 文件，则执行以下操作\n",
    "    if(is_valid):\n",
    "        # 获取文件名\n",
    "        filename = os.path.basename(file)\n",
    "        # 从文件名中提取日期信息\n",
    "        date = re.findall(r'\\d+', filename)[-1]\n",
    "        # 将日期转换为一年中的第几天\n",
    "        day = date2day(date)\n",
    "        # 构建输出文件名\n",
    "        output_filename = os.path.join(output_path, 'SMAP2015{:03d}'.format(day) + '.tif')\n",
    "        # 复制文件到输出目录\n",
    "#         shutil.copy(file, output_filename)"
   ]
  },
  {
   "cell_type": "markdown",
   "id": "7c78eab0",
   "metadata": {},
   "source": [
    "## 5. Generalize for Input"
   ]
  },
  {
   "cell_type": "code",
   "execution_count": 9,
   "id": "1244e2b1",
   "metadata": {},
   "outputs": [],
   "source": [
    "smap_day_root = 'D:\\\\1GRADUATED\\\\paper\\\\downscaling_data\\\\Soil_moisture_downscale_czt\\\\SMAP\\\\SMAP_DAY\\\\'\n",
    "output_root = 'D:\\\\1GRADUATED\\\\paper\\\\downscaling_data\\\\Soil_moisture_downscale_czt\\\\DATASET\\\\AB\\\\INPUT\\\\SMAP\\\\'\n",
    "file_extension = '*.tif'\n",
    "\n",
    "# 使用 glob.glob() 函数获取符合条件的文件列表\n",
    "files = glob.glob(os.path.join(smap_day_root, file_extension))\n",
    "\n",
    "# 遍历文件列表\n",
    "for file in files:\n",
    "    # 获取文件名（不包含扩展名）\n",
    "    filename = os.path.basename(file).split('.')[0]\n",
    "    # 从文件名中提取日期信息\n",
    "    date = re.findall(r'\\d+', filename)[0]\n",
    "    # 构建输出路径\n",
    "    output_path = os.path.join(output_root, date)\n",
    "    \n",
    "    # 将TIFF转换成numpy并保存为MAT文件\n",
    "    save_tiff_as_numpy(file, output_path, verified_mat, False)"
   ]
  },
  {
   "cell_type": "markdown",
   "id": "a7a6b486",
   "metadata": {},
   "source": [
    "## 6. Generalize for Label"
   ]
  },
  {
   "cell_type": "code",
   "execution_count": 10,
   "id": "cf905cb4",
   "metadata": {},
   "outputs": [],
   "source": [
    "smap_day_root = 'D:\\\\1GRADUATED\\\\paper\\\\downscaling_data\\\\Soil_moisture_downscale_czt\\\\SMAP\\\\SMAP_DAY\\\\'\n",
    "output_root = 'D:\\\\1GRADUATED\\\\paper\\\\downscaling_data\\\\Soil_moisture_downscale_czt\\\\DATASET\\\\AB\\\\LABEL\\\\SMAP\\\\'\n",
    "file_extension = '*.tif'\n",
    "\n",
    "# 使用 glob.glob() 函数获取符合条件的文件列表\n",
    "files = glob.glob(os.path.join(smap_day_root, file_extension))\n",
    "\n",
    "# 遍历文件列表\n",
    "for file in files:\n",
    "    # 获取文件名（不包含扩展名）\n",
    "    filename = os.path.basename(file).split('.')[0]\n",
    "    # 从文件名中提取日期信息\n",
    "    date = re.findall(r'\\d+', filename)[0]\n",
    "    # 构建输出路径\n",
    "    output_path = os.path.join(output_root, date)\n",
    "    \n",
    "    # 将TIFF转换成numpy并保存为MAT文件\n",
    "#     save_tiff_as_numpy(file, output_path, verified_mat, False)"
   ]
  },
  {
   "cell_type": "code",
   "execution_count": null,
   "id": "9837e238",
   "metadata": {},
   "outputs": [],
   "source": []
  }
 ],
 "metadata": {
  "kernelspec": {
   "display_name": "Python 3 (ipykernel)",
   "language": "python",
   "name": "python3"
  },
  "language_info": {
   "codemirror_mode": {
    "name": "ipython",
    "version": 3
   },
   "file_extension": ".py",
   "mimetype": "text/x-python",
   "name": "python",
   "nbconvert_exporter": "python",
   "pygments_lexer": "ipython3",
   "version": "3.8.12"
  }
 },
 "nbformat": 4,
 "nbformat_minor": 5
}
