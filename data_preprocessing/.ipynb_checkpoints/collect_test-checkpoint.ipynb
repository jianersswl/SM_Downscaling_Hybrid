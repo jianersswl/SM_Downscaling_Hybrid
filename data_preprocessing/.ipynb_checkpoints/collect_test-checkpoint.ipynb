{
 "cells": [
  {
   "cell_type": "code",
   "execution_count": 73,
   "id": "cbe8ab33",
   "metadata": {},
   "outputs": [],
   "source": [
    "import pandas as pd\n",
    "import numpy as np\n",
    "\n",
    "input_dir = 'E:\\\\downscaling\\\\Soil_moisture_downscale_czt\\\\DATASET\\\\'"
   ]
  },
  {
   "cell_type": "code",
   "execution_count": 74,
   "id": "526304cf",
   "metadata": {},
   "outputs": [
    {
     "name": "stdout",
     "output_type": "stream",
     "text": [
      "<class 'pandas.core.frame.DataFrame'>\n",
      "RangeIndex: 25 entries, 0 to 24\n",
      "Data columns (total 13 columns):\n",
      " #   Column      Non-Null Count  Dtype  \n",
      "---  ------      --------------  -----  \n",
      " 0   OBJECTID_1  25 non-null     int64  \n",
      " 1   OBJECTID    25 non-null     int64  \n",
      " 2   id          25 non-null     int64  \n",
      " 3   waternet_i  25 non-null     object \n",
      " 4   x           25 non-null     float64\n",
      " 5   y           25 non-null     float64\n",
      " 6   long        25 non-null     float64\n",
      " 7   lati        25 non-null     float64\n",
      " 8   SMAP        25 non-null     float64\n",
      " 9   ATI         25 non-null     float64\n",
      " 10  ATIM        22 non-null     float64\n",
      " 11  ATISD       22 non-null     float64\n",
      " 12  SMAPID      25 non-null     int64  \n",
      "dtypes: float64(8), int64(4), object(1)\n",
      "memory usage: 2.7+ KB\n"
     ]
    }
   ],
   "source": [
    "filename1 = '20151009_Babao_Sites_SMAP_ATI_ATIM_ATISD_SMAPID.csv'\n",
    "df1 = pd.read_csv(input_dir + filename1)\n",
    "df1.info()"
   ]
  },
  {
   "cell_type": "code",
   "execution_count": 75,
   "id": "6b1cc048",
   "metadata": {
    "scrolled": false
   },
   "outputs": [
    {
     "name": "stdout",
     "output_type": "stream",
     "text": [
      "<class 'pandas.core.frame.DataFrame'>\n",
      "RangeIndex: 25 entries, 0 to 24\n",
      "Data columns (total 13 columns):\n",
      " #   Column      Non-Null Count  Dtype  \n",
      "---  ------      --------------  -----  \n",
      " 0   OBJECTID_1  25 non-null     int64  \n",
      " 1   OBJECTID    25 non-null     int64  \n",
      " 2   id          25 non-null     int64  \n",
      " 3   waternet_i  25 non-null     object \n",
      " 4   x           25 non-null     float64\n",
      " 5   y           25 non-null     float64\n",
      " 6   long        25 non-null     float64\n",
      " 7   lati        25 non-null     float64\n",
      " 8   SMAP        25 non-null     float64\n",
      " 9   ATI         25 non-null     float64\n",
      " 10  ATIM        25 non-null     float64\n",
      " 11  ATISD       25 non-null     float64\n",
      " 12  SMAPID      25 non-null     int64  \n",
      "dtypes: float64(8), int64(4), object(1)\n",
      "memory usage: 2.7+ KB\n"
     ]
    }
   ],
   "source": [
    "filename2 = '20151015_Babao_Sites_SMAP_ATI_ATIM_ATISD_SMAPID.csv'\n",
    "df2 = pd.read_csv(input_dir + filename2)\n",
    "df2.fillna(0, inplace=True)\n",
    "df2.info()"
   ]
  },
  {
   "cell_type": "code",
   "execution_count": 103,
   "id": "0d188d15",
   "metadata": {},
   "outputs": [
    {
     "name": "stdout",
     "output_type": "stream",
     "text": [
      "[0.031593815 0.0 0.0]\n"
     ]
    }
   ],
   "source": [
    "# extract ATI data\n",
    "out_dir = 'E:\\\\downscaling\\\\Soil_moisture_downscale_czt\\\\DATASET\\\\INPUT\\\\ATI\\\\'\n",
    "for i in range(25):\n",
    "    _row = df2.iloc[i]\n",
    "    filename = str(int(_row['waternet_i'].split('-')[-1]))\n",
    "    val = np.asarray(_row[['ATI', 'ATIM', 'ATISD']])\n",
    "#     print(val)\n",
    "#     np.save(out_dir + filename, val)\n",
    "    \n",
    "arr = np.load('E:\\\\downscaling\\\\Soil_moisture_downscale_czt\\\\DATASET\\\\INPUT\\\\ATI\\\\2.npy', allow_pickle=True)\n",
    "print(arr)"
   ]
  },
  {
   "cell_type": "code",
   "execution_count": 112,
   "id": "3733474a",
   "metadata": {},
   "outputs": [
    {
     "name": "stdout",
     "output_type": "stream",
     "text": [
      "32 [54]\n",
      "44 [11, 42]\n",
      "10 [16]\n",
      "18 [31]\n",
      "40 [35, 52]\n",
      "17 [18]\n",
      "15 [4]\n",
      "16 [1]\n",
      "43 [53]\n",
      "27 [12]\n",
      "9 [55]\n",
      "20 [27]\n",
      "8 [30, 22]\n",
      "26 [40, 25]\n",
      "33 [32]\n",
      "40 [35, 52]\n",
      "29 [5]\n",
      "2 [2]\n",
      "8 [30, 22]\n",
      "45 [37]\n",
      "26 [40, 25]\n",
      "41 [6]\n",
      "44 [11, 42]\n",
      "51 [33]\n",
      "31 [10]\n"
     ]
    }
   ],
   "source": [
    "# SMAPID CONNECT TO IN-SITU ID\n",
    "out_dir = 'E:\\\\downscaling\\\\Soil_moisture_downscale_czt\\\\DATASET\\\\LABEL\\\\SMAPID2INSITUID\\\\'\n",
    "smapid = df2['SMAPID']\n",
    "\n",
    "for i in smapid:\n",
    "    _rows = df2[df2['SMAPID']==i]\n",
    "    filename = str(i)\n",
    "    insitus = []\n",
    "    \n",
    "    for j in _rows['waternet_i']:\n",
    "        insitus.append(int(j.split('-')[-1]))\n",
    "#     np.save(out_dir + filename, insitus)\n",
    "    print(i, insitus)\n"
   ]
  },
  {
   "cell_type": "code",
   "execution_count": 109,
   "id": "d6db664c",
   "metadata": {},
   "outputs": [
    {
     "name": "stdout",
     "output_type": "stream",
     "text": [
      "1\n",
      "0.0\n",
      "2\n",
      "0.247795139\n",
      "4\n",
      "0.18296875\n",
      "6\n",
      "0.002146429\n",
      "10\n",
      "0.360240283\n",
      "5\n",
      "0.313524476\n",
      "11\n",
      "0.360240283\n",
      "12\n",
      "0.419532374\n",
      "16\n",
      "0.0\n",
      "18\n",
      "0.280888889\n",
      "22\n",
      "0.18138078300000002\n",
      "25\n",
      "0.1965\n",
      "33\n",
      "0.0\n",
      "35\n",
      "0.046556738\n",
      "37\n",
      "0.119569444\n",
      "42\n",
      "0.30992142899999997\n",
      "40\n",
      "0.446638889\n",
      "52\n",
      "0.280594406\n",
      "54\n",
      "0.166181495\n",
      "27\n",
      "0.251729167\n",
      "55\n",
      "0.157744755\n",
      "53\n",
      "0.0\n",
      "32\n",
      "0.10252961699999999\n",
      "31\n",
      "0.26802439\n",
      "30\n",
      "0.165996528\n"
     ]
    }
   ],
   "source": [
    "# extract data of in-situ\n",
    "out_dir = 'E:\\\\downscaling\\\\Soil_moisture_downscale_czt\\\\DATASET\\\\LABEL\\\\SM\\\\20151015\\\\'\n",
    "labelfile = 'waternetall.csv'\n",
    "df3 = pd.read_csv(input_dir + labelfile)\n",
    "\n",
    "df3 = df3.iloc[197, 1:-4]\n",
    "for i in range(df3.shape[0]):\n",
    "    filename = '{}'.format(df3.index[i])\n",
    "    print(filename)\n",
    "    print(df3[i])\n",
    "    np.save(out_dir + filename, [df3[i]])"
   ]
  },
  {
   "cell_type": "code",
   "execution_count": null,
   "id": "8e667d2e",
   "metadata": {},
   "outputs": [],
   "source": []
  }
 ],
 "metadata": {
  "kernelspec": {
   "display_name": "Python 3 (ipykernel)",
   "language": "python",
   "name": "python3"
  },
  "language_info": {
   "codemirror_mode": {
    "name": "ipython",
    "version": 3
   },
   "file_extension": ".py",
   "mimetype": "text/x-python",
   "name": "python",
   "nbconvert_exporter": "python",
   "pygments_lexer": "ipython3",
   "version": "3.8.12"
  }
 },
 "nbformat": 4,
 "nbformat_minor": 5
}
