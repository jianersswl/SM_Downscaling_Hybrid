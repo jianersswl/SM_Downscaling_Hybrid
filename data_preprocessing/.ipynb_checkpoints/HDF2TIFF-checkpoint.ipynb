{
 "cells": [
  {
   "cell_type": "code",
   "execution_count": 1,
   "id": "f1577a07",
   "metadata": {},
   "outputs": [],
   "source": [
    "from osgeo import gdal\n",
    "import numpy as np\n",
    "import json\n",
    "import os"
   ]
  },
  {
   "cell_type": "code",
   "execution_count": 2,
   "id": "91f0f8b3",
   "metadata": {},
   "outputs": [],
   "source": [
    "input_dir = 'D:\\\\1GRADUATED\\\\paper\\\\downscaling_data\\\\Soil_moisture_downscale_czt\\\\NDVI\\\\2015_hdf'\n",
    "output_dir = 'D:\\\\1GRADUATED\\\\paper\\\\downscaling_data\\\\Soil_moisture_downscale_czt\\\\NDVI\\\\2015_tiff'\n",
    "filename = 'MOD13A2.A2015177.h25v05.006.2015301215214.hdf'"
   ]
  },
  {
   "cell_type": "markdown",
   "id": "d1d59ff3",
   "metadata": {},
   "source": [
    "## 打开HDF文件"
   ]
  },
  {
   "cell_type": "code",
   "execution_count": 3,
   "id": "4430630a",
   "metadata": {},
   "outputs": [],
   "source": [
    "hdf_file = gdal.Open(os.path.join(input_dir, filename))"
   ]
  },
  {
   "cell_type": "markdown",
   "id": "7bb5e89a",
   "metadata": {},
   "source": [
    "## 获取HDF的元数据"
   ]
  },
  {
   "cell_type": "code",
   "execution_count": 4,
   "id": "3cfd6878",
   "metadata": {},
   "outputs": [
    {
     "name": "stdout",
     "output_type": "stream",
     "text": [
      "HDF4_EOS:EOS_GRID:\"D:\\1GRADUATED\\paper\\downscaling_data\\Soil_moisture_downscale_czt\\NDVI\\2015_hdf\\MOD13A2.A2015177.h25v05.006.2015301215214.hdf\":MODIS_Grid_16DAY_1km_VI:\"1 km 16 days NDVI\"\n",
      "Number of bands: 1\n",
      "HDF4_EOS:EOS_GRID:\"D:\\1GRADUATED\\paper\\downscaling_data\\Soil_moisture_downscale_czt\\NDVI\\2015_hdf\\MOD13A2.A2015177.h25v05.006.2015301215214.hdf\":MODIS_Grid_16DAY_1km_VI:\"1 km 16 days EVI\"\n",
      "Number of bands: 1\n",
      "HDF4_EOS:EOS_GRID:\"D:\\1GRADUATED\\paper\\downscaling_data\\Soil_moisture_downscale_czt\\NDVI\\2015_hdf\\MOD13A2.A2015177.h25v05.006.2015301215214.hdf\":MODIS_Grid_16DAY_1km_VI:\"1 km 16 days VI Quality\"\n",
      "Number of bands: 1\n",
      "HDF4_EOS:EOS_GRID:\"D:\\1GRADUATED\\paper\\downscaling_data\\Soil_moisture_downscale_czt\\NDVI\\2015_hdf\\MOD13A2.A2015177.h25v05.006.2015301215214.hdf\":MODIS_Grid_16DAY_1km_VI:\"1 km 16 days red reflectance\"\n",
      "Number of bands: 1\n",
      "HDF4_EOS:EOS_GRID:\"D:\\1GRADUATED\\paper\\downscaling_data\\Soil_moisture_downscale_czt\\NDVI\\2015_hdf\\MOD13A2.A2015177.h25v05.006.2015301215214.hdf\":MODIS_Grid_16DAY_1km_VI:\"1 km 16 days NIR reflectance\"\n",
      "Number of bands: 1\n",
      "HDF4_EOS:EOS_GRID:\"D:\\1GRADUATED\\paper\\downscaling_data\\Soil_moisture_downscale_czt\\NDVI\\2015_hdf\\MOD13A2.A2015177.h25v05.006.2015301215214.hdf\":MODIS_Grid_16DAY_1km_VI:\"1 km 16 days blue reflectance\"\n",
      "Number of bands: 1\n",
      "HDF4_EOS:EOS_GRID:\"D:\\1GRADUATED\\paper\\downscaling_data\\Soil_moisture_downscale_czt\\NDVI\\2015_hdf\\MOD13A2.A2015177.h25v05.006.2015301215214.hdf\":MODIS_Grid_16DAY_1km_VI:\"1 km 16 days MIR reflectance\"\n",
      "Number of bands: 1\n",
      "HDF4_EOS:EOS_GRID:\"D:\\1GRADUATED\\paper\\downscaling_data\\Soil_moisture_downscale_czt\\NDVI\\2015_hdf\\MOD13A2.A2015177.h25v05.006.2015301215214.hdf\":MODIS_Grid_16DAY_1km_VI:\"1 km 16 days view zenith angle\"\n",
      "Number of bands: 1\n",
      "HDF4_EOS:EOS_GRID:\"D:\\1GRADUATED\\paper\\downscaling_data\\Soil_moisture_downscale_czt\\NDVI\\2015_hdf\\MOD13A2.A2015177.h25v05.006.2015301215214.hdf\":MODIS_Grid_16DAY_1km_VI:\"1 km 16 days sun zenith angle\"\n",
      "Number of bands: 1\n",
      "HDF4_EOS:EOS_GRID:\"D:\\1GRADUATED\\paper\\downscaling_data\\Soil_moisture_downscale_czt\\NDVI\\2015_hdf\\MOD13A2.A2015177.h25v05.006.2015301215214.hdf\":MODIS_Grid_16DAY_1km_VI:\"1 km 16 days relative azimuth angle\"\n",
      "Number of bands: 1\n",
      "HDF4_EOS:EOS_GRID:\"D:\\1GRADUATED\\paper\\downscaling_data\\Soil_moisture_downscale_czt\\NDVI\\2015_hdf\\MOD13A2.A2015177.h25v05.006.2015301215214.hdf\":MODIS_Grid_16DAY_1km_VI:\"1 km 16 days composite day of the year\"\n",
      "Number of bands: 1\n",
      "HDF4_EOS:EOS_GRID:\"D:\\1GRADUATED\\paper\\downscaling_data\\Soil_moisture_downscale_czt\\NDVI\\2015_hdf\\MOD13A2.A2015177.h25v05.006.2015301215214.hdf\":MODIS_Grid_16DAY_1km_VI:\"1 km 16 days pixel reliability\"\n",
      "Number of bands: 1\n"
     ]
    }
   ],
   "source": [
    "sub_datasets = hdf_file.GetSubDatasets()\n",
    "\n",
    "for i, sub_dataset in enumerate(sub_datasets):\n",
    "    metadata = gdal.Info(sub_dataset[0], format='json')\n",
    "    print(metadata['description'])\n",
    "    # 获取波段数\n",
    "    num_bands = gdal.Open(sub_dataset[0]).RasterCount\n",
    "    print('Number of bands:', num_bands)"
   ]
  },
  {
   "cell_type": "markdown",
   "id": "f4d42913",
   "metadata": {},
   "source": [
    "## 读取HDF数据集转换为TIFF格式并保存"
   ]
  },
  {
   "cell_type": "code",
   "execution_count": 37,
   "id": "c721c7a5",
   "metadata": {},
   "outputs": [
    {
     "name": "stdout",
     "output_type": "stream",
     "text": [
      "HDF4_EOS:EOS_GRID:\"D:\\1GRADUATED\\paper\\downscaling_data\\Soil_moisture_downscale_czt\\NDVI\\2015_hdf\\MOD13A2.A2015177.h25v05.006.2015301215214.hdf\":MODIS_Grid_16DAY_1km_VI:\"1 km 16 days NDVI\"\n",
      "[[ 594  595  619 ...  942  926  851]\n",
      " [ 607  644  591 ...  942  944  912]\n",
      " [ 607  671  619 ...  951  925  919]\n",
      " ...\n",
      " [-316 -624 -785 ... 5407 4762 5347]\n",
      " [5454 5454 -127 ... 5068 5068 3861]\n",
      " [3774  357  -36 ... 5820 3286 5797]]\n",
      "(0.0, 1.0, 0.0, 0.0, 0.0, 1.0)\n",
      "(0.0, 926.6254331, 0.0, 0.0, 0.0, 926.6254331)\n",
      "[[ 594  595  619 ...  942  926  851]\n",
      " [ 607  644  591 ...  942  944  912]\n",
      " [ 607  671  619 ...  951  925  919]\n",
      " ...\n",
      " [-316 -624 -785 ... 5407 4762 5347]\n",
      " [5454 5454 -127 ... 5068 5068 3861]\n",
      " [3774  357  -36 ... 5820 3286 5797]]\n",
      "[[ 594.  595.  619. ...  942.  926.  851.]\n",
      " [ 607.  644.  591. ...  942.  944.  912.]\n",
      " [ 607.  671.  619. ...  951.  925.  919.]\n",
      " ...\n",
      " [-316. -624. -785. ... 5407. 4762. 5347.]\n",
      " [5454. 5454. -127. ... 5068. 5068. 3861.]\n",
      " [3774.  357.  -36. ... 5820. 3286. 5797.]]\n",
      "HDF2TIFF: Save file: D:\\1GRADUATED\\paper\\downscaling_data\\Soil_moisture_downscale_czt\\NDVI\\2015_tiff\\MODIS_Grid_16DAY_1km_VI1.tif\n"
     ]
    }
   ],
   "source": [
    "sub_datasets = hdf_file.GetSubDatasets()\n",
    "ndvi_subset = sub_datasets[0]\n",
    "\n",
    "metadata = gdal.Info(ndvi_subset[0], format='json')\n",
    "print(metadata['description'])\n",
    "\n",
    "filename = metadata['description'].split(':')[-2]\n",
    "data_array = gdal.Open(ndvi_subset[0]).ReadAsArray()\n",
    "print(data_array)\n",
    "# 创建TIFF文件\n",
    "driver = gdal.GetDriverByName('GTiff')\n",
    "output_file = os.path.join(output_dir, filename + '1.tif')\n",
    "rows, cols = data_array.shape\n",
    "out_raster = driver.Create(output_file, cols, rows, 1, gdal.GDT_Float32)\n",
    "\n",
    "print(hdf_file.GetGeoTransform())\n",
    "# # 获取输入数据集的投影和地理变换信息\n",
    "geotransform = hdf_file.GetGeoTransform()\n",
    "new_geotransform = (geotransform[0], geotransform[1]*926.6254331, geotransform[2], geotransform[3], geotransform[4], geotransform[5]*926.6254331)\n",
    "print(new_geotransform)\n",
    "# 设置地理参考信息\n",
    "out_raster.SetGeoTransform(new_geotransform)\n",
    "out_raster.SetProjection(hdf_file.GetProjection())\n",
    "\n",
    "print(data_array)\n",
    "\n",
    "# 将数据写入TIFF文件\n",
    "out_raster.GetRasterBand(1).WriteArray(data_array)\n",
    "arr = out_raster.GetRasterBand(1).ReadAsArray()\n",
    "print(arr)\n",
    "\n",
    "# 保存并关闭TIFF文件\n",
    "out_raster.FlushCache()\n",
    "out_raster = None\n",
    "print('HDF2TIFF: Save file: ' + output_file)"
   ]
  },
  {
   "cell_type": "code",
   "execution_count": null,
   "id": "cbac950d",
   "metadata": {},
   "outputs": [],
   "source": []
  }
 ],
 "metadata": {
  "kernelspec": {
   "display_name": "Python 3 (ipykernel)",
   "language": "python",
   "name": "python3"
  },
  "language_info": {
   "codemirror_mode": {
    "name": "ipython",
    "version": 3
   },
   "file_extension": ".py",
   "mimetype": "text/x-python",
   "name": "python",
   "nbconvert_exporter": "python",
   "pygments_lexer": "ipython3",
   "version": "3.8.12"
  }
 },
 "nbformat": 4,
 "nbformat_minor": 5
}
