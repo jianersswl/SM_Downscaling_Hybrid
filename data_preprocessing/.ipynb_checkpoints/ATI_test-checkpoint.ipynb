{
 "cells": [
  {
   "cell_type": "code",
   "execution_count": 31,
   "id": "aaeb002a",
   "metadata": {},
   "outputs": [
    {
     "ename": "ModuleNotFoundError",
     "evalue": "No module named 'opencv'",
     "output_type": "error",
     "traceback": [
      "\u001b[1;31m---------------------------------------------------------------------------\u001b[0m",
      "\u001b[1;31mModuleNotFoundError\u001b[0m                       Traceback (most recent call last)",
      "\u001b[1;32m~\\AppData\\Local\\Temp/ipykernel_32568/3577094546.py\u001b[0m in \u001b[0;36m<module>\u001b[1;34m\u001b[0m\n\u001b[0;32m      2\u001b[0m \u001b[1;32mimport\u001b[0m \u001b[0mnumpy\u001b[0m \u001b[1;32mas\u001b[0m \u001b[0mnp\u001b[0m\u001b[1;33m\u001b[0m\u001b[1;33m\u001b[0m\u001b[0m\n\u001b[0;32m      3\u001b[0m \u001b[1;32mfrom\u001b[0m \u001b[0mosgeo\u001b[0m \u001b[1;32mimport\u001b[0m \u001b[0mgdal\u001b[0m\u001b[1;33m\u001b[0m\u001b[1;33m\u001b[0m\u001b[0m\n\u001b[1;32m----> 4\u001b[1;33m \u001b[1;32mimport\u001b[0m \u001b[0mopencv\u001b[0m \u001b[1;32mas\u001b[0m \u001b[0mcv\u001b[0m\u001b[1;33m\u001b[0m\u001b[1;33m\u001b[0m\u001b[0m\n\u001b[0m\u001b[0;32m      5\u001b[0m \u001b[1;33m\u001b[0m\u001b[0m\n\u001b[0;32m      6\u001b[0m \u001b[1;32mdef\u001b[0m \u001b[0msave_tiff_as_numpy\u001b[0m\u001b[1;33m(\u001b[0m\u001b[0mtiff_file\u001b[0m\u001b[1;33m,\u001b[0m \u001b[0moutput_dir\u001b[0m\u001b[1;33m,\u001b[0m \u001b[0mverified_mat\u001b[0m\u001b[1;33m)\u001b[0m\u001b[1;33m:\u001b[0m\u001b[1;33m\u001b[0m\u001b[1;33m\u001b[0m\u001b[0m\n",
      "\u001b[1;31mModuleNotFoundError\u001b[0m: No module named 'opencv'"
     ]
    }
   ],
   "source": [
    "import os\n",
    "import numpy as np\n",
    "from osgeo import gdal\n",
    "import cv2\n",
    "\n",
    "def save_tiff_as_numpy(tiff_file, output_dir, verified_mat):\n",
    "    # Create saving directory\n",
    "    if os.path.exists(output_dir)==False:\n",
    "        os.makedirs(output_dir, exist_ok=True)\n",
    "\n",
    "    # Open the TIFF file\n",
    "    dataset = gdal.Open(tiff_file)\n",
    "\n",
    "    # Loop over all bands in the TIFF file\n",
    "    for i in range(dataset.RasterCount):\n",
    "        # Read the band data as a NumPy array\n",
    "        band = dataset.GetRasterBand(i+1)\n",
    "        data = band.ReadAsArray()\n",
    "#         print(np.count_nonzero(verified_mat==1))\n",
    "        data = data[verified_mat==1]\n",
    "        index = np.where(verified_mat == 1)\n",
    "        print(index)\n",
    "        for j,val in enumerate(data):\n",
    "            # Construct the output file name\n",
    "#             output_file = os.path.join(output_dir, f\"{index[0][j]}_{index[1][j]}.npy\")\n",
    "            output_file = os.path.join(output_dir, f\"{j}.npy\")\n",
    "            print(output_file)\n",
    "\n",
    "            # Save the data as a NumPy file\n",
    "            np.save(output_file, val)\n",
    "\n",
    "    # Close the dataset\n",
    "    dataset = None\n"
   ]
  },
  {
   "cell_type": "code",
   "execution_count": 3,
   "id": "7d0025b1",
   "metadata": {},
   "outputs": [],
   "source": [
    "input_dir = 'E:\\\\downscaling\\\\Soil_moisture_downscale_czt\\\\ATI\\\\'\n",
    "output_dir = 'E:\\\\downscaling\\\\Soil_moisture_downscale_czt\\\\DATASET\\\\INPUT\\\\ATI\\\\'"
   ]
  },
  {
   "cell_type": "code",
   "execution_count": 19,
   "id": "51a4f720",
   "metadata": {},
   "outputs": [
    {
     "name": "stdout",
     "output_type": "stream",
     "text": [
      "E:\\downscaling\\Soil_moisture_downscale_czt\\ATI\\ATI2015187.tif\n",
      "(7292,)\n",
      "E:\\downscaling\\Soil_moisture_downscale_czt\\ATI\\ATI2015223.tif\n",
      "(7066,)\n",
      "E:\\downscaling\\Soil_moisture_downscale_czt\\ATI\\ATI2015282.tif\n",
      "(7210,)\n",
      "E:\\downscaling\\Soil_moisture_downscale_czt\\ATI\\ATI2015287.tif\n",
      "(7241,)\n",
      "E:\\downscaling\\Soil_moisture_downscale_czt\\ATI\\ATI2015288.tif\n",
      "(7289,)\n",
      "E:\\downscaling\\Soil_moisture_downscale_czt\\ATI\\ATI2015292.tif\n",
      "(7288,)\n",
      "E:\\downscaling\\Soil_moisture_downscale_czt\\ATI\\ATI2015340.tif\n",
      "(7034,)\n"
     ]
    }
   ],
   "source": [
    "for j in range(260):\n",
    "    test_dir = input_dir + 'ATI2015{:03d}.tif'.format(j+91)\n",
    "\n",
    "    # Open the TIFF file\n",
    "    dataset = gdal.Open(test_dir)\n",
    "    for i in range(dataset.RasterCount):\n",
    "            # Read the band data as a NumPy array\n",
    "            band = dataset.GetRasterBand(i+1)\n",
    "            data = band.ReadAsArray()\n",
    "            if(data[data>0].shape[0]>7000):\n",
    "                print(test_dir)\n",
    "                print(data[data>0].shape)"
   ]
  },
  {
   "cell_type": "code",
   "execution_count": 30,
   "id": "a54bb149",
   "metadata": {},
   "outputs": [
    {
     "name": "stdout",
     "output_type": "stream",
     "text": [
      "[[-1.79769313e+308 -1.79769313e+308 -1.79769313e+308 ... -1.79769313e+308\n",
      "  -1.79769313e+308 -1.79769313e+308]\n",
      " [-1.79769313e+308 -1.79769313e+308 -1.79769313e+308 ... -1.79769313e+308\n",
      "  -1.79769313e+308 -1.79769313e+308]\n",
      " [-1.79769313e+308 -1.79769313e+308 -1.79769313e+308 ... -1.79769313e+308\n",
      "  -1.79769313e+308 -1.79769313e+308]\n",
      " ...\n",
      " [-1.79769313e+308 -1.79769313e+308 -1.79769313e+308 ... -1.79769313e+308\n",
      "  -1.79769313e+308 -1.79769313e+308]\n",
      " [-1.79769313e+308 -1.79769313e+308 -1.79769313e+308 ... -1.79769313e+308\n",
      "  -1.79769313e+308 -1.79769313e+308]\n",
      " [-1.79769313e+308 -1.79769313e+308 -1.79769313e+308 ... -1.79769313e+308\n",
      "  -1.79769313e+308 -1.79769313e+308]]\n",
      "[[False False False ... False False False]\n",
      " [False False False ... False False False]\n",
      " [False False False ... False False False]\n",
      " ...\n",
      " [False False False ... False False False]\n",
      " [False False False ... False False False]\n",
      " [False False False ... False False False]]\n"
     ]
    }
   ],
   "source": [
    "test_dir = input_dir + 'ATI2015288.tif'\n",
    "\n",
    "# Open the TIFF file\n",
    "dataset = gdal.Open(test_dir)\n",
    "for i in range(dataset.RasterCount):\n",
    "    # Read the band data as a NumPy array\n",
    "    band = dataset.GetRasterBand(i+1)\n",
    "    data = band.ReadAsArray()\n",
    "#     print(data.shape[0]*data.shape[1])\n",
    "#     print(7*13*81)\n",
    "    print(data)\n",
    "    print(data>=0)"
   ]
  },
  {
   "cell_type": "code",
   "execution_count": null,
   "id": "882f08f3",
   "metadata": {},
   "outputs": [],
   "source": []
  }
 ],
 "metadata": {
  "kernelspec": {
   "display_name": "Python 3 (ipykernel)",
   "language": "python",
   "name": "python3"
  },
  "language_info": {
   "codemirror_mode": {
    "name": "ipython",
    "version": 3
   },
   "file_extension": ".py",
   "mimetype": "text/x-python",
   "name": "python",
   "nbconvert_exporter": "python",
   "pygments_lexer": "ipython3",
   "version": "3.8.12"
  }
 },
 "nbformat": 4,
 "nbformat_minor": 5
}
