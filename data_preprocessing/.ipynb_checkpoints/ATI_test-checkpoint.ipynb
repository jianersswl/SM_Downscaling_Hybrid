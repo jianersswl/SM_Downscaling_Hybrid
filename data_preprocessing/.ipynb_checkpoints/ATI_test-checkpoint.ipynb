{
 "cells": [
  {
   "cell_type": "code",
   "execution_count": 2,
   "id": "aaeb002a",
   "metadata": {},
   "outputs": [],
   "source": [
    "import os\n",
    "import numpy as np\n",
    "from osgeo import gdal\n",
    "import cv2\n",
    "import matplotlib.pyplot as plt\n",
    "\n",
    "def save_tiff_as_numpy(tiff_file, output_dir, verified_mat):\n",
    "    # Create saving directory\n",
    "    if os.path.exists(output_dir)==False:\n",
    "        os.makedirs(output_dir, exist_ok=True)\n",
    "\n",
    "    # Open the TIFF file\n",
    "    dataset = gdal.Open(tiff_file)\n",
    "\n",
    "    # Loop over all bands in the TIFF file\n",
    "    for i in range(dataset.RasterCount):\n",
    "        # Read the band data as a NumPy array\n",
    "        band = dataset.GetRasterBand(i+1)\n",
    "        data = band.ReadAsArray()\n",
    "#         print(np.count_nonzero(verified_mat==1))\n",
    "        data = data[verified_mat==1]\n",
    "        index = np.where(verified_mat == 1)\n",
    "        print(index)\n",
    "        for j,val in enumerate(data):\n",
    "            # Construct the output file name\n",
    "#             output_file = os.path.join(output_dir, f\"{index[0][j]}_{index[1][j]}.npy\")\n",
    "            output_file = os.path.join(output_dir, f\"{j}.npy\")\n",
    "            print(output_file)\n",
    "\n",
    "            # Save the data as a NumPy file\n",
    "            np.save(output_file, val)\n",
    "\n",
    "    # Close the dataset\n",
    "    dataset = None\n"
   ]
  },
  {
   "cell_type": "code",
   "execution_count": 5,
   "id": "7d0025b1",
   "metadata": {},
   "outputs": [],
   "source": [
    "input_dir = 'D:\\\\1GRADUATED\\\\paper\\\\downscaling_data\\\\Soil_moisture_downscale_czt\\\\ATI\\\\'\n",
    "# output_dir = 'E:\\\\downscaling\\\\Soil_moisture_downscale_czt\\\\DATASET\\\\INPUT\\\\ATI\\\\'"
   ]
  },
  {
   "cell_type": "code",
   "execution_count": 6,
   "id": "51a4f720",
   "metadata": {},
   "outputs": [
    {
     "name": "stdout",
     "output_type": "stream",
     "text": [
      "D:\\1GRADUATED\\paper\\downscaling_data\\Soil_moisture_downscale_czt\\ATI\\ATI2015187.tif\n",
      "(7292,)\n",
      "D:\\1GRADUATED\\paper\\downscaling_data\\Soil_moisture_downscale_czt\\ATI\\ATI2015223.tif\n",
      "(7066,)\n",
      "D:\\1GRADUATED\\paper\\downscaling_data\\Soil_moisture_downscale_czt\\ATI\\ATI2015282.tif\n",
      "(7210,)\n",
      "D:\\1GRADUATED\\paper\\downscaling_data\\Soil_moisture_downscale_czt\\ATI\\ATI2015287.tif\n",
      "(7241,)\n",
      "D:\\1GRADUATED\\paper\\downscaling_data\\Soil_moisture_downscale_czt\\ATI\\ATI2015288.tif\n",
      "(7289,)\n",
      "D:\\1GRADUATED\\paper\\downscaling_data\\Soil_moisture_downscale_czt\\ATI\\ATI2015292.tif\n",
      "(7288,)\n",
      "D:\\1GRADUATED\\paper\\downscaling_data\\Soil_moisture_downscale_czt\\ATI\\ATI2015340.tif\n",
      "(7034,)\n"
     ]
    }
   ],
   "source": [
    "for j in range(260):\n",
    "    test_dir = input_dir + 'ATI2015{:03d}.tif'.format(j+91)\n",
    "\n",
    "    # Open the TIFF file\n",
    "    dataset = gdal.Open(test_dir)\n",
    "    for i in range(dataset.RasterCount):\n",
    "            # Read the band data as a NumPy array\n",
    "            band = dataset.GetRasterBand(i+1)\n",
    "            data = band.ReadAsArray()\n",
    "            if(data[data>0].shape[0]>7000):\n",
    "                print(test_dir)\n",
    "                print(data[data>0].shape)"
   ]
  },
  {
   "cell_type": "code",
   "execution_count": 17,
   "id": "a54bb149",
   "metadata": {},
   "outputs": [
    {
     "name": "stdout",
     "output_type": "stream",
     "text": [
      "[[nan nan nan ... nan nan nan]\n",
      " [nan nan nan ... nan nan nan]\n",
      " [nan nan nan ... nan nan nan]\n",
      " ...\n",
      " [nan nan nan ... nan nan nan]\n",
      " [nan nan nan ... nan nan nan]\n",
      " [nan nan nan ... nan nan nan]]\n",
      "[[ True  True  True ...  True  True  True]\n",
      " [ True  True  True ...  True  True  True]\n",
      " [ True  True  True ...  True  True  True]\n",
      " ...\n",
      " [ True  True  True ...  True  True  True]\n",
      " [ True  True  True ...  True  True  True]\n",
      " [ True  True  True ...  True  True  True]]\n"
     ]
    },
    {
     "data": {
      "image/png": "[encoded data removed]",
      "text/plain": [
       "<Figure size 432x288 with 1 Axes>"
      ]
     },
     "metadata": {
      "needs_background": "light"
     },
     "output_type": "display_data"
    }
   ],
   "source": [
    "test_dir = input_dir + 'ATI2015288.tif'\n",
    "\n",
    "# Open the TIFF file\n",
    "dataset = gdal.Open(test_dir)\n",
    "for i in range(dataset.RasterCount):\n",
    "    # Read the band data as a NumPy array\n",
    "    band = dataset.GetRasterBand(i+1)\n",
    "    data = band.ReadAsArray()\n",
    "    \n",
    "    # 获取无数据值\n",
    "    nodata_value = band.GetNoDataValue()\n",
    "\n",
    "    # 将缺失值设置为NaN\n",
    "    data[data == nodata_value] = np.nan# 获取无数据值\n",
    "\n",
    "#     print(data.shape[0]*data.shape[1])\n",
    "#     print(7*13*81)\n",
    "    print(data)\n",
    "    print(np.isnan(data))\n",
    "    plt.imshow(np.isnan(data))\n",
    "    plt.show()"
   ]
  },
  {
   "cell_type": "code",
   "execution_count": null,
   "id": "882f08f3",
   "metadata": {},
   "outputs": [],
   "source": []
  }
 ],
 "metadata": {
  "kernelspec": {
   "display_name": "Python 3 (ipykernel)",
   "language": "python",
   "name": "python3"
  },
  "language_info": {
   "codemirror_mode": {
    "name": "ipython",
    "version": 3
   },
   "file_extension": ".py",
   "mimetype": "text/x-python",
   "name": "python",
   "nbconvert_exporter": "python",
   "pygments_lexer": "ipython3",
   "version": "3.8.12"
  }
 },
 "nbformat": 4,
 "nbformat_minor": 5
}
