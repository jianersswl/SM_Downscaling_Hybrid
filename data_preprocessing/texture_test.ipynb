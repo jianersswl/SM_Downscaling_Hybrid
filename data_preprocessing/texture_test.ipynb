{
 "cells": [
  {
   "cell_type": "code",
   "execution_count": 6,
   "id": "92dc5f0e",
   "metadata": {},
   "outputs": [],
   "source": [
    "def normalization(array_2d):\n",
    "    mean = np.mean(array_2d)\n",
    "    std = np.std(array_2d)\n",
    "    print(mean)\n",
    "    print(std)\n",
    "    return (array_2d - mean) / std"
   ]
  },
  {
   "cell_type": "code",
   "execution_count": 7,
   "id": "62d15056",
   "metadata": {},
   "outputs": [],
   "source": [
    "import pandas as pd\n",
    "import numpy as np"
   ]
  },
  {
   "cell_type": "code",
   "execution_count": 8,
   "id": "b6901c33",
   "metadata": {
    "scrolled": true
   },
   "outputs": [
    {
     "name": "stdout",
     "output_type": "stream",
     "text": [
      "<class 'pandas.core.frame.DataFrame'>\n",
      "RangeIndex: 7296 entries, 0 to 7295\n",
      "Data columns (total 60 columns):\n",
      " #   Column              Non-Null Count  Dtype  \n",
      "---  ------              --------------  -----  \n",
      " 0   OBJECTID            7296 non-null   int64  \n",
      " 1   pointid             7296 non-null   int64  \n",
      " 2   grid_code           7296 non-null   int64  \n",
      " 3   ID                  7296 non-null   int64  \n",
      " 4   MU_GLOBAL           7296 non-null   int64  \n",
      " 5   MU_SOURCE1          7296 non-null   int64  \n",
      " 6   MU_SOURCE2          0 non-null      float64\n",
      " 7   ISSOIL              7296 non-null   int64  \n",
      " 8   SHARE               7296 non-null   int64  \n",
      " 9   SEQ                 7296 non-null   int64  \n",
      " 10  SU_SYM74            0 non-null      float64\n",
      " 11  SU_CODE74           0 non-null      float64\n",
      " 12  SU_SYM85            0 non-null      float64\n",
      " 13  SU_CODE85           0 non-null      float64\n",
      " 14  SU_SYM90            7296 non-null   object \n",
      " 15  SU_CODE90           7296 non-null   int64  \n",
      " 16  T_TEXTURE           7296 non-null   int64  \n",
      " 17  DRAINAGE            7296 non-null   int64  \n",
      " 18  REF_DEPTH           7296 non-null   int64  \n",
      " 19  AWC_CLASS           7291 non-null   float64\n",
      " 20  PHASE1              1587 non-null   float64\n",
      " 21  PHASE2              0 non-null      float64\n",
      " 22  ROOTS               0 non-null      float64\n",
      " 23  IL                  0 non-null      float64\n",
      " 24  SWR                 0 non-null      float64\n",
      " 25  ADD_PROP            7296 non-null   int64  \n",
      " 26  T_GRAVEL            7296 non-null   int64  \n",
      " 27  T_SAND              7296 non-null   int64  \n",
      " 28  T_SILT              7296 non-null   int64  \n",
      " 29  T_CLAY              7296 non-null   int64  \n",
      " 30  T_USDA_TEX_CLASS    7296 non-null   int64  \n",
      " 31  T_REF_BULK_DENSITY  7296 non-null   float64\n",
      " 32  T_OC                7296 non-null   float64\n",
      " 33  T_PH_H2O            7296 non-null   float64\n",
      " 34  T_CEC_CLAY          7296 non-null   int64  \n",
      " 35  T_CEC_SOIL          7296 non-null   int64  \n",
      " 36  T_BS                7296 non-null   int64  \n",
      " 37  T_TEB               7296 non-null   float64\n",
      " 38  T_CACO3             7296 non-null   float64\n",
      " 39  T_CASO4             7296 non-null   int64  \n",
      " 40  T_ESP               7296 non-null   int64  \n",
      " 41  T_ECE               7296 non-null   float64\n",
      " 42  S_GRAVEL            1749 non-null   float64\n",
      " 43  S_SAND              1749 non-null   float64\n",
      " 44  S_SILT              1749 non-null   float64\n",
      " 45  S_CLAY              1749 non-null   float64\n",
      " 46  S_USDA_TEX_CLASS    1749 non-null   float64\n",
      " 47  S_REF_BULK_DENSITY  1749 non-null   float64\n",
      " 48  S_OC                1749 non-null   float64\n",
      " 49  S_PH_H2O            1749 non-null   float64\n",
      " 50  S_CEC_CLAY          1749 non-null   float64\n",
      " 51  S_CEC_SOIL          1749 non-null   float64\n",
      " 52  S_BS                1749 non-null   float64\n",
      " 53  S_TEB               1749 non-null   float64\n",
      " 54  S_CACO3             1749 non-null   float64\n",
      " 55  S_CASO4             1749 non-null   float64\n",
      " 56  S_ESP               1749 non-null   float64\n",
      " 57  S_ECE               1749 non-null   float64\n",
      " 58  RASTERVALU          7296 non-null   int64  \n",
      " 59  RASTERINDEX         7296 non-null   int64  \n",
      "dtypes: float64(33), int64(26), object(1)\n",
      "memory usage: 3.3+ MB\n"
     ]
    }
   ],
   "source": [
    "df = pd.read_csv('D:\\\\1GRADUATED\\\\paper\\\\downscaling_data\\\\Soil_moisture_downscale_czt\\\\Babao_Soil_Point_Properties.csv')\n",
    "df.info()"
   ]
  },
  {
   "cell_type": "code",
   "execution_count": null,
   "id": "56efb84c",
   "metadata": {},
   "outputs": [],
   "source": [
    "filter_index = list(range(16)) \n",
    "filter_index.append(33)\n",
    "filter_index = np.asarray(filter_index) + 26\n",
    "print(filter_index)"
   ]
  },
  {
   "cell_type": "code",
   "execution_count": null,
   "id": "e1bc8727",
   "metadata": {},
   "outputs": [],
   "source": [
    "t_features = df.iloc[:,filter_index]"
   ]
  },
  {
   "cell_type": "code",
   "execution_count": null,
   "id": "19629299",
   "metadata": {},
   "outputs": [],
   "source": [
    "out_dir = 'E:\\\\downscaling\\\\Soil_moisture_downscale_czt\\\\DATASET\\\\INPUT\\\\TEXTURE\\\\'\n",
    "for i in range(df['RASTERINDEX'].max()+1):\n",
    "    filename = f'{i}.npy'\n",
    "    t_features_i = np.asarray(t_features[t_features['RASTERINDEX']==i].iloc[:121, :16])\n",
    "    print(t_features_i.shape)\n",
    "    t_features_i = normalization(t_features_i)\n",
    "    print(t_features_i)\n",
    "#     np.save(out_dir + filename, t_features_i)"
   ]
  },
  {
   "cell_type": "code",
   "execution_count": 5,
   "id": "606d2b1d",
   "metadata": {},
   "outputs": [
    {
     "name": "stdout",
     "output_type": "stream",
     "text": [
      "(121, 16)\n"
     ]
    }
   ],
   "source": [
    "arr_dir = 'D:\\\\1GRADUATED\\\\paper\\\\downscaling_data\\\\Soil_moisture_downscale_czt\\\\DATASET\\\\INPUT\\\\TEXTURE\\\\0.npy'\n",
    "arr = np.load(arr_dir)\n",
    "print(arr.shape)"
   ]
  },
  {
   "cell_type": "code",
   "execution_count": null,
   "id": "c7e6f2e4",
   "metadata": {},
   "outputs": [],
   "source": []
  }
 ],
 "metadata": {
  "kernelspec": {
   "display_name": "Python 3 (ipykernel)",
   "language": "python",
   "name": "python3"
  },
  "language_info": {
   "codemirror_mode": {
    "name": "ipython",
    "version": 3
   },
   "file_extension": ".py",
   "mimetype": "text/x-python",
   "name": "python",
   "nbconvert_exporter": "python",
   "pygments_lexer": "ipython3",
   "version": "3.8.12"
  }
 },
 "nbformat": 4,
 "nbformat_minor": 5
}
