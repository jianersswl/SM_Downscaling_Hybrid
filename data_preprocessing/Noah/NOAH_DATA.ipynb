{
 "cells": [
  {
   "cell_type": "code",
   "execution_count": 1,
   "id": "017eabaa",
   "metadata": {},
   "outputs": [],
   "source": [
    "import pandas as pd\n",
    "import openpyxl"
   ]
  },
  {
   "cell_type": "markdown",
   "id": "05ae482e",
   "metadata": {},
   "source": [
    "## 文件读取和查看基本信息"
   ]
  },
  {
   "cell_type": "code",
   "execution_count": 2,
   "id": "5201d778",
   "metadata": {},
   "outputs": [
    {
     "name": "stdout",
     "output_type": "stream",
     "text": [
      "<class 'pandas.core.frame.DataFrame'>\n",
      "RangeIndex: 53709 entries, 0 to 53708\n",
      "Data columns (total 38 columns):\n",
      " #   Column    Non-Null Count  Dtype \n",
      "---  ------    --------------  ----- \n",
      " 0   Times     53709 non-null  object\n",
      " 1   t         53709 non-null  object\n",
      " 2   STC(1)    53709 non-null  object\n",
      " 3   STC(2)    53709 non-null  object\n",
      " 4   STC(3)    53709 non-null  object\n",
      " 5   STC(4)    53709 non-null  object\n",
      " 6   STC(5)    53709 non-null  object\n",
      " 7   STC(6)    53709 non-null  object\n",
      " 8   STC(7)    53709 non-null  object\n",
      " 9   STC(8)    53709 non-null  object\n",
      " 10  STC(9)    53709 non-null  object\n",
      " 11  STC(10)   53709 non-null  object\n",
      " 12  STC(11)   53709 non-null  object\n",
      " 13  STC(12)   53709 non-null  object\n",
      " 14  STC(13)   53709 non-null  object\n",
      " 15  STC(14)   53709 non-null  object\n",
      " 16  STC(15)   53709 non-null  object\n",
      " 17  STC(16)   53709 non-null  object\n",
      " 18  STC(17)   53709 non-null  object\n",
      " 19  STC(18)   53709 non-null  object\n",
      " 20  SH2O(1)   53709 non-null  object\n",
      " 21  SH2O(2)   53709 non-null  object\n",
      " 22  SH2O(3)   53709 non-null  object\n",
      " 23  SH2O(4)   53709 non-null  object\n",
      " 24  SH2O(5)   53709 non-null  object\n",
      " 25  SH2O(6)   53709 non-null  object\n",
      " 26  SH2O(7)   53709 non-null  object\n",
      " 27  SH2O(8)   53709 non-null  object\n",
      " 28  SH2O(9)   53709 non-null  object\n",
      " 29  SH2O(10)  53709 non-null  object\n",
      " 30  SH2O(11)  53709 non-null  object\n",
      " 31  SH2O(12)  53709 non-null  object\n",
      " 32  SH2O(13)  53709 non-null  object\n",
      " 33  SH2O(14)  53709 non-null  object\n",
      " 34  SH2O(15)  53709 non-null  object\n",
      " 35  SH2O(16)  53709 non-null  object\n",
      " 36  SH2O(17)  53709 non-null  object\n",
      " 37  SH2O(18)  53708 non-null  object\n",
      "dtypes: object(38)\n",
      "memory usage: 15.6+ MB\n",
      "None\n",
      "            Times         t   STC(1)   STC(2)   STC(3)   STC(4)   STC(5)  \\\n",
      "0        YYYYMMDD     HH:mm        K        K        K        K        K   \n",
      "1  I8,1X,2(I2,1X)     G15.6    G15.6    G15.6    G15.6    G15.6    G15.6   \n",
      "2        20100101  00:00:00  252.464  254.969  257.693   260.74  263.165   \n",
      "3        20100101  01:00:00  254.654  255.594  257.577   260.48  263.073   \n",
      "4        20100101  02:00:00  258.061  257.209  257.948  260.327  262.982   \n",
      "\n",
      "    STC(6)   STC(7)   STC(8)  ...     SH2O(9)    SH2O(10)    SH2O(11)  \\\n",
      "0        K        K        K  ...  m{3}·m{-3}  m{3}·m{-3}  m{3}·m{-3}   \n",
      "1    G15.6    G15.6    G15.6  ...       G15.6       G15.6       G15.6   \n",
      "2  264.828  268.266  272.763  ...    0.112669   0.0481312   0.0459867   \n",
      "3  264.824  268.261   272.75  ...    0.112665   0.0481276   0.0459841   \n",
      "4  264.819  268.256  272.737  ...     0.11266   0.0481239   0.0459815   \n",
      "\n",
      "     SH2O(12)    SH2O(13)    SH2O(14)    SH2O(15)    SH2O(16)    SH2O(17)  \\\n",
      "0  m{3}·m{-3}  m{3}·m{-3}  m{3}·m{-3}  m{3}·m{-3}  m{3}·m{-3}  m{3}·m{-3}   \n",
      "1       G15.6       G15.6       G15.6       G15.6       G15.6       G15.6   \n",
      "2    0.028026   0.0346815   0.0418593   0.0479038   0.0509198   0.0432395   \n",
      "3   0.0280248   0.0346809   0.0418595   0.0479053   0.0509227   0.0432398   \n",
      "4   0.0280235   0.0346802   0.0418597   0.0479069   0.0509256   0.0432416   \n",
      "\n",
      "     SH2O(18)  \n",
      "0  m{3}·m{-3}  \n",
      "1         NaN  \n",
      "2   0.0334393  \n",
      "3   0.0334398  \n",
      "4   0.0334402  \n",
      "\n",
      "[5 rows x 38 columns]\n"
     ]
    }
   ],
   "source": [
    "# 设置 Excel 文件路径\n",
    "path = 'OUTPUT91963302_5.xlsx'\n",
    "# 读取 Excel 文件中的数据\n",
    "df = pd.read_excel(path, engine='openpyxl')\n",
    "print(df.info())\n",
    "print(df.head())"
   ]
  },
  {
   "cell_type": "markdown",
   "id": "05f9fbb3",
   "metadata": {},
   "source": [
    "## 数据筛选（根据年份）"
   ]
  },
  {
   "cell_type": "code",
   "execution_count": 3,
   "id": "31d22d70",
   "metadata": {},
   "outputs": [
    {
     "name": "stdout",
     "output_type": "stream",
     "text": [
      "(53707, 38)\n"
     ]
    }
   ],
   "source": [
    "df = df.iloc[2:]\n",
    "print(df.shape)"
   ]
  },
  {
   "cell_type": "code",
   "execution_count": 4,
   "id": "ae4ac312",
   "metadata": {},
   "outputs": [
    {
     "name": "stdout",
     "output_type": "stream",
     "text": [
      "(53707,)\n",
      "(35064, 38)\n"
     ]
    }
   ],
   "source": [
    "# 筛选年份\n",
    "bool_equation = df['Times']<20140101\n",
    "print(bool_equation.shape)\n",
    "df = df[bool_equation]\n",
    "print(df.shape)"
   ]
  },
  {
   "cell_type": "markdown",
   "id": "a1fcdeee",
   "metadata": {},
   "source": [
    "### 2010-2013 日平均"
   ]
  },
  {
   "cell_type": "code",
   "execution_count": 5,
   "id": "9a472918",
   "metadata": {},
   "outputs": [
    {
     "name": "stdout",
     "output_type": "stream",
     "text": [
      "['Times', 'STC(1)', 'STC(2)', 'STC(3)', 'STC(5)', 'STC(6)', 'STC(7)', 'STC(8)']\n"
     ]
    }
   ],
   "source": [
    "# 筛选STC，保留需要的STC列\n",
    "sublist = [1,2,3,5,6,7,8]\n",
    "# 根据列数生成列名字符串\n",
    "subset = ['STC({})'.format(x) for x in sublist]\n",
    "# 把时间列也加进去\n",
    "subset.insert(0, 'Times')\n",
    "print(subset)"
   ]
  },
  {
   "cell_type": "code",
   "execution_count": 6,
   "id": "8afb5069",
   "metadata": {},
   "outputs": [
    {
     "data": {
      "text/html": [
       "<div>\n",
       "<style scoped>\n",
       "    .dataframe tbody tr th:only-of-type {\n",
       "        vertical-align: middle;\n",
       "    }\n",
       "\n",
       "    .dataframe tbody tr th {\n",
       "        vertical-align: top;\n",
       "    }\n",
       "\n",
       "    .dataframe thead th {\n",
       "        text-align: right;\n",
       "    }\n",
       "</style>\n",
       "<table border=\"1\" class=\"dataframe\">\n",
       "  <thead>\n",
       "    <tr style=\"text-align: right;\">\n",
       "      <th></th>\n",
       "      <th>Times</th>\n",
       "      <th>STC(1)</th>\n",
       "      <th>STC(2)</th>\n",
       "      <th>STC(3)</th>\n",
       "      <th>STC(5)</th>\n",
       "      <th>STC(6)</th>\n",
       "      <th>STC(7)</th>\n",
       "      <th>STC(8)</th>\n",
       "    </tr>\n",
       "  </thead>\n",
       "  <tbody>\n",
       "    <tr>\n",
       "      <th>2</th>\n",
       "      <td>20100101</td>\n",
       "      <td>252.464</td>\n",
       "      <td>254.969</td>\n",
       "      <td>257.693</td>\n",
       "      <td>263.165</td>\n",
       "      <td>264.828</td>\n",
       "      <td>268.266</td>\n",
       "      <td>272.763</td>\n",
       "    </tr>\n",
       "    <tr>\n",
       "      <th>3</th>\n",
       "      <td>20100101</td>\n",
       "      <td>254.654</td>\n",
       "      <td>255.594</td>\n",
       "      <td>257.577</td>\n",
       "      <td>263.073</td>\n",
       "      <td>264.824</td>\n",
       "      <td>268.261</td>\n",
       "      <td>272.75</td>\n",
       "    </tr>\n",
       "    <tr>\n",
       "      <th>4</th>\n",
       "      <td>20100101</td>\n",
       "      <td>258.061</td>\n",
       "      <td>257.209</td>\n",
       "      <td>257.948</td>\n",
       "      <td>262.982</td>\n",
       "      <td>264.819</td>\n",
       "      <td>268.256</td>\n",
       "      <td>272.737</td>\n",
       "    </tr>\n",
       "    <tr>\n",
       "      <th>5</th>\n",
       "      <td>20100101</td>\n",
       "      <td>261.983</td>\n",
       "      <td>259.485</td>\n",
       "      <td>258.798</td>\n",
       "      <td>262.901</td>\n",
       "      <td>264.811</td>\n",
       "      <td>268.251</td>\n",
       "      <td>272.768</td>\n",
       "    </tr>\n",
       "    <tr>\n",
       "      <th>6</th>\n",
       "      <td>20100101</td>\n",
       "      <td>265.203</td>\n",
       "      <td>261.799</td>\n",
       "      <td>259.946</td>\n",
       "      <td>262.839</td>\n",
       "      <td>264.801</td>\n",
       "      <td>268.246</td>\n",
       "      <td>272.755</td>\n",
       "    </tr>\n",
       "  </tbody>\n",
       "</table>\n",
       "</div>"
      ],
      "text/plain": [
       "      Times   STC(1)   STC(2)   STC(3)   STC(5)   STC(6)   STC(7)   STC(8)\n",
       "2  20100101  252.464  254.969  257.693  263.165  264.828  268.266  272.763\n",
       "3  20100101  254.654  255.594  257.577  263.073  264.824  268.261   272.75\n",
       "4  20100101  258.061  257.209  257.948  262.982  264.819  268.256  272.737\n",
       "5  20100101  261.983  259.485  258.798  262.901  264.811  268.251  272.768\n",
       "6  20100101  265.203  261.799  259.946  262.839  264.801  268.246  272.755"
      ]
     },
     "execution_count": 6,
     "metadata": {},
     "output_type": "execute_result"
    }
   ],
   "source": [
    "# 根据需要保留的STC列名列表提取数据\n",
    "df_hour = df[subset]\n",
    "df_hour.head()"
   ]
  },
  {
   "cell_type": "code",
   "execution_count": 7,
   "id": "35b4ab7e",
   "metadata": {
    "scrolled": false
   },
   "outputs": [
    {
     "data": {
      "text/plain": [
       "2        20100101\n",
       "26       20100102\n",
       "50       20100103\n",
       "74       20100104\n",
       "98       20100105\n",
       "           ...   \n",
       "34946    20131227\n",
       "34970    20131228\n",
       "34994    20131229\n",
       "35018    20131230\n",
       "35042    20131231\n",
       "Name: Times, Length: 1461, dtype: object"
      ]
     },
     "execution_count": 7,
     "metadata": {},
     "output_type": "execute_result"
    }
   ],
   "source": [
    "# 获取天数列表\n",
    "date = df_hour['Times'].drop_duplicates()\n",
    "date"
   ]
  },
  {
   "cell_type": "code",
   "execution_count": 9,
   "id": "a456c9db",
   "metadata": {},
   "outputs": [
    {
     "data": {
      "text/html": [
       "<div>\n",
       "<style scoped>\n",
       "    .dataframe tbody tr th:only-of-type {\n",
       "        vertical-align: middle;\n",
       "    }\n",
       "\n",
       "    .dataframe tbody tr th {\n",
       "        vertical-align: top;\n",
       "    }\n",
       "\n",
       "    .dataframe thead th {\n",
       "        text-align: right;\n",
       "    }\n",
       "</style>\n",
       "<table border=\"1\" class=\"dataframe\">\n",
       "  <thead>\n",
       "    <tr style=\"text-align: right;\">\n",
       "      <th></th>\n",
       "      <th>STC(1)</th>\n",
       "      <th>STC(2)</th>\n",
       "      <th>STC(3)</th>\n",
       "      <th>STC(5)</th>\n",
       "      <th>STC(6)</th>\n",
       "      <th>STC(7)</th>\n",
       "      <th>STC(8)</th>\n",
       "    </tr>\n",
       "    <tr>\n",
       "      <th>Times</th>\n",
       "      <th></th>\n",
       "      <th></th>\n",
       "      <th></th>\n",
       "      <th></th>\n",
       "      <th></th>\n",
       "      <th></th>\n",
       "      <th></th>\n",
       "    </tr>\n",
       "  </thead>\n",
       "  <tbody>\n",
       "    <tr>\n",
       "      <th>20100101</th>\n",
       "      <td>-12.582583</td>\n",
       "      <td>-12.205500</td>\n",
       "      <td>-11.741167</td>\n",
       "      <td>-9.909208</td>\n",
       "      <td>-8.338667</td>\n",
       "      <td>-4.940375</td>\n",
       "      <td>-0.396667</td>\n",
       "    </tr>\n",
       "    <tr>\n",
       "      <th>20100102</th>\n",
       "      <td>-12.144458</td>\n",
       "      <td>-11.808125</td>\n",
       "      <td>-11.446208</td>\n",
       "      <td>-9.818208</td>\n",
       "      <td>-8.307292</td>\n",
       "      <td>-5.043083</td>\n",
       "      <td>-0.431375</td>\n",
       "    </tr>\n",
       "    <tr>\n",
       "      <th>20100103</th>\n",
       "      <td>-10.098000</td>\n",
       "      <td>-10.225500</td>\n",
       "      <td>-10.309833</td>\n",
       "      <td>-9.550250</td>\n",
       "      <td>-8.235875</td>\n",
       "      <td>-5.125542</td>\n",
       "      <td>-0.483750</td>\n",
       "    </tr>\n",
       "    <tr>\n",
       "      <th>20100104</th>\n",
       "      <td>-8.525958</td>\n",
       "      <td>-8.750167</td>\n",
       "      <td>-8.952917</td>\n",
       "      <td>-8.850875</td>\n",
       "      <td>-7.973333</td>\n",
       "      <td>-5.175208</td>\n",
       "      <td>-0.517792</td>\n",
       "    </tr>\n",
       "    <tr>\n",
       "      <th>20100105</th>\n",
       "      <td>-11.754375</td>\n",
       "      <td>-11.017833</td>\n",
       "      <td>-10.206583</td>\n",
       "      <td>-8.446042</td>\n",
       "      <td>-7.605083</td>\n",
       "      <td>-5.157792</td>\n",
       "      <td>-0.564792</td>\n",
       "    </tr>\n",
       "  </tbody>\n",
       "</table>\n",
       "</div>"
      ],
      "text/plain": [
       "             STC(1)     STC(2)     STC(3)    STC(5)    STC(6)    STC(7)  \\\n",
       "Times                                                                     \n",
       "20100101 -12.582583 -12.205500 -11.741167 -9.909208 -8.338667 -4.940375   \n",
       "20100102 -12.144458 -11.808125 -11.446208 -9.818208 -8.307292 -5.043083   \n",
       "20100103 -10.098000 -10.225500 -10.309833 -9.550250 -8.235875 -5.125542   \n",
       "20100104  -8.525958  -8.750167  -8.952917 -8.850875 -7.973333 -5.175208   \n",
       "20100105 -11.754375 -11.017833 -10.206583 -8.446042 -7.605083 -5.157792   \n",
       "\n",
       "            STC(8)  \n",
       "Times               \n",
       "20100101 -0.396667  \n",
       "20100102 -0.431375  \n",
       "20100103 -0.483750  \n",
       "20100104 -0.517792  \n",
       "20100105 -0.564792  "
      ]
     },
     "execution_count": 9,
     "metadata": {},
     "output_type": "execute_result"
    }
   ],
   "source": [
    "# 创建一个新的DataFrame\n",
    "result = pd.DataFrame(data=None, columns=subset[1:])\n",
    "# 循环天数列表，计算每天的平均\n",
    "for i in date:\n",
    "#     print(i)\n",
    "    # 提取一天24小时的STC\n",
    "    _df = df_hour[df_hour['Times']==i]\n",
    "    # 删除Times列\n",
    "    _df = _df.iloc[:,1:]\n",
    "    # 每列求平均\n",
    "    _df = _df.mean(axis=0)\n",
    "    # 将日均作为一行加入result中\n",
    "    result.loc[i] = _df\n",
    "    \n",
    "# 温度单位转换  \n",
    "result = result - 273.15\n",
    "# 修改列名\n",
    "result = result.reset_index(drop=False)\n",
    "result.columns = subset\n",
    "result = result.set_index('Times')\n",
    "# 保存到xlsx(覆盖)\n",
    "result.to_excel('output.xlsx', engine='openpyxl')\n",
    "result.head()"
   ]
  },
  {
   "cell_type": "code",
   "execution_count": null,
   "id": "1cc9bbdd",
   "metadata": {},
   "outputs": [],
   "source": []
  },
  {
   "cell_type": "code",
   "execution_count": null,
   "id": "be62fb0a",
   "metadata": {},
   "outputs": [],
   "source": []
  },
  {
   "cell_type": "code",
   "execution_count": null,
   "id": "bd57ffd3",
   "metadata": {},
   "outputs": [],
   "source": []
  }
 ],
 "metadata": {
  "kernelspec": {
   "display_name": "Python 3 (ipykernel)",
   "language": "python",
   "name": "python3"
  },
  "language_info": {
   "codemirror_mode": {
    "name": "ipython",
    "version": 3
   },
   "file_extension": ".py",
   "mimetype": "text/x-python",
   "name": "python",
   "nbconvert_exporter": "python",
   "pygments_lexer": "ipython3",
   "version": "3.8.12"
  }
 },
 "nbformat": 4,
 "nbformat_minor": 5
}
