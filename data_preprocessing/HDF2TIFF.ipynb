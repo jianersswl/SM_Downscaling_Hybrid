{
 "cells": [
  {
   "cell_type": "code",
   "execution_count": 42,
   "id": "f1577a07",
   "metadata": {},
   "outputs": [],
   "source": [
    "from osgeo import gdal\n",
    "import numpy as np\n",
    "import json"
   ]
  },
  {
   "cell_type": "code",
   "execution_count": 43,
   "id": "91f0f8b3",
   "metadata": {},
   "outputs": [],
   "source": [
    "input_dir = 'D:\\\\1GRADUATED\\\\paper\\\\downscaling_data\\\\MODIS\\\\MOD11A1\\\\'\n",
    "output_dir = input_dir\n",
    "filename = 'MOD11A1.A2022304.h26v05.006.2022311014636.hdf'"
   ]
  },
  {
   "cell_type": "markdown",
   "id": "d1d59ff3",
   "metadata": {},
   "source": [
    "## 打开HDF文件"
   ]
  },
  {
   "cell_type": "code",
   "execution_count": 44,
   "id": "4430630a",
   "metadata": {},
   "outputs": [],
   "source": [
    "hdf_file = gdal.Open(input_dir + filename)"
   ]
  },
  {
   "cell_type": "markdown",
   "id": "7bb5e89a",
   "metadata": {},
   "source": [
    "## 获取HDF的元数据"
   ]
  },
  {
   "cell_type": "code",
   "execution_count": 48,
   "id": "3cfd6878",
   "metadata": {},
   "outputs": [
    {
     "name": "stdout",
     "output_type": "stream",
     "text": [
      "HDF4_EOS:EOS_GRID:\"D:\\1GRADUATED\\paper\\downscaling_data\\MODIS\\MOD11A1\\MOD11A1.A2022304.h26v05.006.2022311014636.hdf\":MODIS_Grid_Daily_1km_LST:LST_Day_1km\n",
      "Number of bands: 1\n",
      "HDF4_EOS:EOS_GRID:\"D:\\1GRADUATED\\paper\\downscaling_data\\MODIS\\MOD11A1\\MOD11A1.A2022304.h26v05.006.2022311014636.hdf\":MODIS_Grid_Daily_1km_LST:QC_Day\n",
      "Number of bands: 1\n",
      "HDF4_EOS:EOS_GRID:\"D:\\1GRADUATED\\paper\\downscaling_data\\MODIS\\MOD11A1\\MOD11A1.A2022304.h26v05.006.2022311014636.hdf\":MODIS_Grid_Daily_1km_LST:Day_view_time\n",
      "Number of bands: 1\n",
      "HDF4_EOS:EOS_GRID:\"D:\\1GRADUATED\\paper\\downscaling_data\\MODIS\\MOD11A1\\MOD11A1.A2022304.h26v05.006.2022311014636.hdf\":MODIS_Grid_Daily_1km_LST:Day_view_angl\n",
      "Number of bands: 1\n",
      "HDF4_EOS:EOS_GRID:\"D:\\1GRADUATED\\paper\\downscaling_data\\MODIS\\MOD11A1\\MOD11A1.A2022304.h26v05.006.2022311014636.hdf\":MODIS_Grid_Daily_1km_LST:LST_Night_1km\n",
      "Number of bands: 1\n",
      "HDF4_EOS:EOS_GRID:\"D:\\1GRADUATED\\paper\\downscaling_data\\MODIS\\MOD11A1\\MOD11A1.A2022304.h26v05.006.2022311014636.hdf\":MODIS_Grid_Daily_1km_LST:QC_Night\n",
      "Number of bands: 1\n",
      "HDF4_EOS:EOS_GRID:\"D:\\1GRADUATED\\paper\\downscaling_data\\MODIS\\MOD11A1\\MOD11A1.A2022304.h26v05.006.2022311014636.hdf\":MODIS_Grid_Daily_1km_LST:Night_view_time\n",
      "Number of bands: 1\n",
      "HDF4_EOS:EOS_GRID:\"D:\\1GRADUATED\\paper\\downscaling_data\\MODIS\\MOD11A1\\MOD11A1.A2022304.h26v05.006.2022311014636.hdf\":MODIS_Grid_Daily_1km_LST:Night_view_angl\n",
      "Number of bands: 1\n",
      "HDF4_EOS:EOS_GRID:\"D:\\1GRADUATED\\paper\\downscaling_data\\MODIS\\MOD11A1\\MOD11A1.A2022304.h26v05.006.2022311014636.hdf\":MODIS_Grid_Daily_1km_LST:Emis_31\n",
      "Number of bands: 1\n",
      "HDF4_EOS:EOS_GRID:\"D:\\1GRADUATED\\paper\\downscaling_data\\MODIS\\MOD11A1\\MOD11A1.A2022304.h26v05.006.2022311014636.hdf\":MODIS_Grid_Daily_1km_LST:Emis_32\n",
      "Number of bands: 1\n",
      "HDF4_EOS:EOS_GRID:\"D:\\1GRADUATED\\paper\\downscaling_data\\MODIS\\MOD11A1\\MOD11A1.A2022304.h26v05.006.2022311014636.hdf\":MODIS_Grid_Daily_1km_LST:Clear_day_cov\n",
      "Number of bands: 1\n",
      "HDF4_EOS:EOS_GRID:\"D:\\1GRADUATED\\paper\\downscaling_data\\MODIS\\MOD11A1\\MOD11A1.A2022304.h26v05.006.2022311014636.hdf\":MODIS_Grid_Daily_1km_LST:Clear_night_cov\n",
      "Number of bands: 1\n"
     ]
    }
   ],
   "source": [
    "sub_datasets = hdf_file.GetSubDatasets()\n",
    "\n",
    "for i, sub_dataset in enumerate(sub_datasets):\n",
    "    metadata = gdal.Info(sub_dataset[0], format='json')\n",
    "    print(metadata['description'])\n",
    "    # 获取波段数\n",
    "    num_bands = gdal.Open(sub_dataset[0]).RasterCount\n",
    "    print('Number of bands:', num_bands)"
   ]
  },
  {
   "cell_type": "markdown",
   "id": "f4d42913",
   "metadata": {},
   "source": [
    "## 读取HDF数据集转换为TIFF格式并保存"
   ]
  },
  {
   "cell_type": "code",
   "execution_count": 47,
   "id": "c721c7a5",
   "metadata": {},
   "outputs": [
    {
     "name": "stdout",
     "output_type": "stream",
     "text": [
      "Subdataset:  [1200x1200] LST_Day_1km MODIS_Grid_Daily_1km_LST (16-bit unsigned integer)\n",
      "HDF2TIFF: Save file: D:\\1GRADUATED\\paper\\downscaling_data\\MODIS\\MOD11A1\\LST_Day_1km.tif\n",
      "Subdataset:  [1200x1200] QC_Day MODIS_Grid_Daily_1km_LST (8-bit unsigned integer)\n",
      "Subdataset:  [1200x1200] Day_view_time MODIS_Grid_Daily_1km_LST (8-bit unsigned integer)\n",
      "Subdataset:  [1200x1200] Day_view_angl MODIS_Grid_Daily_1km_LST (8-bit unsigned integer)\n",
      "Subdataset:  [1200x1200] LST_Night_1km MODIS_Grid_Daily_1km_LST (16-bit unsigned integer)\n",
      "HDF2TIFF: Save file: D:\\1GRADUATED\\paper\\downscaling_data\\MODIS\\MOD11A1\\LST_Night_1km.tif\n",
      "Subdataset:  [1200x1200] QC_Night MODIS_Grid_Daily_1km_LST (8-bit unsigned integer)\n",
      "Subdataset:  [1200x1200] Night_view_time MODIS_Grid_Daily_1km_LST (8-bit unsigned integer)\n",
      "Subdataset:  [1200x1200] Night_view_angl MODIS_Grid_Daily_1km_LST (8-bit unsigned integer)\n",
      "Subdataset:  [1200x1200] Emis_31 MODIS_Grid_Daily_1km_LST (8-bit unsigned integer)\n",
      "Subdataset:  [1200x1200] Emis_32 MODIS_Grid_Daily_1km_LST (8-bit unsigned integer)\n",
      "Subdataset:  [1200x1200] Clear_day_cov MODIS_Grid_Daily_1km_LST (16-bit unsigned integer)\n",
      "Subdataset:  [1200x1200] Clear_night_cov MODIS_Grid_Daily_1km_LST (16-bit unsigned integer)\n"
     ]
    }
   ],
   "source": [
    "sub_datasets = hdf_file.GetSubDatasets()\n",
    "\n",
    "for i, sub_dataset in enumerate(sub_datasets):\n",
    "    print(\"Subdataset: \", sub_dataset[1])\n",
    "    metadata = gdal.Info(sub_dataset[0], format='json')\n",
    "    \n",
    "    # sub_datasets[0] -> day\n",
    "    # sub_datasets[4] -> night\n",
    "    if(i==0 or i==4):\n",
    "        filename = metadata['description'].split(':')[-1]\n",
    "        data_array = gdal.Open(data_set[0]).ReadAsArray()\n",
    "        \n",
    "         # 创建TIFF文件\n",
    "        driver = gdal.GetDriverByName('GTiff')\n",
    "        output_file = output_dir + filename + '.tif'\n",
    "        rows, cols = data_array.shape\n",
    "        out_raster = driver.Create(output_file, cols, rows, 1, gdal.GDT_Float32)\n",
    "    \n",
    "        # 设置地理参考信息\n",
    "        out_raster.SetGeoTransform(hdf_file.GetGeoTransform())\n",
    "        out_raster.SetProjection(hdf_file.GetProjection())\n",
    "\n",
    "        # 将数据写入TIFF文件\n",
    "        out_raster.GetRasterBand(1).WriteArray(data_array)\n",
    "\n",
    "        # 保存并关闭TIFF文件\n",
    "        out_raster.FlushCache()\n",
    "        out_raster = None\n",
    "        print('HDF2TIFF: Save file: ' + output_file)"
   ]
  },
  {
   "cell_type": "code",
   "execution_count": null,
   "id": "cbac950d",
   "metadata": {},
   "outputs": [],
   "source": []
  }
 ],
 "metadata": {
  "kernelspec": {
   "display_name": "Python 3 (ipykernel)",
   "language": "python",
   "name": "python3"
  },
  "language_info": {
   "codemirror_mode": {
    "name": "ipython",
    "version": 3
   },
   "file_extension": ".py",
   "mimetype": "text/x-python",
   "name": "python",
   "nbconvert_exporter": "python",
   "pygments_lexer": "ipython3",
   "version": "3.8.12"
  }
 },
 "nbformat": 4,
 "nbformat_minor": 5
}
