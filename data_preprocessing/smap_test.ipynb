{
 "cells": [
  {
   "cell_type": "code",
   "execution_count": 1,
   "id": "27d1ba64",
   "metadata": {},
   "outputs": [],
   "source": [
    "def normalization(array_1d):\n",
    "    mean = np.mean(array_1d, axis=0)\n",
    "    std = np.std(array_1d, axis=0)\n",
    "    return (array_1d - mean) / std"
   ]
  },
  {
   "cell_type": "code",
   "execution_count": 2,
   "id": "5b9a0f2b",
   "metadata": {},
   "outputs": [],
   "source": [
    "import os\n",
    "import numpy as np\n",
    "from osgeo import gdal\n",
    "\n",
    "def save_tiff_as_numpy(tiff_file, output_dir, verified_mat, normalization=True):\n",
    "    # Create saving directory\n",
    "    if os.path.exists(output_dir)==False:\n",
    "        os.makedirs(output_dir, exist_ok=True)\n",
    "\n",
    "    # Open the TIFF file\n",
    "    dataset = gdal.Open(tiff_file)\n",
    "\n",
    "    # Loop over all bands in the TIFF file\n",
    "    for i in range(dataset.RasterCount):\n",
    "        # Read the band data as a NumPy array\n",
    "        band = dataset.GetRasterBand(i+1)\n",
    "        data = band.ReadAsArray()\n",
    "#         print(np.count_nonzero(verified_mat==1))\n",
    "        data = data[verified_mat==1]\n",
    "        index = np.where(verified_mat == 1)\n",
    "        print(data)\n",
    "        if normalization == True:\n",
    "            data = normalization(data)\n",
    "        print(data)\n",
    "        for j,val in enumerate(data):\n",
    "            # Construct the output file name\n",
    "            output_file = os.path.join(output_dir, f\"{j}.npy\")\n",
    "            print(output_file)\n",
    "\n",
    "            # Save the data as a NumPy file\n",
    "            np.save(output_file, [val])\n",
    "\n",
    "    # Close the dataset\n",
    "    dataset = None\n"
   ]
  },
  {
   "cell_type": "code",
   "execution_count": 3,
   "id": "3dfddd10",
   "metadata": {},
   "outputs": [],
   "source": [
    "tiff_file = \"D:\\\\1GRADUATED\\\\paper\\\\downscaling_data\\\\Soil_moisture_downscale_czt\\\\SMAP\\\\SMAP_L3_SM_P_E_20151015.tif\"\n",
    "# output_dir = \"E:\\\\downscaling\\\\Soil_moisture_downscale_czt\\\\DATASET\\\\INPUT\\\\SMAP\\\\20151015\"\n",
    "output_label = 'D:\\\\1GRADUATED\\\\paper\\\\downscaling_data\\\\Soil_moisture_downscale_czt\\\\DATASET\\\\LABEL\\\\SMAP\\\\20151015'"
   ]
  },
  {
   "cell_type": "code",
   "execution_count": 4,
   "id": "dd866224",
   "metadata": {},
   "outputs": [
    {
     "name": "stdout",
     "output_type": "stream",
     "text": [
      "(7, 13)\n"
     ]
    }
   ],
   "source": [
    "verified_mat = np.array([[0, 0, 0, 0, 0, 0, 0, 0, 0, 0, 0, 0, 0],\n",
    "                         [0, 0, 0, 0, 0, 0, 0, 0, 0, 0, 0, 0, 0],\n",
    "                         [0, 0, 0, 0, 0, 0, 0, 0, 0, 0, 0, 0, 0],\n",
    "                         [0, 0, 0, 0, 0, 0, 0, 0, 0, 0, 0, 0, 0],\n",
    "                         [0, 0, 0, 0, 0, 0, 0, 0, 0, 0, 0, 0, 0],\n",
    "                         [0, 0, 0, 0, 0, 0, 0, 0, 0, 0, 0, 0, 0],\n",
    "                         [0, 0, 0, 0, 0, 0, 0, 0, 0, 0, 0, 0, 0],\n",
    "                         ])\n",
    "verified_mat[0][2:7] = 1\n",
    "verified_mat[1][0:8] = 1\n",
    "verified_mat[2][0:10] = 1\n",
    "verified_mat[3][0:12] = 1\n",
    "verified_mat[4][2:13] = 1\n",
    "verified_mat[5][6:13] = 1\n",
    "verified_mat[6][7:12] = 1\n",
    "print(verified_mat.shape)"
   ]
  },
  {
   "cell_type": "markdown",
   "id": "7c78eab0",
   "metadata": {},
   "source": [
    "## Generalize for input"
   ]
  },
  {
   "cell_type": "code",
   "execution_count": 5,
   "id": "1244e2b1",
   "metadata": {},
   "outputs": [],
   "source": [
    "# save_tiff_as_numpy(tiff_file, output_dir, verified_mat)"
   ]
  },
  {
   "cell_type": "code",
   "execution_count": 6,
   "id": "8ce76356",
   "metadata": {},
   "outputs": [],
   "source": [
    "# array = np.load(\"E:\\\\downscaling\\\\Soil_moisture_downscale_czt\\\\DATASET\\\\INPUT\\\\SMAP\\\\20151015\\\\0.npy\")\n",
    "# print(np.amin(array))\n",
    "# print(np.amax(array))"
   ]
  },
  {
   "cell_type": "markdown",
   "id": "a7a6b486",
   "metadata": {},
   "source": [
    "## Generalize for label"
   ]
  },
  {
   "cell_type": "code",
   "execution_count": 7,
   "id": "cf905cb4",
   "metadata": {},
   "outputs": [
    {
     "name": "stdout",
     "output_type": "stream",
     "text": [
      "[0.13313057 0.1361016  0.13832921 0.14131626 0.14461254 0.17094056\n",
      " 0.16013144 0.15447293 0.16054168 0.15780436 0.15378113 0.15816492\n",
      " 0.15606903 0.20588906 0.19238798 0.18557811 0.19088855 0.18628415\n",
      " 0.18040083 0.18260983 0.17783995 0.1733416  0.17012884 0.23611072\n",
      " 0.22453853 0.21819113 0.22108494 0.20703988 0.1975557  0.19732055\n",
      " 0.19251652 0.18866937 0.18262868 0.17929573 0.18006228 0.23445493\n",
      " 0.23905636 0.22403793 0.2093372  0.21042618 0.20502137 0.2008504\n",
      " 0.19423947 0.18941475 0.1879104  0.17907844 0.22386418 0.21914823\n",
      " 0.21645768 0.21094441 0.20960554 0.20814203 0.19844204 0.22698545\n",
      " 0.2253719  0.22200696 0.2220985  0.2254908 ]\n",
      "[0.13313057 0.1361016  0.13832921 0.14131626 0.14461254 0.17094056\n",
      " 0.16013144 0.15447293 0.16054168 0.15780436 0.15378113 0.15816492\n",
      " 0.15606903 0.20588906 0.19238798 0.18557811 0.19088855 0.18628415\n",
      " 0.18040083 0.18260983 0.17783995 0.1733416  0.17012884 0.23611072\n",
      " 0.22453853 0.21819113 0.22108494 0.20703988 0.1975557  0.19732055\n",
      " 0.19251652 0.18866937 0.18262868 0.17929573 0.18006228 0.23445493\n",
      " 0.23905636 0.22403793 0.2093372  0.21042618 0.20502137 0.2008504\n",
      " 0.19423947 0.18941475 0.1879104  0.17907844 0.22386418 0.21914823\n",
      " 0.21645768 0.21094441 0.20960554 0.20814203 0.19844204 0.22698545\n",
      " 0.2253719  0.22200696 0.2220985  0.2254908 ]\n",
      "D:\\1GRADUATED\\paper\\downscaling_data\\Soil_moisture_downscale_czt\\DATASET\\LABEL\\SMAP\\20151015\\0.npy\n",
      "D:\\1GRADUATED\\paper\\downscaling_data\\Soil_moisture_downscale_czt\\DATASET\\LABEL\\SMAP\\20151015\\1.npy\n",
      "D:\\1GRADUATED\\paper\\downscaling_data\\Soil_moisture_downscale_czt\\DATASET\\LABEL\\SMAP\\20151015\\2.npy\n",
      "D:\\1GRADUATED\\paper\\downscaling_data\\Soil_moisture_downscale_czt\\DATASET\\LABEL\\SMAP\\20151015\\3.npy\n",
      "D:\\1GRADUATED\\paper\\downscaling_data\\Soil_moisture_downscale_czt\\DATASET\\LABEL\\SMAP\\20151015\\4.npy\n",
      "D:\\1GRADUATED\\paper\\downscaling_data\\Soil_moisture_downscale_czt\\DATASET\\LABEL\\SMAP\\20151015\\5.npy\n",
      "D:\\1GRADUATED\\paper\\downscaling_data\\Soil_moisture_downscale_czt\\DATASET\\LABEL\\SMAP\\20151015\\6.npy\n",
      "D:\\1GRADUATED\\paper\\downscaling_data\\Soil_moisture_downscale_czt\\DATASET\\LABEL\\SMAP\\20151015\\7.npy\n",
      "D:\\1GRADUATED\\paper\\downscaling_data\\Soil_moisture_downscale_czt\\DATASET\\LABEL\\SMAP\\20151015\\8.npy\n",
      "D:\\1GRADUATED\\paper\\downscaling_data\\Soil_moisture_downscale_czt\\DATASET\\LABEL\\SMAP\\20151015\\9.npy\n",
      "D:\\1GRADUATED\\paper\\downscaling_data\\Soil_moisture_downscale_czt\\DATASET\\LABEL\\SMAP\\20151015\\10.npy\n",
      "D:\\1GRADUATED\\paper\\downscaling_data\\Soil_moisture_downscale_czt\\DATASET\\LABEL\\SMAP\\20151015\\11.npy\n",
      "D:\\1GRADUATED\\paper\\downscaling_data\\Soil_moisture_downscale_czt\\DATASET\\LABEL\\SMAP\\20151015\\12.npy\n",
      "D:\\1GRADUATED\\paper\\downscaling_data\\Soil_moisture_downscale_czt\\DATASET\\LABEL\\SMAP\\20151015\\13.npy\n",
      "D:\\1GRADUATED\\paper\\downscaling_data\\Soil_moisture_downscale_czt\\DATASET\\LABEL\\SMAP\\20151015\\14.npy\n",
      "D:\\1GRADUATED\\paper\\downscaling_data\\Soil_moisture_downscale_czt\\DATASET\\LABEL\\SMAP\\20151015\\15.npy\n",
      "D:\\1GRADUATED\\paper\\downscaling_data\\Soil_moisture_downscale_czt\\DATASET\\LABEL\\SMAP\\20151015\\16.npy\n",
      "D:\\1GRADUATED\\paper\\downscaling_data\\Soil_moisture_downscale_czt\\DATASET\\LABEL\\SMAP\\20151015\\17.npy\n",
      "D:\\1GRADUATED\\paper\\downscaling_data\\Soil_moisture_downscale_czt\\DATASET\\LABEL\\SMAP\\20151015\\18.npy\n",
      "D:\\1GRADUATED\\paper\\downscaling_data\\Soil_moisture_downscale_czt\\DATASET\\LABEL\\SMAP\\20151015\\19.npy\n",
      "D:\\1GRADUATED\\paper\\downscaling_data\\Soil_moisture_downscale_czt\\DATASET\\LABEL\\SMAP\\20151015\\20.npy\n",
      "D:\\1GRADUATED\\paper\\downscaling_data\\Soil_moisture_downscale_czt\\DATASET\\LABEL\\SMAP\\20151015\\21.npy\n",
      "D:\\1GRADUATED\\paper\\downscaling_data\\Soil_moisture_downscale_czt\\DATASET\\LABEL\\SMAP\\20151015\\22.npy\n",
      "D:\\1GRADUATED\\paper\\downscaling_data\\Soil_moisture_downscale_czt\\DATASET\\LABEL\\SMAP\\20151015\\23.npy\n",
      "D:\\1GRADUATED\\paper\\downscaling_data\\Soil_moisture_downscale_czt\\DATASET\\LABEL\\SMAP\\20151015\\24.npy\n",
      "D:\\1GRADUATED\\paper\\downscaling_data\\Soil_moisture_downscale_czt\\DATASET\\LABEL\\SMAP\\20151015\\25.npy\n",
      "D:\\1GRADUATED\\paper\\downscaling_data\\Soil_moisture_downscale_czt\\DATASET\\LABEL\\SMAP\\20151015\\26.npy\n",
      "D:\\1GRADUATED\\paper\\downscaling_data\\Soil_moisture_downscale_czt\\DATASET\\LABEL\\SMAP\\20151015\\27.npy\n",
      "D:\\1GRADUATED\\paper\\downscaling_data\\Soil_moisture_downscale_czt\\DATASET\\LABEL\\SMAP\\20151015\\28.npy\n",
      "D:\\1GRADUATED\\paper\\downscaling_data\\Soil_moisture_downscale_czt\\DATASET\\LABEL\\SMAP\\20151015\\29.npy\n",
      "D:\\1GRADUATED\\paper\\downscaling_data\\Soil_moisture_downscale_czt\\DATASET\\LABEL\\SMAP\\20151015\\30.npy\n",
      "D:\\1GRADUATED\\paper\\downscaling_data\\Soil_moisture_downscale_czt\\DATASET\\LABEL\\SMAP\\20151015\\31.npy\n",
      "D:\\1GRADUATED\\paper\\downscaling_data\\Soil_moisture_downscale_czt\\DATASET\\LABEL\\SMAP\\20151015\\32.npy\n",
      "D:\\1GRADUATED\\paper\\downscaling_data\\Soil_moisture_downscale_czt\\DATASET\\LABEL\\SMAP\\20151015\\33.npy\n",
      "D:\\1GRADUATED\\paper\\downscaling_data\\Soil_moisture_downscale_czt\\DATASET\\LABEL\\SMAP\\20151015\\34.npy\n",
      "D:\\1GRADUATED\\paper\\downscaling_data\\Soil_moisture_downscale_czt\\DATASET\\LABEL\\SMAP\\20151015\\35.npy\n",
      "D:\\1GRADUATED\\paper\\downscaling_data\\Soil_moisture_downscale_czt\\DATASET\\LABEL\\SMAP\\20151015\\36.npy\n",
      "D:\\1GRADUATED\\paper\\downscaling_data\\Soil_moisture_downscale_czt\\DATASET\\LABEL\\SMAP\\20151015\\37.npy\n",
      "D:\\1GRADUATED\\paper\\downscaling_data\\Soil_moisture_downscale_czt\\DATASET\\LABEL\\SMAP\\20151015\\38.npy\n",
      "D:\\1GRADUATED\\paper\\downscaling_data\\Soil_moisture_downscale_czt\\DATASET\\LABEL\\SMAP\\20151015\\39.npy\n",
      "D:\\1GRADUATED\\paper\\downscaling_data\\Soil_moisture_downscale_czt\\DATASET\\LABEL\\SMAP\\20151015\\40.npy\n",
      "D:\\1GRADUATED\\paper\\downscaling_data\\Soil_moisture_downscale_czt\\DATASET\\LABEL\\SMAP\\20151015\\41.npy\n",
      "D:\\1GRADUATED\\paper\\downscaling_data\\Soil_moisture_downscale_czt\\DATASET\\LABEL\\SMAP\\20151015\\42.npy\n",
      "D:\\1GRADUATED\\paper\\downscaling_data\\Soil_moisture_downscale_czt\\DATASET\\LABEL\\SMAP\\20151015\\43.npy\n",
      "D:\\1GRADUATED\\paper\\downscaling_data\\Soil_moisture_downscale_czt\\DATASET\\LABEL\\SMAP\\20151015\\44.npy\n",
      "D:\\1GRADUATED\\paper\\downscaling_data\\Soil_moisture_downscale_czt\\DATASET\\LABEL\\SMAP\\20151015\\45.npy\n",
      "D:\\1GRADUATED\\paper\\downscaling_data\\Soil_moisture_downscale_czt\\DATASET\\LABEL\\SMAP\\20151015\\46.npy\n",
      "D:\\1GRADUATED\\paper\\downscaling_data\\Soil_moisture_downscale_czt\\DATASET\\LABEL\\SMAP\\20151015\\47.npy\n",
      "D:\\1GRADUATED\\paper\\downscaling_data\\Soil_moisture_downscale_czt\\DATASET\\LABEL\\SMAP\\20151015\\48.npy\n",
      "D:\\1GRADUATED\\paper\\downscaling_data\\Soil_moisture_downscale_czt\\DATASET\\LABEL\\SMAP\\20151015\\49.npy\n",
      "D:\\1GRADUATED\\paper\\downscaling_data\\Soil_moisture_downscale_czt\\DATASET\\LABEL\\SMAP\\20151015\\50.npy\n",
      "D:\\1GRADUATED\\paper\\downscaling_data\\Soil_moisture_downscale_czt\\DATASET\\LABEL\\SMAP\\20151015\\51.npy\n",
      "D:\\1GRADUATED\\paper\\downscaling_data\\Soil_moisture_downscale_czt\\DATASET\\LABEL\\SMAP\\20151015\\52.npy\n",
      "D:\\1GRADUATED\\paper\\downscaling_data\\Soil_moisture_downscale_czt\\DATASET\\LABEL\\SMAP\\20151015\\53.npy\n",
      "D:\\1GRADUATED\\paper\\downscaling_data\\Soil_moisture_downscale_czt\\DATASET\\LABEL\\SMAP\\20151015\\54.npy\n",
      "D:\\1GRADUATED\\paper\\downscaling_data\\Soil_moisture_downscale_czt\\DATASET\\LABEL\\SMAP\\20151015\\55.npy\n",
      "D:\\1GRADUATED\\paper\\downscaling_data\\Soil_moisture_downscale_czt\\DATASET\\LABEL\\SMAP\\20151015\\56.npy\n",
      "D:\\1GRADUATED\\paper\\downscaling_data\\Soil_moisture_downscale_czt\\DATASET\\LABEL\\SMAP\\20151015\\57.npy\n"
     ]
    }
   ],
   "source": [
    "save_tiff_as_numpy(tiff_file, output_label, verified_mat, False)"
   ]
  }
 ],
 "metadata": {
  "kernelspec": {
   "display_name": "Python 3 (ipykernel)",
   "language": "python",
   "name": "python3"
  },
  "language_info": {
   "codemirror_mode": {
    "name": "ipython",
    "version": 3
   },
   "file_extension": ".py",
   "mimetype": "text/x-python",
   "name": "python",
   "nbconvert_exporter": "python",
   "pygments_lexer": "ipython3",
   "version": "3.8.12"
  }
 },
 "nbformat": 4,
 "nbformat_minor": 5
}
