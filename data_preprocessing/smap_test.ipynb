{
 "cells": [
  {
   "cell_type": "code",
   "execution_count": 86,
   "id": "1ff1610f",
   "metadata": {},
   "outputs": [],
   "source": [
    "import os\n",
    "import numpy as np\n",
    "from osgeo import gdal\n",
    "\n",
    "def save_tiff_as_numpy(tiff_file, output_dir, verified_mat):\n",
    "    # Create saving directory\n",
    "    if os.path.exists(output_dir)==False:\n",
    "        os.makedirs(output_dir, exist_ok=True)\n",
    "\n",
    "    # Open the TIFF file\n",
    "    dataset = gdal.Open(tiff_file)\n",
    "\n",
    "    # Loop over all bands in the TIFF file\n",
    "    for i in range(dataset.RasterCount):\n",
    "        # Read the band data as a NumPy array\n",
    "        band = dataset.GetRasterBand(i+1)\n",
    "        data = band.ReadAsArray()\n",
    "#         print(np.count_nonzero(verified_mat==1))\n",
    "        data = data[verified_mat==1]\n",
    "        index = np.where(verified_mat == 1)\n",
    "        print(index)\n",
    "        for j,val in enumerate(data):\n",
    "            # Construct the output file name\n",
    "            output_file = os.path.join(output_dir, f\"{index[0][j]}_{index[1][j]}.npy\")\n",
    "            print(output_file)\n",
    "\n",
    "            # Save the data as a NumPy file\n",
    "            np.save(output_file, val)\n",
    "\n",
    "    # Close the dataset\n",
    "#     dataset = None\n"
   ]
  },
  {
   "cell_type": "code",
   "execution_count": 87,
   "id": "425a346a",
   "metadata": {},
   "outputs": [],
   "source": [
    "tiff_file = \"E:\\\\downscaling\\\\Soil_moisture_downscale_czt\\\\SMAP\\\\SMAP_L3_SM_P_E_20150401_PM.tif\"\n",
    "output_dir = \"E:\\\\downscaling\\\\Soil_moisture_downscale_czt\\\\SMAP\\\\20150401\""
   ]
  },
  {
   "cell_type": "code",
   "execution_count": 88,
   "id": "ac37c608",
   "metadata": {},
   "outputs": [
    {
     "name": "stdout",
     "output_type": "stream",
     "text": [
      "[[0 0 1 1 1 1 1 0 0 0 0 0 0]\n",
      " [1 1 1 1 1 1 1 1 0 0 0 0 0]\n",
      " [1 1 1 1 1 1 1 1 1 1 0 0 0]\n",
      " [1 1 1 1 1 1 1 1 1 1 1 1 0]\n",
      " [0 0 1 1 1 1 1 1 1 1 1 1 1]\n",
      " [0 0 0 0 0 0 1 1 1 1 1 1 1]\n",
      " [0 0 0 0 0 0 0 1 1 1 1 1 0]]\n"
     ]
    }
   ],
   "source": [
    "verified_mat = np.array([[0, 0, 0, 0, 0, 0, 0, 0, 0, 0, 0, 0, 0],\n",
    "                         [0, 0, 0, 0, 0, 0, 0, 0, 0, 0, 0, 0, 0],\n",
    "                         [0, 0, 0, 0, 0, 0, 0, 0, 0, 0, 0, 0, 0],\n",
    "                         [0, 0, 0, 0, 0, 0, 0, 0, 0, 0, 0, 0, 0],\n",
    "                         [0, 0, 0, 0, 0, 0, 0, 0, 0, 0, 0, 0, 0],\n",
    "                         [0, 0, 0, 0, 0, 0, 0, 0, 0, 0, 0, 0, 0],\n",
    "                         [0, 0, 0, 0, 0, 0, 0, 0, 0, 0, 0, 0, 0],\n",
    "                         ])\n",
    "verified_mat[0][2:7] = 1\n",
    "verified_mat[1][0:8] = 1\n",
    "verified_mat[2][0:10] = 1\n",
    "verified_mat[3][0:12] = 1\n",
    "verified_mat[4][2:13] = 1\n",
    "verified_mat[5][6:13] = 1\n",
    "verified_mat[6][7:12] = 1\n",
    "print(verified_mat)"
   ]
  },
  {
   "cell_type": "code",
   "execution_count": 91,
   "id": "2b45327d",
   "metadata": {},
   "outputs": [
    {
     "name": "stdout",
     "output_type": "stream",
     "text": [
      "(array([0, 0, 0, 0, 0, 1, 1, 1, 1, 1, 1, 1, 1, 2, 2, 2, 2, 2, 2, 2, 2, 2,\n",
      "       2, 3, 3, 3, 3, 3, 3, 3, 3, 3, 3, 3, 3, 4, 4, 4, 4, 4, 4, 4, 4, 4,\n",
      "       4, 4, 5, 5, 5, 5, 5, 5, 5, 6, 6, 6, 6, 6], dtype=int64), array([ 2,  3,  4,  5,  6,  0,  1,  2,  3,  4,  5,  6,  7,  0,  1,  2,  3,\n",
      "        4,  5,  6,  7,  8,  9,  0,  1,  2,  3,  4,  5,  6,  7,  8,  9, 10,\n",
      "       11,  2,  3,  4,  5,  6,  7,  8,  9, 10, 11, 12,  6,  7,  8,  9, 10,\n",
      "       11, 12,  7,  8,  9, 10, 11], dtype=int64))\n",
      "E:\\downscaling\\Soil_moisture_downscale_czt\\SMAP\\20150401\\0_2.npy\n",
      "E:\\downscaling\\Soil_moisture_downscale_czt\\SMAP\\20150401\\0_3.npy\n",
      "E:\\downscaling\\Soil_moisture_downscale_czt\\SMAP\\20150401\\0_4.npy\n",
      "E:\\downscaling\\Soil_moisture_downscale_czt\\SMAP\\20150401\\0_5.npy\n",
      "E:\\downscaling\\Soil_moisture_downscale_czt\\SMAP\\20150401\\0_6.npy\n",
      "E:\\downscaling\\Soil_moisture_downscale_czt\\SMAP\\20150401\\1_0.npy\n",
      "E:\\downscaling\\Soil_moisture_downscale_czt\\SMAP\\20150401\\1_1.npy\n",
      "E:\\downscaling\\Soil_moisture_downscale_czt\\SMAP\\20150401\\1_2.npy\n",
      "E:\\downscaling\\Soil_moisture_downscale_czt\\SMAP\\20150401\\1_3.npy\n",
      "E:\\downscaling\\Soil_moisture_downscale_czt\\SMAP\\20150401\\1_4.npy\n",
      "E:\\downscaling\\Soil_moisture_downscale_czt\\SMAP\\20150401\\1_5.npy\n",
      "E:\\downscaling\\Soil_moisture_downscale_czt\\SMAP\\20150401\\1_6.npy\n",
      "E:\\downscaling\\Soil_moisture_downscale_czt\\SMAP\\20150401\\1_7.npy\n",
      "E:\\downscaling\\Soil_moisture_downscale_czt\\SMAP\\20150401\\2_0.npy\n",
      "E:\\downscaling\\Soil_moisture_downscale_czt\\SMAP\\20150401\\2_1.npy\n",
      "E:\\downscaling\\Soil_moisture_downscale_czt\\SMAP\\20150401\\2_2.npy\n",
      "E:\\downscaling\\Soil_moisture_downscale_czt\\SMAP\\20150401\\2_3.npy\n",
      "E:\\downscaling\\Soil_moisture_downscale_czt\\SMAP\\20150401\\2_4.npy\n",
      "E:\\downscaling\\Soil_moisture_downscale_czt\\SMAP\\20150401\\2_5.npy\n",
      "E:\\downscaling\\Soil_moisture_downscale_czt\\SMAP\\20150401\\2_6.npy\n",
      "E:\\downscaling\\Soil_moisture_downscale_czt\\SMAP\\20150401\\2_7.npy\n",
      "E:\\downscaling\\Soil_moisture_downscale_czt\\SMAP\\20150401\\2_8.npy\n",
      "E:\\downscaling\\Soil_moisture_downscale_czt\\SMAP\\20150401\\2_9.npy\n",
      "E:\\downscaling\\Soil_moisture_downscale_czt\\SMAP\\20150401\\3_0.npy\n",
      "E:\\downscaling\\Soil_moisture_downscale_czt\\SMAP\\20150401\\3_1.npy\n",
      "E:\\downscaling\\Soil_moisture_downscale_czt\\SMAP\\20150401\\3_2.npy\n",
      "E:\\downscaling\\Soil_moisture_downscale_czt\\SMAP\\20150401\\3_3.npy\n",
      "E:\\downscaling\\Soil_moisture_downscale_czt\\SMAP\\20150401\\3_4.npy\n",
      "E:\\downscaling\\Soil_moisture_downscale_czt\\SMAP\\20150401\\3_5.npy\n",
      "E:\\downscaling\\Soil_moisture_downscale_czt\\SMAP\\20150401\\3_6.npy\n",
      "E:\\downscaling\\Soil_moisture_downscale_czt\\SMAP\\20150401\\3_7.npy\n",
      "E:\\downscaling\\Soil_moisture_downscale_czt\\SMAP\\20150401\\3_8.npy\n",
      "E:\\downscaling\\Soil_moisture_downscale_czt\\SMAP\\20150401\\3_9.npy\n",
      "E:\\downscaling\\Soil_moisture_downscale_czt\\SMAP\\20150401\\3_10.npy\n",
      "E:\\downscaling\\Soil_moisture_downscale_czt\\SMAP\\20150401\\3_11.npy\n",
      "E:\\downscaling\\Soil_moisture_downscale_czt\\SMAP\\20150401\\4_2.npy\n",
      "E:\\downscaling\\Soil_moisture_downscale_czt\\SMAP\\20150401\\4_3.npy\n",
      "E:\\downscaling\\Soil_moisture_downscale_czt\\SMAP\\20150401\\4_4.npy\n",
      "E:\\downscaling\\Soil_moisture_downscale_czt\\SMAP\\20150401\\4_5.npy\n",
      "E:\\downscaling\\Soil_moisture_downscale_czt\\SMAP\\20150401\\4_6.npy\n",
      "E:\\downscaling\\Soil_moisture_downscale_czt\\SMAP\\20150401\\4_7.npy\n",
      "E:\\downscaling\\Soil_moisture_downscale_czt\\SMAP\\20150401\\4_8.npy\n",
      "E:\\downscaling\\Soil_moisture_downscale_czt\\SMAP\\20150401\\4_9.npy\n",
      "E:\\downscaling\\Soil_moisture_downscale_czt\\SMAP\\20150401\\4_10.npy\n",
      "E:\\downscaling\\Soil_moisture_downscale_czt\\SMAP\\20150401\\4_11.npy\n",
      "E:\\downscaling\\Soil_moisture_downscale_czt\\SMAP\\20150401\\4_12.npy\n",
      "E:\\downscaling\\Soil_moisture_downscale_czt\\SMAP\\20150401\\5_6.npy\n",
      "E:\\downscaling\\Soil_moisture_downscale_czt\\SMAP\\20150401\\5_7.npy\n",
      "E:\\downscaling\\Soil_moisture_downscale_czt\\SMAP\\20150401\\5_8.npy\n",
      "E:\\downscaling\\Soil_moisture_downscale_czt\\SMAP\\20150401\\5_9.npy\n",
      "E:\\downscaling\\Soil_moisture_downscale_czt\\SMAP\\20150401\\5_10.npy\n",
      "E:\\downscaling\\Soil_moisture_downscale_czt\\SMAP\\20150401\\5_11.npy\n",
      "E:\\downscaling\\Soil_moisture_downscale_czt\\SMAP\\20150401\\5_12.npy\n",
      "E:\\downscaling\\Soil_moisture_downscale_czt\\SMAP\\20150401\\6_7.npy\n",
      "E:\\downscaling\\Soil_moisture_downscale_czt\\SMAP\\20150401\\6_8.npy\n",
      "E:\\downscaling\\Soil_moisture_downscale_czt\\SMAP\\20150401\\6_9.npy\n",
      "E:\\downscaling\\Soil_moisture_downscale_czt\\SMAP\\20150401\\6_10.npy\n",
      "E:\\downscaling\\Soil_moisture_downscale_czt\\SMAP\\20150401\\6_11.npy\n"
     ]
    }
   ],
   "source": [
    "save_tiff_as_numpy(tiff_file, output_dir, verified_mat)"
   ]
  },
  {
   "cell_type": "code",
   "execution_count": 90,
   "id": "36a864e8",
   "metadata": {},
   "outputs": [
    {
     "name": "stdout",
     "output_type": "stream",
     "text": [
      "0.15427671\n",
      "0.15427671\n"
     ]
    }
   ],
   "source": [
    "array = np.load(\"E:\\\\downscaling\\\\Soil_moisture_downscale_czt\\\\SMAP\\\\20150401\\\\0.npy\")\n",
    "print(np.amin(array))\n",
    "print(np.amax(array))"
   ]
  },
  {
   "cell_type": "code",
   "execution_count": null,
   "id": "78fc0508",
   "metadata": {},
   "outputs": [],
   "source": []
  }
 ],
 "metadata": {
  "kernelspec": {
   "display_name": "Python 3 (ipykernel)",
   "language": "python",
   "name": "python3"
  },
  "language_info": {
   "codemirror_mode": {
    "name": "ipython",
    "version": 3
   },
   "file_extension": ".py",
   "mimetype": "text/x-python",
   "name": "python",
   "nbconvert_exporter": "python",
   "pygments_lexer": "ipython3",
   "version": "3.8.12"
  }
 },
 "nbformat": 4,
 "nbformat_minor": 5
}
